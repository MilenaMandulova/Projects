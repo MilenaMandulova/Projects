{
 "cells": [
  {
   "cell_type": "markdown",
   "id": "08b0f386-89f1-4681-8ad9-2bcc5a099f0a",
   "metadata": {},
   "source": [
    "# Analyzing the Funding of Unicorn Companies\n",
    "## Introduction\n",
    "For this notebook I used the same database as in my educational project \"Analyzing Unicorn Companies\".\n",
    "\n",
    "A preview of the `unicorns` database:\n",
    "\n",
    "### `dates`\n",
    "| Column       | Description                                  |\n",
    "|------------- |--------------------------------------------- |\n",
    "| company_id   | A unique ID for the company.                 |\n",
    "| date_joined  | The date that the company became a unicorn.  |\n",
    "| year_founded | The year that the company was founded.       |\n",
    "\n",
    "### `funding`\n",
    "| Column           | Description                                  |\n",
    "|----------------- |--------------------------------------------- |\n",
    "| company_id       | A unique ID for the company.                 |\n",
    "| valuation        | Company value in US dollars.                 |\n",
    "| funding          | The amount of funding raised in US dollars.  |\n",
    "| select_investors | A list of key investors in the company.      |\n",
    "\n",
    "### `companies`\n",
    "| Column       | Description                                       |\n",
    "|------------- |-------------------------------------------------- |\n",
    "| company_id   | A unique ID for the company.                      |\n",
    "| company      | The name of the company.                          |\n",
    "| city         | The city where the company is headquartered.      |\n",
    "| country      | The country where the company is headquartered.   |\n",
    "| continent    | The continent where the company is headquartered. |\n"
   ]
  },
  {
   "cell_type": "code",
   "execution_count": 1,
   "id": "9cb6dd1f-f0fe-4e5a-b0eb-697f43f38fd2",
   "metadata": {
    "customType": "sql",
    "dataFrameVariableName": "df",
    "executionTime": 1192,
    "initial": false,
    "integrationId": "4000eaff-e663-4eef-88d8-4260bab6c43b",
    "lastSuccessfullyExecutedCode": "-- Find the minimum and the maximum funding. \n\nSELECT  MIN(funding/1000000000::numeric) AS min_funding_billions, \n        MAX(funding/1000000000::numeric) AS max_funding_billions\nFROM funding;"
   },
   "outputs": [
    {
     "data": {
      "application/com.datacamp.data-table.v1+json": {
       "table": {
        "data": [
         {
          "index": 0,
          "max_funding_billions": 14,
          "min_funding_billions": 0
         }
        ],
        "schema": {
         "fields": [
          {
           "name": "index",
           "type": "integer"
          },
          {
           "name": "min_funding_billions",
           "type": "number"
          },
          {
           "name": "max_funding_billions",
           "type": "number"
          }
         ],
         "pandas_version": "1.4.0",
         "primaryKey": [
          "index"
         ]
        }
       },
       "total_rows": 1,
       "truncation_type": null
      },
      "text/html": [
       "<div>\n",
       "<style scoped>\n",
       "    .dataframe tbody tr th:only-of-type {\n",
       "        vertical-align: middle;\n",
       "    }\n",
       "\n",
       "    .dataframe tbody tr th {\n",
       "        vertical-align: top;\n",
       "    }\n",
       "\n",
       "    .dataframe thead th {\n",
       "        text-align: right;\n",
       "    }\n",
       "</style>\n",
       "<table border=\"1\" class=\"dataframe\">\n",
       "  <thead>\n",
       "    <tr style=\"text-align: right;\">\n",
       "      <th></th>\n",
       "      <th>min_funding_billions</th>\n",
       "      <th>max_funding_billions</th>\n",
       "    </tr>\n",
       "  </thead>\n",
       "  <tbody>\n",
       "    <tr>\n",
       "      <th>0</th>\n",
       "      <td>0.0</td>\n",
       "      <td>14.0</td>\n",
       "    </tr>\n",
       "  </tbody>\n",
       "</table>\n",
       "</div>"
      ],
      "text/plain": [
       "   min_funding_billions  max_funding_billions\n",
       "0                   0.0                  14.0"
      ]
     },
     "execution_count": 1,
     "metadata": {},
     "output_type": "execute_result"
    }
   ],
   "source": [
    "# Find the minimum and the maximum funding. \n",
    "\n",
    "SELECT MIN(funding / 1000000000::numeric) AS min_funding_billions, \n",
    "       MAX(funding / 1000000000::numeric) AS max_funding_billions\n",
    "FROM funding;"
   ]
  },
  {
   "cell_type": "code",
   "execution_count": 2,
   "id": "eb09438e-8d47-4c9d-acd7-881fc040dd8d",
   "metadata": {
    "customType": "sql",
    "dataFrameVariableName": "df",
    "executionTime": 846,
    "initial": false,
    "integrationId": "4000eaff-e663-4eef-88d8-4260bab6c43b",
    "lastSuccessfullyExecutedCode": "-- Find the average funding and its median.\n\nSELECT  ROUND(AVG(funding), 2) AS avg_funding, \n        PERCENTILE_DISC(0.5) WITHIN GROUP (ORDER BY funding) AS median\nFROM funding;\n\n-- The distribution of the funding variable is right skewed with some very high values."
   },
   "outputs": [
    {
     "data": {
      "application/com.datacamp.data-table.v1+json": {
       "table": {
        "data": [
         {
          "avg_funding": 551042830.54,
          "index": 0,
          "median": 365000000
         }
        ],
        "schema": {
         "fields": [
          {
           "name": "index",
           "type": "integer"
          },
          {
           "name": "avg_funding",
           "type": "number"
          },
          {
           "name": "median",
           "type": "integer"
          }
         ],
         "pandas_version": "1.4.0",
         "primaryKey": [
          "index"
         ]
        }
       },
       "total_rows": 1,
       "truncation_type": null
      },
      "text/html": [
       "<div>\n",
       "<style scoped>\n",
       "    .dataframe tbody tr th:only-of-type {\n",
       "        vertical-align: middle;\n",
       "    }\n",
       "\n",
       "    .dataframe tbody tr th {\n",
       "        vertical-align: top;\n",
       "    }\n",
       "\n",
       "    .dataframe thead th {\n",
       "        text-align: right;\n",
       "    }\n",
       "</style>\n",
       "<table border=\"1\" class=\"dataframe\">\n",
       "  <thead>\n",
       "    <tr style=\"text-align: right;\">\n",
       "      <th></th>\n",
       "      <th>avg_funding</th>\n",
       "      <th>median</th>\n",
       "    </tr>\n",
       "  </thead>\n",
       "  <tbody>\n",
       "    <tr>\n",
       "      <th>0</th>\n",
       "      <td>5.510428e+08</td>\n",
       "      <td>365000000</td>\n",
       "    </tr>\n",
       "  </tbody>\n",
       "</table>\n",
       "</div>"
      ],
      "text/plain": [
       "    avg_funding     median\n",
       "0  5.510428e+08  365000000"
      ]
     },
     "execution_count": 2,
     "metadata": {},
     "output_type": "execute_result"
    }
   ],
   "source": [
    "# Find the average funding and its median.\n",
    "\n",
    "SELECT ROUND(AVG(funding), 2) AS avg_funding, \n",
    "       PERCENTILE_DISC(0.5) WITHIN GROUP (ORDER BY funding) AS median\n",
    "FROM funding;"
   ]
  },
  {
   "cell_type": "markdown",
   "id": "8f79cbf4",
   "metadata": {},
   "source": [
    "The distribution of the funding variable is right skewed with some very high values."
   ]
  },
  {
   "cell_type": "code",
   "execution_count": 3,
   "id": "365f9054-1756-4d76-9ad4-044bb66d82eb",
   "metadata": {
    "customType": "sql",
    "dataFrameVariableName": "df",
    "executionTime": 1248,
    "initial": false,
    "integrationId": "4000eaff-e663-4eef-88d8-4260bab6c43b",
    "lastSuccessfullyExecutedCode": "-- Find the standard deviation (the typical deviation from the average funding).\n\nSELECT STDDEV_SAMP(funding) AS standard_deviation_dollars\nFROM funding;"
   },
   "outputs": [
    {
     "data": {
      "application/com.datacamp.data-table.v1+json": {
       "table": {
        "data": [
         {
          "index": 0,
          "standard_deviation_dollars": 807719436
         }
        ],
        "schema": {
         "fields": [
          {
           "name": "index",
           "type": "integer"
          },
          {
           "name": "standard_deviation_dollars",
           "type": "integer"
          }
         ],
         "pandas_version": "1.4.0",
         "primaryKey": [
          "index"
         ]
        }
       },
       "total_rows": 1,
       "truncation_type": null
      },
      "text/html": [
       "<div>\n",
       "<style scoped>\n",
       "    .dataframe tbody tr th:only-of-type {\n",
       "        vertical-align: middle;\n",
       "    }\n",
       "\n",
       "    .dataframe tbody tr th {\n",
       "        vertical-align: top;\n",
       "    }\n",
       "\n",
       "    .dataframe thead th {\n",
       "        text-align: right;\n",
       "    }\n",
       "</style>\n",
       "<table border=\"1\" class=\"dataframe\">\n",
       "  <thead>\n",
       "    <tr style=\"text-align: right;\">\n",
       "      <th></th>\n",
       "      <th>standard_deviation_dollars</th>\n",
       "    </tr>\n",
       "  </thead>\n",
       "  <tbody>\n",
       "    <tr>\n",
       "      <th>0</th>\n",
       "      <td>807719436</td>\n",
       "    </tr>\n",
       "  </tbody>\n",
       "</table>\n",
       "</div>"
      ],
      "text/plain": [
       "   standard_deviation_dollars\n",
       "0                   807719436"
      ]
     },
     "execution_count": 3,
     "metadata": {},
     "output_type": "execute_result"
    }
   ],
   "source": [
    "# Find the standard deviation (the typical deviation from the average funding).\n",
    "\n",
    "SELECT STDDEV_SAMP(funding) AS standard_deviation_dollars\n",
    "FROM funding;"
   ]
  },
  {
   "cell_type": "code",
   "execution_count": 4,
   "id": "6f7f046b-16b3-410b-9a9c-09a15b87ef88",
   "metadata": {
    "customType": "sql",
    "dataFrameVariableName": "df",
    "executionTime": 915,
    "initial": false,
    "integrationId": "4000eaff-e663-4eef-88d8-4260bab6c43b",
    "lastSuccessfullyExecutedCode": "-- There are extreme values in the data so the IQR would be a better choice for a measure of dispersion:\n\nSELECT PERCENTILE_DISC(0.75) WITHIN GROUP (ORDER BY funding)  -  PERCENTILE_DISC(0.25) WITHIN GROUP (ORDER BY funding) AS IQR_dollars    \nFROM funding;"
   },
   "outputs": [
    {
     "data": {
      "application/com.datacamp.data-table.v1+json": {
       "table": {
        "data": [
         {
          "index": 0,
          "iqr_dollars": 385000000
         }
        ],
        "schema": {
         "fields": [
          {
           "name": "index",
           "type": "integer"
          },
          {
           "name": "iqr_dollars",
           "type": "integer"
          }
         ],
         "pandas_version": "1.4.0",
         "primaryKey": [
          "index"
         ]
        }
       },
       "total_rows": 1,
       "truncation_type": null
      },
      "text/html": [
       "<div>\n",
       "<style scoped>\n",
       "    .dataframe tbody tr th:only-of-type {\n",
       "        vertical-align: middle;\n",
       "    }\n",
       "\n",
       "    .dataframe tbody tr th {\n",
       "        vertical-align: top;\n",
       "    }\n",
       "\n",
       "    .dataframe thead th {\n",
       "        text-align: right;\n",
       "    }\n",
       "</style>\n",
       "<table border=\"1\" class=\"dataframe\">\n",
       "  <thead>\n",
       "    <tr style=\"text-align: right;\">\n",
       "      <th></th>\n",
       "      <th>iqr_dollars</th>\n",
       "    </tr>\n",
       "  </thead>\n",
       "  <tbody>\n",
       "    <tr>\n",
       "      <th>0</th>\n",
       "      <td>385000000</td>\n",
       "    </tr>\n",
       "  </tbody>\n",
       "</table>\n",
       "</div>"
      ],
      "text/plain": [
       "   iqr_dollars\n",
       "0    385000000"
      ]
     },
     "execution_count": 4,
     "metadata": {},
     "output_type": "execute_result"
    }
   ],
   "source": [
    "# There are extreme values in the data so the IQR would be a better choice for a measure of dispersion:\n",
    "\n",
    "SELECT PERCENTILE_DISC(0.75) WITHIN GROUP (ORDER BY funding)  -  PERCENTILE_DISC(0.25) WITHIN GROUP (ORDER BY funding) AS IQR_dollars    \n",
    "FROM funding;"
   ]
  },
  {
   "cell_type": "code",
   "execution_count": 5,
   "id": "5d206897-ff6f-4e7e-bbb1-ac94b7adeac6",
   "metadata": {
    "customType": "sql",
    "dataFrameVariableName": "df",
    "executionTime": 761,
    "initial": false,
    "integrationId": "4000eaff-e663-4eef-88d8-4260bab6c43b",
    "jupyter": {
     "outputs_hidden": false,
     "source_hidden": false
    },
    "lastSuccessfullyExecutedCode": "-- Are there any missing values in the company_id column?\n\nSELECT COUNT(*) - COUNT(funding) AS missing\nFROM funding;\n"
   },
   "outputs": [
    {
     "data": {
      "application/com.datacamp.data-table.v1+json": {
       "table": {
        "data": [
         {
          "index": 0,
          "missing": 0
         }
        ],
        "schema": {
         "fields": [
          {
           "name": "index",
           "type": "integer"
          },
          {
           "name": "missing",
           "type": "integer"
          }
         ],
         "pandas_version": "1.4.0",
         "primaryKey": [
          "index"
         ]
        }
       },
       "total_rows": 1,
       "truncation_type": null
      },
      "text/html": [
       "<div>\n",
       "<style scoped>\n",
       "    .dataframe tbody tr th:only-of-type {\n",
       "        vertical-align: middle;\n",
       "    }\n",
       "\n",
       "    .dataframe tbody tr th {\n",
       "        vertical-align: top;\n",
       "    }\n",
       "\n",
       "    .dataframe thead th {\n",
       "        text-align: right;\n",
       "    }\n",
       "</style>\n",
       "<table border=\"1\" class=\"dataframe\">\n",
       "  <thead>\n",
       "    <tr style=\"text-align: right;\">\n",
       "      <th></th>\n",
       "      <th>missing</th>\n",
       "    </tr>\n",
       "  </thead>\n",
       "  <tbody>\n",
       "    <tr>\n",
       "      <th>0</th>\n",
       "      <td>0</td>\n",
       "    </tr>\n",
       "  </tbody>\n",
       "</table>\n",
       "</div>"
      ],
      "text/plain": [
       "   missing\n",
       "0        0"
      ]
     },
     "execution_count": 5,
     "metadata": {},
     "output_type": "execute_result"
    }
   ],
   "source": [
    "# Are there any missing values in the company_id column?\n",
    "\n",
    "SELECT COUNT(*) - COUNT(funding) AS missing\n",
    "FROM funding;"
   ]
  },
  {
   "cell_type": "code",
   "execution_count": 6,
   "id": "6078a99e-3873-40c9-a0d7-ead9653db985",
   "metadata": {
    "customType": "sql",
    "dataFrameVariableName": "df",
    "executionTime": 2678,
    "initial": false,
    "integrationId": "4000eaff-e663-4eef-88d8-4260bab6c43b",
    "lastSuccessfullyExecutedCode": "-- Create intervals for the funding values.\n\nSELECT GENERATE_SERIES(0, 12500000000, 2500000000) AS lower, \n       GENERATE_SERIES(2500000000, 15000000000, 2500000000) AS upper;\n"
   },
   "outputs": [
    {
     "data": {
      "application/com.datacamp.data-table.v1+json": {
       "table": {
        "data": [
         {
          "index": 0,
          "lower": 0,
          "upper": 2500000000
         },
         {
          "index": 1,
          "lower": 2500000000,
          "upper": 5000000000
         },
         {
          "index": 2,
          "lower": 5000000000,
          "upper": 7500000000
         },
         {
          "index": 3,
          "lower": 7500000000,
          "upper": 10000000000
         },
         {
          "index": 4,
          "lower": 10000000000,
          "upper": 12500000000
         },
         {
          "index": 5,
          "lower": 12500000000,
          "upper": 15000000000
         }
        ],
        "schema": {
         "fields": [
          {
           "name": "index",
           "type": "integer"
          },
          {
           "name": "lower",
           "type": "integer"
          },
          {
           "name": "upper",
           "type": "integer"
          }
         ],
         "pandas_version": "1.4.0",
         "primaryKey": [
          "index"
         ]
        }
       },
       "total_rows": 6,
       "truncation_type": null
      },
      "text/html": [
       "<div>\n",
       "<style scoped>\n",
       "    .dataframe tbody tr th:only-of-type {\n",
       "        vertical-align: middle;\n",
       "    }\n",
       "\n",
       "    .dataframe tbody tr th {\n",
       "        vertical-align: top;\n",
       "    }\n",
       "\n",
       "    .dataframe thead th {\n",
       "        text-align: right;\n",
       "    }\n",
       "</style>\n",
       "<table border=\"1\" class=\"dataframe\">\n",
       "  <thead>\n",
       "    <tr style=\"text-align: right;\">\n",
       "      <th></th>\n",
       "      <th>lower</th>\n",
       "      <th>upper</th>\n",
       "    </tr>\n",
       "  </thead>\n",
       "  <tbody>\n",
       "    <tr>\n",
       "      <th>0</th>\n",
       "      <td>0</td>\n",
       "      <td>2500000000</td>\n",
       "    </tr>\n",
       "    <tr>\n",
       "      <th>1</th>\n",
       "      <td>2500000000</td>\n",
       "      <td>5000000000</td>\n",
       "    </tr>\n",
       "    <tr>\n",
       "      <th>2</th>\n",
       "      <td>5000000000</td>\n",
       "      <td>7500000000</td>\n",
       "    </tr>\n",
       "    <tr>\n",
       "      <th>3</th>\n",
       "      <td>7500000000</td>\n",
       "      <td>10000000000</td>\n",
       "    </tr>\n",
       "    <tr>\n",
       "      <th>4</th>\n",
       "      <td>10000000000</td>\n",
       "      <td>12500000000</td>\n",
       "    </tr>\n",
       "    <tr>\n",
       "      <th>5</th>\n",
       "      <td>12500000000</td>\n",
       "      <td>15000000000</td>\n",
       "    </tr>\n",
       "  </tbody>\n",
       "</table>\n",
       "</div>"
      ],
      "text/plain": [
       "         lower        upper\n",
       "0            0   2500000000\n",
       "1   2500000000   5000000000\n",
       "2   5000000000   7500000000\n",
       "3   7500000000  10000000000\n",
       "4  10000000000  12500000000\n",
       "5  12500000000  15000000000"
      ]
     },
     "execution_count": 6,
     "metadata": {},
     "output_type": "execute_result"
    }
   ],
   "source": [
    "# Create intervals for the funding values.\n",
    "\n",
    "SELECT GENERATE_SERIES(0, 12500000000, 2500000000) AS lower, \n",
    "       GENERATE_SERIES(2500000000, 15000000000, 2500000000) AS upper;"
   ]
  },
  {
   "cell_type": "code",
   "execution_count": 7,
   "id": "cea9a01b-5998-4c9f-a301-9fbe713d39a6",
   "metadata": {
    "customType": "sql",
    "dataFrameVariableName": "df",
    "executionTime": 612,
    "initial": false,
    "integrationId": "4000eaff-e663-4eef-88d8-4260bab6c43b",
    "lastSuccessfullyExecutedCode": "-- Find the number of companies within every range.\n\nWITH bins AS (SELECT GENERATE_SERIES(0, 12.5, 2.5) AS lower, \n                     GENERATE_SERIES(2.5, 15, 2.5) AS upper)\n\nSELECT  lower AS lower_in_billions, \n        upper AS upper_in_billions, \n        COUNT(company_id)\nFROM bins \n     LEFT JOIN funding\n     ON ROUND(funding/1000000000 , 2) >= lower \n        AND ROUND(funding/1000000000 , 2)  < upper\nGROUP BY lower, upper\nORDER BY lower ASC;"
   },
   "outputs": [
    {
     "data": {
      "application/com.datacamp.data-table.v1+json": {
       "table": {
        "data": [
         {
          "count": 1050,
          "index": 0,
          "lower_in_billions": 0,
          "upper_in_billions": 2.5
         },
         {
          "count": 16,
          "index": 1,
          "lower_in_billions": 2.5,
          "upper_in_billions": 5
         },
         {
          "count": 6,
          "index": 2,
          "lower_in_billions": 5,
          "upper_in_billions": 7.5
         },
         {
          "count": 1,
          "index": 3,
          "lower_in_billions": 7.5,
          "upper_in_billions": 10
         },
         {
          "count": 0,
          "index": 4,
          "lower_in_billions": 10,
          "upper_in_billions": 12.5
         },
         {
          "count": 1,
          "index": 5,
          "lower_in_billions": 12.5,
          "upper_in_billions": 15
         }
        ],
        "schema": {
         "fields": [
          {
           "name": "index",
           "type": "integer"
          },
          {
           "name": "lower_in_billions",
           "type": "number"
          },
          {
           "name": "upper_in_billions",
           "type": "number"
          },
          {
           "name": "count",
           "type": "integer"
          }
         ],
         "pandas_version": "1.4.0",
         "primaryKey": [
          "index"
         ]
        }
       },
       "total_rows": 6,
       "truncation_type": null
      },
      "text/html": [
       "<div>\n",
       "<style scoped>\n",
       "    .dataframe tbody tr th:only-of-type {\n",
       "        vertical-align: middle;\n",
       "    }\n",
       "\n",
       "    .dataframe tbody tr th {\n",
       "        vertical-align: top;\n",
       "    }\n",
       "\n",
       "    .dataframe thead th {\n",
       "        text-align: right;\n",
       "    }\n",
       "</style>\n",
       "<table border=\"1\" class=\"dataframe\">\n",
       "  <thead>\n",
       "    <tr style=\"text-align: right;\">\n",
       "      <th></th>\n",
       "      <th>lower_in_billions</th>\n",
       "      <th>upper_in_billions</th>\n",
       "      <th>count</th>\n",
       "    </tr>\n",
       "  </thead>\n",
       "  <tbody>\n",
       "    <tr>\n",
       "      <th>0</th>\n",
       "      <td>0.0</td>\n",
       "      <td>2.5</td>\n",
       "      <td>1050</td>\n",
       "    </tr>\n",
       "    <tr>\n",
       "      <th>1</th>\n",
       "      <td>2.5</td>\n",
       "      <td>5.0</td>\n",
       "      <td>16</td>\n",
       "    </tr>\n",
       "    <tr>\n",
       "      <th>2</th>\n",
       "      <td>5.0</td>\n",
       "      <td>7.5</td>\n",
       "      <td>6</td>\n",
       "    </tr>\n",
       "    <tr>\n",
       "      <th>3</th>\n",
       "      <td>7.5</td>\n",
       "      <td>10.0</td>\n",
       "      <td>1</td>\n",
       "    </tr>\n",
       "    <tr>\n",
       "      <th>4</th>\n",
       "      <td>10.0</td>\n",
       "      <td>12.5</td>\n",
       "      <td>0</td>\n",
       "    </tr>\n",
       "    <tr>\n",
       "      <th>5</th>\n",
       "      <td>12.5</td>\n",
       "      <td>15.0</td>\n",
       "      <td>1</td>\n",
       "    </tr>\n",
       "  </tbody>\n",
       "</table>\n",
       "</div>"
      ],
      "text/plain": [
       "   lower_in_billions  upper_in_billions  count\n",
       "0                0.0                2.5   1050\n",
       "1                2.5                5.0     16\n",
       "2                5.0                7.5      6\n",
       "3                7.5               10.0      1\n",
       "4               10.0               12.5      0\n",
       "5               12.5               15.0      1"
      ]
     },
     "execution_count": 7,
     "metadata": {},
     "output_type": "execute_result"
    }
   ],
   "source": [
    "# Find the number of companies within every range.\n",
    "\n",
    "WITH bins AS (SELECT GENERATE_SERIES(0, 12.5, 2.5) AS lower, \n",
    "                     GENERATE_SERIES(2.5, 15, 2.5) AS upper)\n",
    "\n",
    "SELECT lower AS lower_in_billions, \n",
    "       upper AS upper_in_billions, \n",
    "       COUNT(company_id)\n",
    "FROM bins \n",
    "     LEFT JOIN funding\n",
    "     ON ROUND(funding / 1000000000 , 2) >= lower \n",
    "        AND ROUND(funding / 1000000000 , 2)  < upper\n",
    "GROUP BY lower, upper\n",
    "ORDER BY lower ASC;"
   ]
  },
  {
   "cell_type": "code",
   "execution_count": 8,
   "id": "6435a220-e81d-4884-9f17-60e053edf33f",
   "metadata": {
    "customType": "sql",
    "dataFrameVariableName": "df",
    "executionTime": 895,
    "initial": false,
    "integrationId": "4000eaff-e663-4eef-88d8-4260bab6c43b",
    "lastSuccessfullyExecutedCode": "-- Which are the two companies with the highest funding and in which countries do they operate?\n\nSELECT  company, \n        country, \n        funding\nFROM companies\n     INNER JOIN funding\n     USING(company_id)\nWHERE funding > 7500000000;"
   },
   "outputs": [
    {
     "data": {
      "application/com.datacamp.data-table.v1+json": {
       "table": {
        "data": [
         {
          "company": "JUUL Labs",
          "country": "United States",
          "funding": 14000000000,
          "index": 0
         },
         {
          "company": "Bytedance",
          "country": "China",
          "funding": 8000000000,
          "index": 1
         }
        ],
        "schema": {
         "fields": [
          {
           "name": "index",
           "type": "integer"
          },
          {
           "name": "company",
           "type": "string"
          },
          {
           "name": "country",
           "type": "string"
          },
          {
           "name": "funding",
           "type": "integer"
          }
         ],
         "pandas_version": "1.4.0",
         "primaryKey": [
          "index"
         ]
        }
       },
       "total_rows": 2,
       "truncation_type": null
      },
      "text/html": [
       "<div>\n",
       "<style scoped>\n",
       "    .dataframe tbody tr th:only-of-type {\n",
       "        vertical-align: middle;\n",
       "    }\n",
       "\n",
       "    .dataframe tbody tr th {\n",
       "        vertical-align: top;\n",
       "    }\n",
       "\n",
       "    .dataframe thead th {\n",
       "        text-align: right;\n",
       "    }\n",
       "</style>\n",
       "<table border=\"1\" class=\"dataframe\">\n",
       "  <thead>\n",
       "    <tr style=\"text-align: right;\">\n",
       "      <th></th>\n",
       "      <th>company</th>\n",
       "      <th>country</th>\n",
       "      <th>funding</th>\n",
       "    </tr>\n",
       "  </thead>\n",
       "  <tbody>\n",
       "    <tr>\n",
       "      <th>0</th>\n",
       "      <td>JUUL Labs</td>\n",
       "      <td>United States</td>\n",
       "      <td>14000000000</td>\n",
       "    </tr>\n",
       "    <tr>\n",
       "      <th>1</th>\n",
       "      <td>Bytedance</td>\n",
       "      <td>China</td>\n",
       "      <td>8000000000</td>\n",
       "    </tr>\n",
       "  </tbody>\n",
       "</table>\n",
       "</div>"
      ],
      "text/plain": [
       "     company        country      funding\n",
       "0  JUUL Labs  United States  14000000000\n",
       "1  Bytedance          China   8000000000"
      ]
     },
     "execution_count": 8,
     "metadata": {},
     "output_type": "execute_result"
    }
   ],
   "source": [
    "# Which are the two companies with the highest funding and in which countries do they operate?\n",
    "\n",
    "SELECT company, \n",
    "       country, \n",
    "       funding\n",
    "FROM companies\n",
    "     INNER JOIN funding\n",
    "     USING(company_id)\n",
    "WHERE funding > 7500000000;"
   ]
  },
  {
   "cell_type": "code",
   "execution_count": 9,
   "id": "787b3ba4-0203-4584-86ff-026f00b476ad",
   "metadata": {
    "customType": "sql",
    "dataFrameVariableName": "df",
    "executionTime": 1292,
    "initial": false,
    "integrationId": "4000eaff-e663-4eef-88d8-4260bab6c43b",
    "lastSuccessfullyExecutedCode": "-- Which companies have higher funding than the average funding for the companies in their country?\n\nWITH avg_country AS (SELECT  country, \n                             AVG(funding)\n                     FROM companies \n                          INNER JOIN funding\n                          USING(company_id)\n                     GROUP BY country), \nhigh_funded_companies AS (SELECT company, \n                                 funding\n                          FROM (funding\n                                INNER JOIN companies\n                                USING(company_id)) AS fc\n                          WHERE funding > (SELECT avg_country.avg\n                                           FROM avg_country\n                                           WHERE avg_country.country = fc.country))\n\nSELECT  hfc.company, \n        ROUND((hfc.funding::numeric / 1000000000), 2) AS funding_company_billions, \n        avg.country, ROUND(avg.avg / 1000000000, 2) AS avg_funding_country_billions, \n        (ROUND((hfc.funding::numeric / 1000000000), 2) - ROUND(avg.avg / 1000000000, 2)) AS difference\nFROM companies AS c\n     INNER JOIN funding \n     USING(company_id)\n     INNER JOIN high_funded_companies AS hfc \n     ON c.company = hfc.company\n     INNER JOIN avg_country AS avg\n     ON c.country = avg.country\nORDER BY difference DESC;\n"
   },
   "outputs": [
    {
     "data": {
      "application/com.datacamp.data-table.v1+json": {
       "table": {
        "data": [
         {
          "avg_funding_country_billions": 0.5,
          "company": "JUUL Labs",
          "country": "United States",
          "difference": 13.5,
          "funding_company_billions": 14,
          "index": 0
         },
         {
          "avg_funding_country_billions": 0.65,
          "company": "Bytedance",
          "country": "China",
          "difference": 7.35,
          "funding_company_billions": 8,
          "index": 1
         },
         {
          "avg_funding_country_billions": 0.5,
          "company": "Epic Games",
          "country": "United States",
          "difference": 6.5,
          "funding_company_billions": 7,
          "index": 2
         },
         {
          "avg_funding_country_billions": 0.5,
          "company": "SpaceX",
          "country": "United States",
          "difference": 6.5,
          "funding_company_billions": 7,
          "index": 3
         },
         {
          "avg_funding_country_billions": 0.65,
          "company": "Xingsheng Selected",
          "country": "China",
          "difference": 4.35,
          "funding_company_billions": 5,
          "index": 4
         },
         {
          "avg_funding_country_billions": 0.7,
          "company": "Global Switch",
          "country": "United Kingdom",
          "difference": 4.3,
          "funding_company_billions": 5,
          "index": 5
         },
         {
          "avg_funding_country_billions": 0.73,
          "company": "Swiggy",
          "country": "India",
          "difference": 4.27,
          "funding_company_billions": 5,
          "index": 6
         },
         {
          "avg_funding_country_billions": 1.21,
          "company": "J&T Express",
          "country": "Indonesia",
          "difference": 3.79,
          "funding_company_billions": 5,
          "index": 7
         },
         {
          "avg_funding_country_billions": 0.5,
          "company": "Argo AI",
          "country": "United States",
          "difference": 3.5,
          "funding_company_billions": 4,
          "index": 8
         },
         {
          "avg_funding_country_billions": 0.5,
          "company": "Fanatics",
          "country": "United States",
          "difference": 3.5,
          "funding_company_billions": 4,
          "index": 9
         },
         {
          "avg_funding_country_billions": 0.65,
          "company": "WM Motor",
          "country": "China",
          "difference": 3.35,
          "funding_company_billions": 4,
          "index": 10
         },
         {
          "avg_funding_country_billions": 0.65,
          "company": "Yuanfudao",
          "country": "China",
          "difference": 3.35,
          "funding_company_billions": 4,
          "index": 11
         },
         {
          "avg_funding_country_billions": 0.65,
          "company": "Chehaoduo",
          "country": "China",
          "difference": 3.35,
          "funding_company_billions": 4,
          "index": 12
         },
         {
          "avg_funding_country_billions": 0.73,
          "company": "Ola Cabs",
          "country": "India",
          "difference": 3.27,
          "funding_company_billions": 4,
          "index": 13
         },
         {
          "avg_funding_country_billions": 0.73,
          "company": "BYJU's",
          "country": "India",
          "difference": 3.27,
          "funding_company_billions": 4,
          "index": 14
         },
         {
          "avg_funding_country_billions": 0.5,
          "company": "Databricks",
          "country": "United States",
          "difference": 2.5,
          "funding_company_billions": 3,
          "index": 15
         },
         {
          "avg_funding_country_billions": 0.5,
          "company": "Magic Leap",
          "country": "United States",
          "difference": 2.5,
          "funding_company_billions": 3,
          "index": 16
         },
         {
          "avg_funding_country_billions": 0.5,
          "company": "Instacart",
          "country": "United States",
          "difference": 2.5,
          "funding_company_billions": 3,
          "index": 17
         },
         {
          "avg_funding_country_billions": 0.5,
          "company": "goPuff",
          "country": "United States",
          "difference": 2.5,
          "funding_company_billions": 3,
          "index": 18
         },
         {
          "avg_funding_country_billions": 1.62,
          "company": "Klarna",
          "country": "Sweden",
          "difference": 2.38,
          "funding_company_billions": 4,
          "index": 19
         },
         {
          "avg_funding_country_billions": 1.62,
          "company": "Northvolt",
          "country": "Sweden",
          "difference": 2.38,
          "funding_company_billions": 4,
          "index": 20
         },
         {
          "avg_funding_country_billions": 0.65,
          "company": "Zuoyebang",
          "country": "China",
          "difference": 2.35,
          "funding_company_billions": 3,
          "index": 21
         },
         {
          "avg_funding_country_billions": 0.65,
          "company": "SVOLT",
          "country": "China",
          "difference": 2.35,
          "funding_company_billions": 3,
          "index": 22
         },
         {
          "avg_funding_country_billions": 0.73,
          "company": "OYO Rooms",
          "country": "India",
          "difference": 2.27,
          "funding_company_billions": 3,
          "index": 23
         },
         {
          "avg_funding_country_billions": 0.44,
          "company": "Yanolja",
          "country": "South Korea",
          "difference": 1.56,
          "funding_company_billions": 2,
          "index": 24
         },
         {
          "avg_funding_country_billions": 0.5,
          "company": "Nuro",
          "country": "United States",
          "difference": 1.5,
          "funding_company_billions": 2,
          "index": 25
         },
         {
          "avg_funding_country_billions": 0.5,
          "company": "Articulate",
          "country": "United States",
          "difference": 1.5,
          "funding_company_billions": 2,
          "index": 26
         },
         {
          "avg_funding_country_billions": 0.5,
          "company": "Chime",
          "country": "United States",
          "difference": 1.5,
          "funding_company_billions": 2,
          "index": 27
         },
         {
          "avg_funding_country_billions": 0.5,
          "company": "REEF Technology",
          "country": "United States",
          "difference": 1.5,
          "funding_company_billions": 2,
          "index": 28
         },
         {
          "avg_funding_country_billions": 0.5,
          "company": "Fair",
          "country": "United States",
          "difference": 1.5,
          "funding_company_billions": 2,
          "index": 29
         },
         {
          "avg_funding_country_billions": 0.5,
          "company": "Stripe",
          "country": "United States",
          "difference": 1.5,
          "funding_company_billions": 2,
          "index": 30
         },
         {
          "avg_funding_country_billions": 0.5,
          "company": "Devoted Health",
          "country": "United States",
          "difference": 1.5,
          "funding_company_billions": 2,
          "index": 31
         },
         {
          "avg_funding_country_billions": 0.5,
          "company": "Impossible Foods",
          "country": "United States",
          "difference": 1.5,
          "funding_company_billions": 2,
          "index": 32
         },
         {
          "avg_funding_country_billions": 0.5,
          "company": "Thrasio",
          "country": "United States",
          "difference": 1.5,
          "funding_company_billions": 2,
          "index": 33
         },
         {
          "avg_funding_country_billions": 0.5,
          "company": "Lacework",
          "country": "United States",
          "difference": 1.5,
          "funding_company_billions": 2,
          "index": 34
         },
         {
          "avg_funding_country_billions": 0.5,
          "company": "Flexport",
          "country": "United States",
          "difference": 1.5,
          "funding_company_billions": 2,
          "index": 35
         },
         {
          "avg_funding_country_billions": 0.6,
          "company": "Kavak",
          "country": "Mexico",
          "difference": 1.4,
          "funding_company_billions": 2,
          "index": 36
         },
         {
          "avg_funding_country_billions": 0.6,
          "company": "C6 Bank",
          "country": "Brazil",
          "difference": 1.4,
          "funding_company_billions": 2,
          "index": 37
         },
         {
          "avg_funding_country_billions": 0.63,
          "company": "N26",
          "country": "Germany",
          "difference": 1.37,
          "funding_company_billions": 2,
          "index": 38
         },
         {
          "avg_funding_country_billions": 0.65,
          "company": "Hello TransTech",
          "country": "China",
          "difference": 1.35,
          "funding_company_billions": 2,
          "index": 39
         },
         {
          "avg_funding_country_billions": 0.65,
          "company": "Horizon Robotics",
          "country": "China",
          "difference": 1.35,
          "funding_company_billions": 2,
          "index": 40
         },
         {
          "avg_funding_country_billions": 0.65,
          "company": "Hozon Auto",
          "country": "China",
          "difference": 1.35,
          "funding_company_billions": 2,
          "index": 41
         },
         {
          "avg_funding_country_billions": 0.65,
          "company": "Ziroom",
          "country": "China",
          "difference": 1.35,
          "funding_company_billions": 2,
          "index": 42
         },
         {
          "avg_funding_country_billions": 0.65,
          "company": "Easyhome",
          "country": "China",
          "difference": 1.35,
          "funding_company_billions": 2,
          "index": 43
         },
         {
          "avg_funding_country_billions": 0.65,
          "company": "SHEIN",
          "country": "China",
          "difference": 1.35,
          "funding_company_billions": 2,
          "index": 44
         },
         {
          "avg_funding_country_billions": 0.7,
          "company": "Revolut",
          "country": "United Kingdom",
          "difference": 1.3,
          "funding_company_billions": 2,
          "index": 45
         },
         {
          "avg_funding_country_billions": 0.7,
          "company": "Checkout.com",
          "country": "United Kingdom",
          "difference": 1.3,
          "funding_company_billions": 2,
          "index": 46
         },
         {
          "avg_funding_country_billions": 0.7,
          "company": "Greensill",
          "country": "United Kingdom",
          "difference": 1.3,
          "funding_company_billions": 2,
          "index": 47
         },
         {
          "avg_funding_country_billions": 0.71,
          "company": "Lalamove",
          "country": "Hong Kong",
          "difference": 1.29,
          "funding_company_billions": 2,
          "index": 48
         },
         {
          "avg_funding_country_billions": 0.73,
          "company": "Snapdeal",
          "country": "India",
          "difference": 1.27,
          "funding_company_billions": 2,
          "index": 49
         },
         {
          "avg_funding_country_billions": 0.73,
          "company": "Dream11",
          "country": "India",
          "difference": 1.27,
          "funding_company_billions": 2,
          "index": 50
         },
         {
          "avg_funding_country_billions": 0.88,
          "company": "Getir",
          "country": "Turkey",
          "difference": 1.12,
          "funding_company_billions": 2,
          "index": 51
         },
         {
          "avg_funding_country_billions": 1.17,
          "company": "Rappi",
          "country": "Colombia",
          "difference": 0.83,
          "funding_company_billions": 2,
          "index": 52
         },
         {
          "avg_funding_country_billions": 0.33,
          "company": "1Password",
          "country": "Canada",
          "difference": 0.59,
          "funding_company_billions": 0.92,
          "index": 53
         },
         {
          "avg_funding_country_billions": 0.47,
          "company": "Trax",
          "country": "Singapore",
          "difference": 0.53,
          "funding_company_billions": 1,
          "index": 54
         },
         {
          "avg_funding_country_billions": 0.49,
          "company": "MessageBird",
          "country": "Netherlands",
          "difference": 0.51,
          "funding_company_billions": 1,
          "index": 55
         },
         {
          "avg_funding_country_billions": 0.47,
          "company": "Ninja Van",
          "country": "Singapore",
          "difference": 0.51,
          "funding_company_billions": 0.98,
          "index": 56
         },
         {
          "avg_funding_country_billions": 0.5,
          "company": "Snyk",
          "country": "United States",
          "difference": 0.5,
          "funding_company_billions": 1,
          "index": 57
         },
         {
          "avg_funding_country_billions": 0.5,
          "company": "SambaNova Systems",
          "country": "United States",
          "difference": 0.5,
          "funding_company_billions": 1,
          "index": 58
         },
         {
          "avg_funding_country_billions": 0.5,
          "company": "Netskope",
          "country": "United States",
          "difference": 0.5,
          "funding_company_billions": 1,
          "index": 59
         },
         {
          "avg_funding_country_billions": 0.5,
          "company": "Scopely",
          "country": "United States",
          "difference": 0.5,
          "funding_company_billions": 1,
          "index": 60
         },
         {
          "avg_funding_country_billions": 0.5,
          "company": "Caris Life Sciences",
          "country": "United States",
          "difference": 0.5,
          "funding_company_billions": 1,
          "index": 61
         },
         {
          "avg_funding_country_billions": 0.5,
          "company": "Pony.ai",
          "country": "United States",
          "difference": 0.5,
          "funding_company_billions": 1,
          "index": 62
         },
         {
          "avg_funding_country_billions": 0.5,
          "company": "Digital Currency Group",
          "country": "United States",
          "difference": 0.5,
          "funding_company_billions": 1,
          "index": 63
         },
         {
          "avg_funding_country_billions": 0.5,
          "company": "Faire",
          "country": "United States",
          "difference": 0.5,
          "funding_company_billions": 1,
          "index": 64
         },
         {
          "avg_funding_country_billions": 0.5,
          "company": "Airtable",
          "country": "United States",
          "difference": 0.5,
          "funding_company_billions": 1,
          "index": 65
         },
         {
          "avg_funding_country_billions": 0.5,
          "company": "ServiceTitan",
          "country": "United States",
          "difference": 0.5,
          "funding_company_billions": 1,
          "index": 66
         },
         {
          "avg_funding_country_billions": 0.5,
          "company": "Vice Media",
          "country": "United States",
          "difference": 0.5,
          "funding_company_billions": 1,
          "index": 67
         },
         {
          "avg_funding_country_billions": 0.5,
          "company": "DataRobot",
          "country": "United States",
          "difference": 0.5,
          "funding_company_billions": 1,
          "index": 68
         },
         {
          "avg_funding_country_billions": 0.5,
          "company": "Intarcia Therapeutics",
          "country": "United States",
          "difference": 0.5,
          "funding_company_billions": 1,
          "index": 69
         },
         {
          "avg_funding_country_billions": 0.5,
          "company": "Brex",
          "country": "United States",
          "difference": 0.5,
          "funding_company_billions": 1,
          "index": 70
         },
         {
          "avg_funding_country_billions": 0.5,
          "company": "reddit",
          "country": "United States",
          "difference": 0.5,
          "funding_company_billions": 1,
          "index": 71
         },
         {
          "avg_funding_country_billions": 0.5,
          "company": "BlockFi",
          "country": "United States",
          "difference": 0.5,
          "funding_company_billions": 1,
          "index": 72
         },
         {
          "avg_funding_country_billions": 0.5,
          "company": "Bolt",
          "country": "United States",
          "difference": 0.5,
          "funding_company_billions": 1,
          "index": 73
         },
         {
          "avg_funding_country_billions": 0.5,
          "company": "Indigo Ag",
          "country": "United States",
          "difference": 0.5,
          "funding_company_billions": 1,
          "index": 74
         },
         {
          "avg_funding_country_billions": 0.5,
          "company": "Bolt",
          "country": "United States",
          "difference": 0.5,
          "funding_company_billions": 1,
          "index": 75
         },
         {
          "avg_funding_country_billions": 0.5,
          "company": "Carta",
          "country": "United States",
          "difference": 0.5,
          "funding_company_billions": 1,
          "index": 76
         },
         {
          "avg_funding_country_billions": 0.5,
          "company": "Radiology Partners",
          "country": "United States",
          "difference": 0.5,
          "funding_company_billions": 1,
          "index": 77
         },
         {
          "avg_funding_country_billions": 0.5,
          "company": "Dataminr",
          "country": "United States",
          "difference": 0.5,
          "funding_company_billions": 1,
          "index": 78
         },
         {
          "avg_funding_country_billions": 0.5,
          "company": "Ro",
          "country": "United States",
          "difference": 0.5,
          "funding_company_billions": 1,
          "index": 79
         },
         {
          "avg_funding_country_billions": 0.5,
          "company": "Fireblocks",
          "country": "United States",
          "difference": 0.5,
          "funding_company_billions": 1,
          "index": 80
         },
         {
          "avg_funding_country_billions": 0.5,
          "company": "OpenAI",
          "country": "United States",
          "difference": 0.5,
          "funding_company_billions": 1,
          "index": 81
         },
         {
          "avg_funding_country_billions": 0.5,
          "company": "Relativity Space",
          "country": "United States",
          "difference": 0.5,
          "funding_company_billions": 1,
          "index": 82
         },
         {
          "avg_funding_country_billions": 0.5,
          "company": "Varo Bank",
          "country": "United States",
          "difference": 0.49,
          "funding_company_billions": 0.99,
          "index": 83
         },
         {
          "avg_funding_country_billions": 0.5,
          "company": "Discord",
          "country": "United States",
          "difference": 0.48,
          "funding_company_billions": 0.98,
          "index": 84
         },
         {
          "avg_funding_country_billions": 0.34,
          "company": "Airwallex",
          "country": "Australia",
          "difference": 0.46,
          "funding_company_billions": 0.8,
          "index": 85
         },
         {
          "avg_funding_country_billions": 0.54,
          "company": "Back Market",
          "country": "France",
          "difference": 0.46,
          "funding_company_billions": 1,
          "index": 86
         },
         {
          "avg_funding_country_billions": 0.54,
          "company": "OVH",
          "country": "France",
          "difference": 0.46,
          "funding_company_billions": 1,
          "index": 87
         },
         {
          "avg_funding_country_billions": 0.49,
          "company": "Mollie",
          "country": "Netherlands",
          "difference": 0.44,
          "funding_company_billions": 0.93,
          "index": 88
         },
         {
          "avg_funding_country_billions": 0.37,
          "company": "RELEX Solutions",
          "country": "Finland",
          "difference": 0.43,
          "funding_company_billions": 0.8,
          "index": 89
         },
         {
          "avg_funding_country_billions": 0.5,
          "company": "OneTrust",
          "country": "United States",
          "difference": 0.43,
          "funding_company_billions": 0.93,
          "index": 90
         },
         {
          "avg_funding_country_billions": 0.59,
          "company": "Bolt",
          "country": "Estonia",
          "difference": 0.41,
          "funding_company_billions": 1,
          "index": 91
         },
         {
          "avg_funding_country_billions": 0.5,
          "company": "TripActions",
          "country": "United States",
          "difference": 0.41,
          "funding_company_billions": 0.91,
          "index": 92
         },
         {
          "avg_funding_country_billions": 0.54,
          "company": "Mirakl",
          "country": "France",
          "difference": 0.41,
          "funding_company_billions": 0.95,
          "index": 93
         },
         {
          "avg_funding_country_billions": 0.5,
          "company": "Forte Labs",
          "country": "United States",
          "difference": 0.41,
          "funding_company_billions": 0.91,
          "index": 94
         },
         {
          "avg_funding_country_billions": 0.5,
          "company": "Lyra Health",
          "country": "United States",
          "difference": 0.41,
          "funding_company_billions": 0.91,
          "index": 95
         },
         {
          "avg_funding_country_billions": 0.59,
          "company": "Bolt",
          "country": "Estonia",
          "difference": 0.41,
          "funding_company_billions": 1,
          "index": 96
         },
         {
          "avg_funding_country_billions": 0.44,
          "company": "Toss",
          "country": "South Korea",
          "difference": 0.4,
          "funding_company_billions": 0.84,
          "index": 97
         },
         {
          "avg_funding_country_billions": 0.5,
          "company": "Cityblock Health",
          "country": "United States",
          "difference": 0.39,
          "funding_company_billions": 0.89,
          "index": 98
         },
         {
          "avg_funding_country_billions": 0.5,
          "company": "Sila Nanotechnologies",
          "country": "United States",
          "difference": 0.38,
          "funding_company_billions": 0.88,
          "index": 99
         },
         {
          "avg_funding_country_billions": 0.5,
          "company": "Next Insurance",
          "country": "United States",
          "difference": 0.38,
          "funding_company_billions": 0.88,
          "index": 100
         },
         {
          "avg_funding_country_billions": 0.63,
          "company": "Gorillas",
          "country": "Germany",
          "difference": 0.37,
          "funding_company_billions": 1,
          "index": 101
         },
         {
          "avg_funding_country_billions": 0.63,
          "company": "Flink Food",
          "country": "Germany",
          "difference": 0.37,
          "funding_company_billions": 1,
          "index": 102
         },
         {
          "avg_funding_country_billions": 0.5,
          "company": "Farmers Business Network",
          "country": "United States",
          "difference": 0.37,
          "funding_company_billions": 0.87,
          "index": 103
         },
         {
          "avg_funding_country_billions": 0.63,
          "company": "Trade Republic",
          "country": "Germany",
          "difference": 0.37,
          "funding_company_billions": 1,
          "index": 104
         },
         {
          "avg_funding_country_billions": 0.63,
          "company": "Celonis",
          "country": "Germany",
          "difference": 0.37,
          "funding_company_billions": 1,
          "index": 105
         },
         {
          "avg_funding_country_billions": 0.63,
          "company": "FlixBus",
          "country": "Germany",
          "difference": 0.37,
          "funding_company_billions": 1,
          "index": 106
         },
         {
          "avg_funding_country_billions": 0.5,
          "company": "Automattic",
          "country": "United States",
          "difference": 0.36,
          "funding_company_billions": 0.86,
          "index": 107
         },
         {
          "avg_funding_country_billions": 0.5,
          "company": "Celsius Network",
          "country": "United States",
          "difference": 0.36,
          "funding_company_billions": 0.86,
          "index": 108
         },
         {
          "avg_funding_country_billions": 0.5,
          "company": "Weee!",
          "country": "United States",
          "difference": 0.36,
          "funding_company_billions": 0.86,
          "index": 109
         },
         {
          "avg_funding_country_billions": 0.5,
          "company": "Attentive",
          "country": "United States",
          "difference": 0.36,
          "funding_company_billions": 0.86,
          "index": 110
         },
         {
          "avg_funding_country_billions": 0.5,
          "company": "Tradeshift",
          "country": "United States",
          "difference": 0.36,
          "funding_company_billions": 0.86,
          "index": 111
         },
         {
          "avg_funding_country_billions": 0.5,
          "company": "Olive",
          "country": "United States",
          "difference": 0.36,
          "funding_company_billions": 0.86,
          "index": 112
         },
         {
          "avg_funding_country_billions": 0.5,
          "company": "Automation Anywhere",
          "country": "United States",
          "difference": 0.35,
          "funding_company_billions": 0.85,
          "index": 113
         },
         {
          "avg_funding_country_billions": 0.65,
          "company": "Chipone",
          "country": "China",
          "difference": 0.35,
          "funding_company_billions": 1,
          "index": 114
         },
         {
          "avg_funding_country_billions": 0.65,
          "company": "WeRide",
          "country": "China",
          "difference": 0.35,
          "funding_company_billions": 1,
          "index": 115
         },
         {
          "avg_funding_country_billions": 0.65,
          "company": "Lianjia",
          "country": "China",
          "difference": 0.35,
          "funding_company_billions": 1,
          "index": 116
         },
         {
          "avg_funding_country_billions": 0.65,
          "company": "Youxia Motors",
          "country": "China",
          "difference": 0.35,
          "funding_company_billions": 1,
          "index": 117
         },
         {
          "avg_funding_country_billions": 0.65,
          "company": "ENOVATE",
          "country": "China",
          "difference": 0.35,
          "funding_company_billions": 1,
          "index": 118
         },
         {
          "avg_funding_country_billions": 0.65,
          "company": "BYTON",
          "country": "China",
          "difference": 0.35,
          "funding_company_billions": 1,
          "index": 119
         },
         {
          "avg_funding_country_billions": 0.65,
          "company": "Hive Box",
          "country": "China",
          "difference": 0.35,
          "funding_company_billions": 1,
          "index": 120
         },
         {
          "avg_funding_country_billions": 0.65,
          "company": "MEGVII",
          "country": "China",
          "difference": 0.35,
          "funding_company_billions": 1,
          "index": 121
         },
         {
          "avg_funding_country_billions": 0.65,
          "company": "4Paradigm",
          "country": "China",
          "difference": 0.35,
          "funding_company_billions": 1,
          "index": 122
         },
         {
          "avg_funding_country_billions": 0.65,
          "company": "Meicai",
          "country": "China",
          "difference": 0.35,
          "funding_company_billions": 1,
          "index": 123
         },
         {
          "avg_funding_country_billions": 0.65,
          "company": "Leap Motor",
          "country": "China",
          "difference": 0.35,
          "funding_company_billions": 1,
          "index": 124
         },
         {
          "avg_funding_country_billions": 0.65,
          "company": "SouChe Holdings",
          "country": "China",
          "difference": 0.35,
          "funding_company_billions": 1,
          "index": 125
         },
         {
          "avg_funding_country_billions": 0.65,
          "company": "WeDoctor",
          "country": "China",
          "difference": 0.35,
          "funding_company_billions": 1,
          "index": 126
         },
         {
          "avg_funding_country_billions": 0.65,
          "company": "Abogen",
          "country": "China",
          "difference": 0.35,
          "funding_company_billions": 1,
          "index": 127
         },
         {
          "avg_funding_country_billions": 0.65,
          "company": "Momenta",
          "country": "China",
          "difference": 0.35,
          "funding_company_billions": 1,
          "index": 128
         },
         {
          "avg_funding_country_billions": 0.65,
          "company": "VIPKid",
          "country": "China",
          "difference": 0.35,
          "funding_company_billions": 1,
          "index": 129
         },
         {
          "avg_funding_country_billions": 0.65,
          "company": "Zhuan Zhuan",
          "country": "China",
          "difference": 0.34,
          "funding_company_billions": 0.99,
          "index": 130
         },
         {
          "avg_funding_country_billions": 0.5,
          "company": "Hinge Health",
          "country": "United States",
          "difference": 0.33,
          "funding_company_billions": 0.83,
          "index": 131
         },
         {
          "avg_funding_country_billions": 0.57,
          "company": "Jobandtalent",
          "country": "Spain",
          "difference": 0.33,
          "funding_company_billions": 0.9,
          "index": 132
         },
         {
          "avg_funding_country_billions": 0.3,
          "company": "InSightec",
          "country": "Israel",
          "difference": 0.33,
          "funding_company_billions": 0.63,
          "index": 133
         },
         {
          "avg_funding_country_billions": 0.44,
          "company": "Kurly",
          "country": "South Korea",
          "difference": 0.33,
          "funding_company_billions": 0.77,
          "index": 134
         },
         {
          "avg_funding_country_billions": 0.5,
          "company": "Tempus",
          "country": "United States",
          "difference": 0.32,
          "funding_company_billions": 0.82,
          "index": 135
         },
         {
          "avg_funding_country_billions": 0.5,
          "company": "Project44",
          "country": "United States",
          "difference": 0.32,
          "funding_company_billions": 0.82,
          "index": 136
         },
         {
          "avg_funding_country_billions": 0.5,
          "company": "Heyday",
          "country": "United States",
          "difference": 0.3,
          "funding_company_billions": 0.8,
          "index": 137
         },
         {
          "avg_funding_country_billions": 0.65,
          "company": "Xingyun Group",
          "country": "China",
          "difference": 0.3,
          "funding_company_billions": 0.95,
          "index": 138
         },
         {
          "avg_funding_country_billions": 0.65,
          "company": "Miaoshou Doctor",
          "country": "China",
          "difference": 0.3,
          "funding_company_billions": 0.95,
          "index": 139
         },
         {
          "avg_funding_country_billions": 0.5,
          "company": "GoodLeap",
          "country": "United States",
          "difference": 0.3,
          "funding_company_billions": 0.8,
          "index": 140
         },
         {
          "avg_funding_country_billions": 0.65,
          "company": "Carzone",
          "country": "China",
          "difference": 0.3,
          "funding_company_billions": 0.95,
          "index": 141
         },
         {
          "avg_funding_country_billions": 0.7,
          "company": "Hopin",
          "country": "United Kingdom",
          "difference": 0.3,
          "funding_company_billions": 1,
          "index": 142
         },
         {
          "avg_funding_country_billions": 0.5,
          "company": "Biosplice Therapeutics",
          "country": "United States",
          "difference": 0.3,
          "funding_company_billions": 0.8,
          "index": 143
         },
         {
          "avg_funding_country_billions": 0.7,
          "company": "SaltPay",
          "country": "United Kingdom",
          "difference": 0.3,
          "funding_company_billions": 1,
          "index": 144
         },
         {
          "avg_funding_country_billions": 0.7,
          "company": "OakNorth Bank",
          "country": "United Kingdom",
          "difference": 0.3,
          "funding_company_billions": 1,
          "index": 145
         },
         {
          "avg_funding_country_billions": 0.7,
          "company": "SumUp",
          "country": "United Kingdom",
          "difference": 0.3,
          "funding_company_billions": 1,
          "index": 146
         },
         {
          "avg_funding_country_billions": 0.3,
          "company": "Wiz",
          "country": "Israel",
          "difference": 0.3,
          "funding_company_billions": 0.6,
          "index": 147
         },
         {
          "avg_funding_country_billions": 0.7,
          "company": "Monzo",
          "country": "United Kingdom",
          "difference": 0.3,
          "funding_company_billions": 1,
          "index": 148
         },
         {
          "avg_funding_country_billions": 0.5,
          "company": "Harry's",
          "country": "United States",
          "difference": 0.29,
          "funding_company_billions": 0.79,
          "index": 149
         },
         {
          "avg_funding_country_billions": 0.63,
          "company": "wefox",
          "country": "Germany",
          "difference": 0.29,
          "funding_company_billions": 0.92,
          "index": 150
         },
         {
          "avg_funding_country_billions": 0.5,
          "company": "Redwood Materials",
          "country": "United States",
          "difference": 0.29,
          "funding_company_billions": 0.79,
          "index": 151
         },
         {
          "avg_funding_country_billions": 0.65,
          "company": "UBTECH Robotics",
          "country": "China",
          "difference": 0.29,
          "funding_company_billions": 0.94,
          "index": 152
         },
         {
          "avg_funding_country_billions": 0.65,
          "company": "Meizu Technology",
          "country": "China",
          "difference": 0.29,
          "funding_company_billions": 0.94,
          "index": 153
         },
         {
          "avg_funding_country_billions": 0.5,
          "company": "Via",
          "country": "United States",
          "difference": 0.28,
          "funding_company_billions": 0.78,
          "index": 154
         },
         {
          "avg_funding_country_billions": 0.3,
          "company": "Transmit Security",
          "country": "Israel",
          "difference": 0.28,
          "funding_company_billions": 0.58,
          "index": 155
         },
         {
          "avg_funding_country_billions": 0.5,
          "company": "Tanium",
          "country": "United States",
          "difference": 0.28,
          "funding_company_billions": 0.78,
          "index": 156
         },
         {
          "avg_funding_country_billions": 0.5,
          "company": "Cross River Bank",
          "country": "United States",
          "difference": 0.28,
          "funding_company_billions": 0.78,
          "index": 157
         },
         {
          "avg_funding_country_billions": 0.7,
          "company": "CMR Surgical",
          "country": "United Kingdom",
          "difference": 0.28,
          "funding_company_billions": 0.98,
          "index": 158
         },
         {
          "avg_funding_country_billions": 0.54,
          "company": "Doctolib",
          "country": "France",
          "difference": 0.28,
          "funding_company_billions": 0.82,
          "index": 159
         },
         {
          "avg_funding_country_billions": 0.33,
          "company": "Dapper Labs",
          "country": "Canada",
          "difference": 0.28,
          "funding_company_billions": 0.61,
          "index": 160
         },
         {
          "avg_funding_country_billions": 0.5,
          "company": "Niantic",
          "country": "United States",
          "difference": 0.27,
          "funding_company_billions": 0.77,
          "index": 161
         },
         {
          "avg_funding_country_billions": 0.33,
          "company": "Hopper",
          "country": "Canada",
          "difference": 0.27,
          "funding_company_billions": 0.6,
          "index": 162
         },
         {
          "avg_funding_country_billions": 0.73,
          "company": "ShareChat",
          "country": "India",
          "difference": 0.27,
          "funding_company_billions": 1,
          "index": 163
         },
         {
          "avg_funding_country_billions": 0.54,
          "company": "ContentSquare",
          "country": "France",
          "difference": 0.27,
          "funding_company_billions": 0.81,
          "index": 164
         },
         {
          "avg_funding_country_billions": 0.73,
          "company": "Delhivery",
          "country": "India",
          "difference": 0.27,
          "funding_company_billions": 1,
          "index": 165
         },
         {
          "avg_funding_country_billions": 0.73,
          "company": "Meesho",
          "country": "India",
          "difference": 0.27,
          "funding_company_billions": 1,
          "index": 166
         },
         {
          "avg_funding_country_billions": 0.73,
          "company": "Udaan",
          "country": "India",
          "difference": 0.27,
          "funding_company_billions": 1,
          "index": 167
         },
         {
          "avg_funding_country_billions": 0.73,
          "company": "Cars24",
          "country": "India",
          "difference": 0.27,
          "funding_company_billions": 1,
          "index": 168
         },
         {
          "avg_funding_country_billions": 0.65,
          "company": "Xiaohongshu",
          "country": "China",
          "difference": 0.27,
          "funding_company_billions": 0.92,
          "index": 169
         },
         {
          "avg_funding_country_billions": 0.35,
          "company": "Collibra",
          "country": "Belgium",
          "difference": 0.25,
          "funding_company_billions": 0.6,
          "index": 170
         },
         {
          "avg_funding_country_billions": 0.5,
          "company": "Cava Group",
          "country": "United States",
          "difference": 0.24,
          "funding_company_billions": 0.74,
          "index": 171
         },
         {
          "avg_funding_country_billions": 0.28,
          "company": "Spiber",
          "country": "Japan",
          "difference": 0.24,
          "funding_company_billions": 0.52,
          "index": 172
         },
         {
          "avg_funding_country_billions": 0.5,
          "company": "Plaid",
          "country": "United States",
          "difference": 0.23,
          "funding_company_billions": 0.73,
          "index": 173
         },
         {
          "avg_funding_country_billions": 0.3,
          "company": "Cato Networks",
          "country": "Israel",
          "difference": 0.23,
          "funding_company_billions": 0.53,
          "index": 174
         },
         {
          "avg_funding_country_billions": 0.5,
          "company": "Sysdig",
          "country": "United States",
          "difference": 0.23,
          "funding_company_billions": 0.73,
          "index": 175
         },
         {
          "avg_funding_country_billions": 0.5,
          "company": "iCapital Network",
          "country": "United States",
          "difference": 0.23,
          "funding_company_billions": 0.73,
          "index": 176
         },
         {
          "avg_funding_country_billions": 0.5,
          "company": "FiveTran",
          "country": "United States",
          "difference": 0.23,
          "funding_company_billions": 0.73,
          "index": 177
         },
         {
          "avg_funding_country_billions": 0.65,
          "company": "Tuhu",
          "country": "China",
          "difference": 0.23,
          "funding_company_billions": 0.88,
          "index": 178
         },
         {
          "avg_funding_country_billions": 0.25,
          "company": "Mynt",
          "country": "Philippines",
          "difference": 0.23,
          "funding_company_billions": 0.48,
          "index": 179
         },
         {
          "avg_funding_country_billions": 0.34,
          "company": "Canva",
          "country": "Australia",
          "difference": 0.23,
          "funding_company_billions": 0.57,
          "index": 180
         },
         {
          "avg_funding_country_billions": 0.5,
          "company": "Workrise",
          "country": "United States",
          "difference": 0.22,
          "funding_company_billions": 0.72,
          "index": 181
         },
         {
          "avg_funding_country_billions": 0.6,
          "company": "Creditas",
          "country": "Brazil",
          "difference": 0.22,
          "funding_company_billions": 0.82,
          "index": 182
         },
         {
          "avg_funding_country_billions": 0.5,
          "company": "Plume",
          "country": "United States",
          "difference": 0.22,
          "funding_company_billions": 0.72,
          "index": 183
         },
         {
          "avg_funding_country_billions": 0.5,
          "company": "Cerebras Systems",
          "country": "United States",
          "difference": 0.22,
          "funding_company_billions": 0.72,
          "index": 184
         },
         {
          "avg_funding_country_billions": 0.5,
          "company": "Collective Health",
          "country": "United States",
          "difference": 0.22,
          "funding_company_billions": 0.72,
          "index": 185
         },
         {
          "avg_funding_country_billions": 0.5,
          "company": "Circle",
          "country": "United States",
          "difference": 0.21,
          "funding_company_billions": 0.71,
          "index": 186
         },
         {
          "avg_funding_country_billions": 0.5,
          "company": "Cybereason",
          "country": "United States",
          "difference": 0.21,
          "funding_company_billions": 0.71,
          "index": 187
         },
         {
          "avg_funding_country_billions": 0.5,
          "company": "EQRx",
          "country": "United States",
          "difference": 0.2,
          "funding_company_billions": 0.7,
          "index": 188
         },
         {
          "avg_funding_country_billions": 0.33,
          "company": "Assent",
          "country": "Canada",
          "difference": 0.2,
          "funding_company_billions": 0.53,
          "index": 189
         },
         {
          "avg_funding_country_billions": 0.54,
          "company": "Sorare",
          "country": "France",
          "difference": 0.2,
          "funding_company_billions": 0.74,
          "index": 190
         },
         {
          "avg_funding_country_billions": 0.5,
          "company": "Thumbtack",
          "country": "United States",
          "difference": 0.2,
          "funding_company_billions": 0.7,
          "index": 191
         },
         {
          "avg_funding_country_billions": 0.5,
          "company": "Anduril",
          "country": "United States",
          "difference": 0.19,
          "funding_company_billions": 0.69,
          "index": 192
         },
         {
          "avg_funding_country_billions": 0.73,
          "company": "CRED",
          "country": "India",
          "difference": 0.19,
          "funding_company_billions": 0.92,
          "index": 193
         },
         {
          "avg_funding_country_billions": 0.5,
          "company": "Gusto",
          "country": "United States",
          "difference": 0.19,
          "funding_company_billions": 0.69,
          "index": 194
         },
         {
          "avg_funding_country_billions": 0.6,
          "company": "Loft",
          "country": "Brazil",
          "difference": 0.19,
          "funding_company_billions": 0.79,
          "index": 195
         },
         {
          "avg_funding_country_billions": 0.5,
          "company": "Carbon",
          "country": "United States",
          "difference": 0.18,
          "funding_company_billions": 0.68,
          "index": 196
         },
         {
          "avg_funding_country_billions": 0.5,
          "company": "Addepar",
          "country": "United States",
          "difference": 0.18,
          "funding_company_billions": 0.68,
          "index": 197
         },
         {
          "avg_funding_country_billions": 0.5,
          "company": "Klaviyo",
          "country": "United States",
          "difference": 0.18,
          "funding_company_billions": 0.68,
          "index": 198
         },
         {
          "avg_funding_country_billions": 0.63,
          "company": "Berlin Brands Group",
          "country": "Germany",
          "difference": 0.17,
          "funding_company_billions": 0.8,
          "index": 199
         },
         {
          "avg_funding_country_billions": 0.73,
          "company": "Pine Labs",
          "country": "India",
          "difference": 0.17,
          "funding_company_billions": 0.9,
          "index": 200
         },
         {
          "avg_funding_country_billions": 0.5,
          "company": "PsiQuantum",
          "country": "United States",
          "difference": 0.17,
          "funding_company_billions": 0.67,
          "index": 201
         },
         {
          "avg_funding_country_billions": 0.5,
          "company": "Convoy",
          "country": "United States",
          "difference": 0.17,
          "funding_company_billions": 0.67,
          "index": 202
         },
         {
          "avg_funding_country_billions": 0.5,
          "company": "Branch",
          "country": "United States",
          "difference": 0.17,
          "funding_company_billions": 0.67,
          "index": 203
         },
         {
          "avg_funding_country_billions": 0.54,
          "company": "ManoMano",
          "country": "France",
          "difference": 0.17,
          "funding_company_billions": 0.71,
          "index": 204
         },
         {
          "avg_funding_country_billions": 0.71,
          "company": "WeLab",
          "country": "Hong Kong",
          "difference": 0.16,
          "funding_company_billions": 0.87,
          "index": 205
         },
         {
          "avg_funding_country_billions": 0.54,
          "company": "Qonto",
          "country": "France",
          "difference": 0.16,
          "funding_company_billions": 0.7,
          "index": 206
         },
         {
          "avg_funding_country_billions": 0.5,
          "company": "Noom",
          "country": "United States",
          "difference": 0.16,
          "funding_company_billions": 0.66,
          "index": 207
         },
         {
          "avg_funding_country_billions": 0.5,
          "company": "Avant",
          "country": "United States",
          "difference": 0.16,
          "funding_company_billions": 0.66,
          "index": 208
         },
         {
          "avg_funding_country_billions": 0.5,
          "company": "Trumid",
          "country": "United States",
          "difference": 0.16,
          "funding_company_billions": 0.66,
          "index": 209
         },
         {
          "avg_funding_country_billions": 0.5,
          "company": "Ramp",
          "country": "United States",
          "difference": 0.16,
          "funding_company_billions": 0.66,
          "index": 210
         },
         {
          "avg_funding_country_billions": 0.5,
          "company": "Cohesity",
          "country": "United States",
          "difference": 0.16,
          "funding_company_billions": 0.66,
          "index": 211
         },
         {
          "avg_funding_country_billions": 0.5,
          "company": "ConsenSys",
          "country": "United States",
          "difference": 0.16,
          "funding_company_billions": 0.66,
          "index": 212
         },
         {
          "avg_funding_country_billions": 0.6,
          "company": "QuintoAndar",
          "country": "Brazil",
          "difference": 0.16,
          "funding_company_billions": 0.76,
          "index": 213
         },
         {
          "avg_funding_country_billions": 0.5,
          "company": "ThoughtSpot",
          "country": "United States",
          "difference": 0.16,
          "funding_company_billions": 0.66,
          "index": 214
         },
         {
          "avg_funding_country_billions": 0.5,
          "company": "Dataiku",
          "country": "United States",
          "difference": 0.15,
          "funding_company_billions": 0.65,
          "index": 215
         },
         {
          "avg_funding_country_billions": 0.33,
          "company": "ApplyBoard",
          "country": "Canada",
          "difference": 0.15,
          "funding_company_billions": 0.48,
          "index": 216
         },
         {
          "avg_funding_country_billions": 0.5,
          "company": "Black Unicorn Factory",
          "country": "United States",
          "difference": 0.15,
          "funding_company_billions": 0.65,
          "index": 217
         },
         {
          "avg_funding_country_billions": 0.65,
          "company": "Yiguo",
          "country": "China",
          "difference": 0.15,
          "funding_company_billions": 0.8,
          "index": 218
         },
         {
          "avg_funding_country_billions": 0.5,
          "company": "Socure",
          "country": "United States",
          "difference": 0.14,
          "funding_company_billions": 0.64,
          "index": 219
         },
         {
          "avg_funding_country_billions": 0.65,
          "company": "AIWAYS",
          "country": "China",
          "difference": 0.14,
          "funding_company_billions": 0.79,
          "index": 220
         },
         {
          "avg_funding_country_billions": 0.33,
          "company": "Trulioo",
          "country": "Canada",
          "difference": 0.14,
          "funding_company_billions": 0.47,
          "index": 221
         },
         {
          "avg_funding_country_billions": 0.73,
          "company": "DailyHunt",
          "country": "India",
          "difference": 0.14,
          "funding_company_billions": 0.87,
          "index": 222
         },
         {
          "avg_funding_country_billions": 0.65,
          "company": "XtalPi",
          "country": "China",
          "difference": 0.14,
          "funding_company_billions": 0.79,
          "index": 223
         },
         {
          "avg_funding_country_billions": 0.5,
          "company": "Claroty",
          "country": "United States",
          "difference": 0.14,
          "funding_company_billions": 0.64,
          "index": 224
         },
         {
          "avg_funding_country_billions": 0.5,
          "company": "Apeel Sciences",
          "country": "United States",
          "difference": 0.14,
          "funding_company_billions": 0.64,
          "index": 225
         },
         {
          "avg_funding_country_billions": 0.63,
          "company": "SellerX",
          "country": "Germany",
          "difference": 0.14,
          "funding_company_billions": 0.77,
          "index": 226
         },
         {
          "avg_funding_country_billions": 0.5,
          "company": "Highspot",
          "country": "United States",
          "difference": 0.14,
          "funding_company_billions": 0.64,
          "index": 227
         },
         {
          "avg_funding_country_billions": 0.65,
          "company": "Mininglamp Technology",
          "country": "China",
          "difference": 0.14,
          "funding_company_billions": 0.79,
          "index": 228
         },
         {
          "avg_funding_country_billions": 0.65,
          "company": "Yixia",
          "country": "China",
          "difference": 0.13,
          "funding_company_billions": 0.78,
          "index": 229
         },
         {
          "avg_funding_country_billions": 0.28,
          "company": "SmartNews",
          "country": "Japan",
          "difference": 0.13,
          "funding_company_billions": 0.41,
          "index": 230
         },
         {
          "avg_funding_country_billions": 0.5,
          "company": "Orca Security",
          "country": "United States",
          "difference": 0.13,
          "funding_company_billions": 0.63,
          "index": 231
         },
         {
          "avg_funding_country_billions": 0.5,
          "company": "Deel",
          "country": "United States",
          "difference": 0.13,
          "funding_company_billions": 0.63,
          "index": 232
         },
         {
          "avg_funding_country_billions": 0.5,
          "company": "SpotOn",
          "country": "United States",
          "difference": 0.13,
          "funding_company_billions": 0.63,
          "index": 233
         },
         {
          "avg_funding_country_billions": 0.5,
          "company": "Cockroach Labs",
          "country": "United States",
          "difference": 0.13,
          "funding_company_billions": 0.63,
          "index": 234
         },
         {
          "avg_funding_country_billions": 0.7,
          "company": "Gett",
          "country": "United Kingdom",
          "difference": 0.13,
          "funding_company_billions": 0.83,
          "index": 235
         },
         {
          "avg_funding_country_billions": 0.3,
          "company": "Moon Active",
          "country": "Israel",
          "difference": 0.13,
          "funding_company_billions": 0.43,
          "index": 236
         },
         {
          "avg_funding_country_billions": 0.47,
          "company": "Carro",
          "country": "Singapore",
          "difference": 0.13,
          "funding_company_billions": 0.6,
          "index": 237
         },
         {
          "avg_funding_country_billions": 0.65,
          "company": "Xinchao Media",
          "country": "China",
          "difference": 0.12,
          "funding_company_billions": 0.77,
          "index": 238
         },
         {
          "avg_funding_country_billions": 0.5,
          "company": "Zwift",
          "country": "United States",
          "difference": 0.12,
          "funding_company_billions": 0.62,
          "index": 239
         },
         {
          "avg_funding_country_billions": 0.65,
          "company": "Bitmain",
          "country": "China",
          "difference": 0.12,
          "funding_company_billions": 0.77,
          "index": 240
         },
         {
          "avg_funding_country_billions": 0.5,
          "company": "Trader Interactive",
          "country": "United States",
          "difference": 0.12,
          "funding_company_billions": 0.62,
          "index": 241
         },
         {
          "avg_funding_country_billions": 0.6,
          "company": "Neon",
          "country": "Brazil",
          "difference": 0.12,
          "funding_company_billions": 0.72,
          "index": 242
         },
         {
          "avg_funding_country_billions": 0.3,
          "company": "Pagaya",
          "country": "Israel",
          "difference": 0.12,
          "funding_company_billions": 0.42,
          "index": 243
         },
         {
          "avg_funding_country_billions": 0.54,
          "company": "Vestiaire Collective",
          "country": "France",
          "difference": 0.12,
          "funding_company_billions": 0.66,
          "index": 244
         },
         {
          "avg_funding_country_billions": 0.29,
          "company": "Acronis",
          "country": "Switzerland",
          "difference": 0.12,
          "funding_company_billions": 0.41,
          "index": 245
         },
         {
          "avg_funding_country_billions": 0.65,
          "company": "TuJia",
          "country": "China",
          "difference": 0.11,
          "funding_company_billions": 0.76,
          "index": 246
         },
         {
          "avg_funding_country_billions": 0.65,
          "company": "Medlinker",
          "country": "China",
          "difference": 0.11,
          "funding_company_billions": 0.76,
          "index": 247
         },
         {
          "avg_funding_country_billions": 0.5,
          "company": "Uniphore",
          "country": "United States",
          "difference": 0.11,
          "funding_company_billions": 0.61,
          "index": 248
         },
         {
          "avg_funding_country_billions": 0.5,
          "company": "The Brandtech Group",
          "country": "United States",
          "difference": 0.11,
          "funding_company_billions": 0.61,
          "index": 249
         },
         {
          "avg_funding_country_billions": 0.23,
          "company": "Oda",
          "country": "Norway",
          "difference": 0.11,
          "funding_company_billions": 0.34,
          "index": 250
         },
         {
          "avg_funding_country_billions": 0.5,
          "company": "Houzz",
          "country": "United States",
          "difference": 0.11,
          "funding_company_billions": 0.61,
          "index": 251
         },
         {
          "avg_funding_country_billions": 0.5,
          "company": "Dutchie",
          "country": "United States",
          "difference": 0.1,
          "funding_company_billions": 0.6,
          "index": 252
         },
         {
          "avg_funding_country_billions": 0.33,
          "company": "Clearco",
          "country": "Canada",
          "difference": 0.1,
          "funding_company_billions": 0.43,
          "index": 253
         },
         {
          "avg_funding_country_billions": 0.4,
          "company": "Kitopi",
          "country": "United Arab Emirates",
          "difference": 0.1,
          "funding_company_billions": 0.5,
          "index": 254
         },
         {
          "avg_funding_country_billions": 0.25,
          "company": "Flash Express",
          "country": "Thailand",
          "difference": 0.1,
          "funding_company_billions": 0.35,
          "index": 255
         },
         {
          "avg_funding_country_billions": 0.5,
          "company": "Scale AI",
          "country": "United States",
          "difference": 0.1,
          "funding_company_billions": 0.6,
          "index": 256
         },
         {
          "avg_funding_country_billions": 0.7,
          "company": "Starling Bank",
          "country": "United Kingdom",
          "difference": 0.09,
          "funding_company_billions": 0.79,
          "index": 257
         },
         {
          "avg_funding_country_billions": 0.5,
          "company": "Upgrade",
          "country": "United States",
          "difference": 0.09,
          "funding_company_billions": 0.59,
          "index": 258
         },
         {
          "avg_funding_country_billions": 0.5,
          "company": "Veev",
          "country": "United States",
          "difference": 0.09,
          "funding_company_billions": 0.59,
          "index": 259
         },
         {
          "avg_funding_country_billions": 0.65,
          "company": "Cao Cao Mobility",
          "country": "China",
          "difference": 0.09,
          "funding_company_billions": 0.74,
          "index": 260
         },
         {
          "avg_funding_country_billions": 0.7,
          "company": "Zopa",
          "country": "United Kingdom",
          "difference": 0.09,
          "funding_company_billions": 0.79,
          "index": 261
         },
         {
          "avg_funding_country_billions": 0.18,
          "company": "LetsGetChecked",
          "country": "Ireland",
          "difference": 0.08,
          "funding_company_billions": 0.26,
          "index": 262
         },
         {
          "avg_funding_country_billions": 0.5,
          "company": "Fetch Rewards",
          "country": "United States",
          "difference": 0.08,
          "funding_company_billions": 0.58,
          "index": 263
         },
         {
          "avg_funding_country_billions": 0.29,
          "company": "NotCo",
          "country": "Chile",
          "difference": 0.08,
          "funding_company_billions": 0.37,
          "index": 264
         },
         {
          "avg_funding_country_billions": 0.5,
          "company": "Gong",
          "country": "United States",
          "difference": 0.08,
          "funding_company_billions": 0.58,
          "index": 265
         },
         {
          "avg_funding_country_billions": 0.5,
          "company": "Pipe",
          "country": "United States",
          "difference": 0.07,
          "funding_company_billions": 0.57,
          "index": 266
         },
         {
          "avg_funding_country_billions": 0.5,
          "company": "Capsule",
          "country": "United States",
          "difference": 0.07,
          "funding_company_billions": 0.57,
          "index": 267
         },
         {
          "avg_funding_country_billions": 0.5,
          "company": "OutSystems",
          "country": "United States",
          "difference": 0.07,
          "funding_company_billions": 0.57,
          "index": 268
         },
         {
          "avg_funding_country_billions": 0.7,
          "company": "Rapyd",
          "country": "United Kingdom",
          "difference": 0.07,
          "funding_company_billions": 0.77,
          "index": 269
         },
         {
          "avg_funding_country_billions": 0.5,
          "company": "BetterUp",
          "country": "United States",
          "difference": 0.07,
          "funding_company_billions": 0.57,
          "index": 270
         },
         {
          "avg_funding_country_billions": 0.47,
          "company": "Advance Intelligence Group",
          "country": "Singapore",
          "difference": 0.07,
          "funding_company_billions": 0.54,
          "index": 271
         },
         {
          "avg_funding_country_billions": 0.65,
          "company": "Genki Forest",
          "country": "China",
          "difference": 0.07,
          "funding_company_billions": 0.72,
          "index": 272
         },
         {
          "avg_funding_country_billions": 0.18,
          "company": "BrowserStack",
          "country": "Ireland",
          "difference": 0.07,
          "funding_company_billions": 0.25,
          "index": 273
         },
         {
          "avg_funding_country_billions": 0.65,
          "company": "Hesai Tech",
          "country": "China",
          "difference": 0.07,
          "funding_company_billions": 0.72,
          "index": 274
         },
         {
          "avg_funding_country_billions": 0.62,
          "company": "GoStudent",
          "country": "Austria",
          "difference": 0.07,
          "funding_company_billions": 0.69,
          "index": 275
         },
         {
          "avg_funding_country_billions": 0.5,
          "company": "HeartFlow",
          "country": "United States",
          "difference": 0.07,
          "funding_company_billions": 0.57,
          "index": 276
         },
         {
          "avg_funding_country_billions": 0.5,
          "company": "Alchemy",
          "country": "United States",
          "difference": 0.06,
          "funding_company_billions": 0.56,
          "index": 277
         },
         {
          "avg_funding_country_billions": 0.37,
          "company": "MoMo",
          "country": "Vietnam",
          "difference": 0.06,
          "funding_company_billions": 0.43,
          "index": 278
         },
         {
          "avg_funding_country_billions": 0.33,
          "company": "Clio",
          "country": "Canada",
          "difference": 0.06,
          "funding_company_billions": 0.39,
          "index": 279
         },
         {
          "avg_funding_country_billions": 0.65,
          "company": "G7 Networks",
          "country": "China",
          "difference": 0.06,
          "funding_company_billions": 0.71,
          "index": 280
         },
         {
          "avg_funding_country_billions": 0.29,
          "company": "Nexthink",
          "country": "Switzerland",
          "difference": 0.06,
          "funding_company_billions": 0.35,
          "index": 281
         },
         {
          "avg_funding_country_billions": 0.5,
          "company": "Illumio",
          "country": "United States",
          "difference": 0.06,
          "funding_company_billions": 0.56,
          "index": 282
         },
         {
          "avg_funding_country_billions": 0.5,
          "company": "Checkr",
          "country": "United States",
          "difference": 0.06,
          "funding_company_billions": 0.56,
          "index": 283
         },
         {
          "avg_funding_country_billions": 0.18,
          "company": "Wayflyer",
          "country": "Ireland",
          "difference": 0.06,
          "funding_company_billions": 0.24,
          "index": 284
         },
         {
          "avg_funding_country_billions": 0.5,
          "company": "Greenlight",
          "country": "United States",
          "difference": 0.06,
          "funding_company_billions": 0.56,
          "index": 285
         },
         {
          "avg_funding_country_billions": 0.5,
          "company": "MoonPay",
          "country": "United States",
          "difference": 0.06,
          "funding_company_billions": 0.56,
          "index": 286
         },
         {
          "avg_funding_country_billions": 0.73,
          "company": "Unacademy",
          "country": "India",
          "difference": 0.06,
          "funding_company_billions": 0.79,
          "index": 287
         },
         {
          "avg_funding_country_billions": 0.5,
          "company": "Rubrik",
          "country": "United States",
          "difference": 0.05,
          "funding_company_billions": 0.55,
          "index": 288
         },
         {
          "avg_funding_country_billions": 0.47,
          "company": "ONE",
          "country": "Singapore",
          "difference": 0.05,
          "funding_company_billions": 0.52,
          "index": 289
         },
         {
          "avg_funding_country_billions": 0.5,
          "company": "Kaseya",
          "country": "United States",
          "difference": 0.05,
          "funding_company_billions": 0.55,
          "index": 290
         },
         {
          "avg_funding_country_billions": 0.5,
          "company": "Tipalti",
          "country": "United States",
          "difference": 0.05,
          "funding_company_billions": 0.55,
          "index": 291
         },
         {
          "avg_funding_country_billions": 0.5,
          "company": "Kajabi",
          "country": "United States",
          "difference": 0.05,
          "funding_company_billions": 0.55,
          "index": 292
         },
         {
          "avg_funding_country_billions": 0.5,
          "company": "DriveWealth",
          "country": "United States",
          "difference": 0.05,
          "funding_company_billions": 0.55,
          "index": 293
         },
         {
          "avg_funding_country_billions": 0.65,
          "company": "Banma Network Technologies",
          "country": "China",
          "difference": 0.05,
          "funding_company_billions": 0.7,
          "index": 294
         },
         {
          "avg_funding_country_billions": 0.7,
          "company": "Improbable",
          "country": "United Kingdom",
          "difference": 0.05,
          "funding_company_billions": 0.75,
          "index": 295
         },
         {
          "avg_funding_country_billions": 0.73,
          "company": "Lenskart",
          "country": "India",
          "difference": 0.05,
          "funding_company_billions": 0.78,
          "index": 296
         },
         {
          "avg_funding_country_billions": 0.29,
          "company": "MindMaze",
          "country": "Switzerland",
          "difference": 0.05,
          "funding_company_billions": 0.34,
          "index": 297
         },
         {
          "avg_funding_country_billions": 0.5,
          "company": "C2FO",
          "country": "United States",
          "difference": 0.04,
          "funding_company_billions": 0.54,
          "index": 298
         },
         {
          "avg_funding_country_billions": 0.5,
          "company": "ClickUp",
          "country": "United States",
          "difference": 0.04,
          "funding_company_billions": 0.54,
          "index": 299
         },
         {
          "avg_funding_country_billions": 0.23,
          "company": "Gelato",
          "country": "Norway",
          "difference": 0.04,
          "funding_company_billions": 0.27,
          "index": 300
         },
         {
          "avg_funding_country_billions": 0.5,
          "company": "Grafana Labs",
          "country": "United States",
          "difference": 0.04,
          "funding_company_billions": 0.54,
          "index": 301
         },
         {
          "avg_funding_country_billions": 0.5,
          "company": "PAX",
          "country": "United States",
          "difference": 0.04,
          "funding_company_billions": 0.54,
          "index": 302
         },
         {
          "avg_funding_country_billions": 0.5,
          "company": "Commure",
          "country": "United States",
          "difference": 0.04,
          "funding_company_billions": 0.54,
          "index": 303
         },
         {
          "avg_funding_country_billions": 0.5,
          "company": "Paxos",
          "country": "United States",
          "difference": 0.04,
          "funding_company_billions": 0.54,
          "index": 304
         },
         {
          "avg_funding_country_billions": 0.63,
          "company": "GetYourGuide",
          "country": "Germany",
          "difference": 0.03,
          "funding_company_billions": 0.66,
          "index": 305
         },
         {
          "avg_funding_country_billions": 0.73,
          "company": "Ola Electric Mobility",
          "country": "India",
          "difference": 0.03,
          "funding_company_billions": 0.76,
          "index": 306
         },
         {
          "avg_funding_country_billions": 0.65,
          "company": "Dxy.cn",
          "country": "China",
          "difference": 0.03,
          "funding_company_billions": 0.68,
          "index": 307
         },
         {
          "avg_funding_country_billions": 0.5,
          "company": "Gympass",
          "country": "United States",
          "difference": 0.03,
          "funding_company_billions": 0.53,
          "index": 308
         },
         {
          "avg_funding_country_billions": 0.6,
          "company": "Nuvemshop",
          "country": "Brazil",
          "difference": 0.03,
          "funding_company_billions": 0.63,
          "index": 309
         },
         {
          "avg_funding_country_billions": 0.5,
          "company": "Forter",
          "country": "United States",
          "difference": 0.03,
          "funding_company_billions": 0.53,
          "index": 310
         },
         {
          "avg_funding_country_billions": 0.5,
          "company": "Misfits Market",
          "country": "United States",
          "difference": 0.03,
          "funding_company_billions": 0.53,
          "index": 311
         },
         {
          "avg_funding_country_billions": 0.5,
          "company": "BlueVoyant",
          "country": "United States",
          "difference": 0.03,
          "funding_company_billions": 0.53,
          "index": 312
         },
         {
          "avg_funding_country_billions": 0.3,
          "company": "DriveNets",
          "country": "Israel",
          "difference": 0.03,
          "funding_company_billions": 0.33,
          "index": 313
         },
         {
          "avg_funding_country_billions": 0.5,
          "company": "Carbon Health",
          "country": "United States",
          "difference": 0.02,
          "funding_company_billions": 0.52,
          "index": 314
         },
         {
          "avg_funding_country_billions": 0.5,
          "company": "Aurora Solar",
          "country": "United States",
          "difference": 0.02,
          "funding_company_billions": 0.52,
          "index": 315
         },
         {
          "avg_funding_country_billions": 0.4,
          "company": "Vista Global",
          "country": "United Arab Emirates",
          "difference": 0.02,
          "funding_company_billions": 0.42,
          "index": 316
         },
         {
          "avg_funding_country_billions": 0.5,
          "company": "Alto Pharmacy",
          "country": "United States",
          "difference": 0.02,
          "funding_company_billions": 0.52,
          "index": 317
         },
         {
          "avg_funding_country_billions": 0.44,
          "company": "Lunar",
          "country": "Denmark",
          "difference": 0.01,
          "funding_company_billions": 0.45,
          "index": 318
         },
         {
          "avg_funding_country_billions": 0.73,
          "company": "Razorpay",
          "country": "India",
          "difference": 0.01,
          "funding_company_billions": 0.74,
          "index": 319
         },
         {
          "avg_funding_country_billions": 0.71,
          "company": "Klook",
          "country": "Hong Kong",
          "difference": 0.01,
          "funding_company_billions": 0.72,
          "index": 320
         },
         {
          "avg_funding_country_billions": 0.65,
          "company": "Yipin Shengxian",
          "country": "China",
          "difference": 0.01,
          "funding_company_billions": 0.66,
          "index": 321
         },
         {
          "avg_funding_country_billions": 0.5,
          "company": "OwnBackup",
          "country": "United States",
          "difference": 0.01,
          "funding_company_billions": 0.51,
          "index": 322
         },
         {
          "avg_funding_country_billions": 0.65,
          "company": "Newlink Group",
          "country": "China",
          "difference": 0.01,
          "funding_company_billions": 0.66,
          "index": 323
         },
         {
          "avg_funding_country_billions": 0.3,
          "company": "Lightricks",
          "country": "Israel",
          "difference": 0.01,
          "funding_company_billions": 0.31,
          "index": 324
         },
         {
          "avg_funding_country_billions": 0.5,
          "company": "Coalition",
          "country": "United States",
          "difference": 0.01,
          "funding_company_billions": 0.51,
          "index": 325
         },
         {
          "avg_funding_country_billions": 0.5,
          "company": "Medable",
          "country": "United States",
          "difference": 0.01,
          "funding_company_billions": 0.51,
          "index": 326
         },
         {
          "avg_funding_country_billions": 0.55,
          "company": "Promasidor Holdings",
          "country": "South Africa",
          "difference": 0.01,
          "funding_company_billions": 0.56,
          "index": 327
         },
         {
          "avg_funding_country_billions": 0.5,
          "company": "Acorns",
          "country": "United States",
          "difference": 0.01,
          "funding_company_billions": 0.51,
          "index": 328
         },
         {
          "avg_funding_country_billions": 0.54,
          "company": "Shift Technology",
          "country": "France",
          "difference": 0.01,
          "funding_company_billions": 0.55,
          "index": 329
         },
         {
          "avg_funding_country_billions": 0.5,
          "company": "Symphony",
          "country": "United States",
          "difference": 0.01,
          "funding_company_billions": 0.51,
          "index": 330
         },
         {
          "avg_funding_country_billions": 0.5,
          "company": "Cambridge Mobile Telematics",
          "country": "United States",
          "difference": 0,
          "funding_company_billions": 0.5,
          "index": 331
         },
         {
          "avg_funding_country_billions": 0.65,
          "company": "Mofang Living",
          "country": "China",
          "difference": 0,
          "funding_company_billions": 0.65,
          "index": 332
         },
         {
          "avg_funding_country_billions": 0.65,
          "company": "Kuaigou Dache",
          "country": "China",
          "difference": 0,
          "funding_company_billions": 0.65,
          "index": 333
         },
         {
          "avg_funding_country_billions": 0.73,
          "company": "OfBusiness",
          "country": "India",
          "difference": 0,
          "funding_company_billions": 0.73,
          "index": 334
         },
         {
          "avg_funding_country_billions": 0.47,
          "company": "Moglix",
          "country": "Singapore",
          "difference": 0,
          "funding_company_billions": 0.47,
          "index": 335
         },
         {
          "avg_funding_country_billions": 0.5,
          "company": "Melio",
          "country": "United States",
          "difference": 0,
          "funding_company_billions": 0.5,
          "index": 336
         }
        ],
        "schema": {
         "fields": [
          {
           "name": "index",
           "type": "integer"
          },
          {
           "name": "company",
           "type": "string"
          },
          {
           "name": "funding_company_billions",
           "type": "number"
          },
          {
           "name": "country",
           "type": "string"
          },
          {
           "name": "avg_funding_country_billions",
           "type": "number"
          },
          {
           "name": "difference",
           "type": "number"
          }
         ],
         "pandas_version": "1.4.0",
         "primaryKey": [
          "index"
         ]
        }
       },
       "total_rows": 337,
       "truncation_type": null
      },
      "text/html": [
       "<div>\n",
       "<style scoped>\n",
       "    .dataframe tbody tr th:only-of-type {\n",
       "        vertical-align: middle;\n",
       "    }\n",
       "\n",
       "    .dataframe tbody tr th {\n",
       "        vertical-align: top;\n",
       "    }\n",
       "\n",
       "    .dataframe thead th {\n",
       "        text-align: right;\n",
       "    }\n",
       "</style>\n",
       "<table border=\"1\" class=\"dataframe\">\n",
       "  <thead>\n",
       "    <tr style=\"text-align: right;\">\n",
       "      <th></th>\n",
       "      <th>company</th>\n",
       "      <th>funding_company_billions</th>\n",
       "      <th>country</th>\n",
       "      <th>avg_funding_country_billions</th>\n",
       "      <th>difference</th>\n",
       "    </tr>\n",
       "  </thead>\n",
       "  <tbody>\n",
       "    <tr>\n",
       "      <th>0</th>\n",
       "      <td>JUUL Labs</td>\n",
       "      <td>14.00</td>\n",
       "      <td>United States</td>\n",
       "      <td>0.50</td>\n",
       "      <td>13.50</td>\n",
       "    </tr>\n",
       "    <tr>\n",
       "      <th>1</th>\n",
       "      <td>Bytedance</td>\n",
       "      <td>8.00</td>\n",
       "      <td>China</td>\n",
       "      <td>0.65</td>\n",
       "      <td>7.35</td>\n",
       "    </tr>\n",
       "    <tr>\n",
       "      <th>2</th>\n",
       "      <td>Epic Games</td>\n",
       "      <td>7.00</td>\n",
       "      <td>United States</td>\n",
       "      <td>0.50</td>\n",
       "      <td>6.50</td>\n",
       "    </tr>\n",
       "    <tr>\n",
       "      <th>3</th>\n",
       "      <td>SpaceX</td>\n",
       "      <td>7.00</td>\n",
       "      <td>United States</td>\n",
       "      <td>0.50</td>\n",
       "      <td>6.50</td>\n",
       "    </tr>\n",
       "    <tr>\n",
       "      <th>4</th>\n",
       "      <td>Xingsheng Selected</td>\n",
       "      <td>5.00</td>\n",
       "      <td>China</td>\n",
       "      <td>0.65</td>\n",
       "      <td>4.35</td>\n",
       "    </tr>\n",
       "    <tr>\n",
       "      <th>...</th>\n",
       "      <td>...</td>\n",
       "      <td>...</td>\n",
       "      <td>...</td>\n",
       "      <td>...</td>\n",
       "      <td>...</td>\n",
       "    </tr>\n",
       "    <tr>\n",
       "      <th>332</th>\n",
       "      <td>Mofang Living</td>\n",
       "      <td>0.65</td>\n",
       "      <td>China</td>\n",
       "      <td>0.65</td>\n",
       "      <td>0.00</td>\n",
       "    </tr>\n",
       "    <tr>\n",
       "      <th>333</th>\n",
       "      <td>Kuaigou Dache</td>\n",
       "      <td>0.65</td>\n",
       "      <td>China</td>\n",
       "      <td>0.65</td>\n",
       "      <td>0.00</td>\n",
       "    </tr>\n",
       "    <tr>\n",
       "      <th>334</th>\n",
       "      <td>OfBusiness</td>\n",
       "      <td>0.73</td>\n",
       "      <td>India</td>\n",
       "      <td>0.73</td>\n",
       "      <td>0.00</td>\n",
       "    </tr>\n",
       "    <tr>\n",
       "      <th>335</th>\n",
       "      <td>Moglix</td>\n",
       "      <td>0.47</td>\n",
       "      <td>Singapore</td>\n",
       "      <td>0.47</td>\n",
       "      <td>0.00</td>\n",
       "    </tr>\n",
       "    <tr>\n",
       "      <th>336</th>\n",
       "      <td>Melio</td>\n",
       "      <td>0.50</td>\n",
       "      <td>United States</td>\n",
       "      <td>0.50</td>\n",
       "      <td>0.00</td>\n",
       "    </tr>\n",
       "  </tbody>\n",
       "</table>\n",
       "<p>337 rows × 5 columns</p>\n",
       "</div>"
      ],
      "text/plain": [
       "                company  ...  difference\n",
       "0             JUUL Labs  ...       13.50\n",
       "1             Bytedance  ...        7.35\n",
       "2            Epic Games  ...        6.50\n",
       "3                SpaceX  ...        6.50\n",
       "4    Xingsheng Selected  ...        4.35\n",
       "..                  ...  ...         ...\n",
       "332       Mofang Living  ...        0.00\n",
       "333       Kuaigou Dache  ...        0.00\n",
       "334          OfBusiness  ...        0.00\n",
       "335              Moglix  ...        0.00\n",
       "336               Melio  ...        0.00\n",
       "\n",
       "[337 rows x 5 columns]"
      ]
     },
     "execution_count": 9,
     "metadata": {},
     "output_type": "execute_result"
    }
   ],
   "source": [
    "# Which companies have higher funding than the average funding of the companies in their country?\n",
    "\n",
    "WITH avg_country AS (SELECT country, \n",
    "                            AVG(funding)\n",
    "                     FROM companies \n",
    "                          INNER JOIN funding\n",
    "                          USING(company_id)\n",
    "                     GROUP BY country), \n",
    "high_funded_companies AS (SELECT company, \n",
    "                                 funding\n",
    "                          FROM (funding\n",
    "                                INNER JOIN companies\n",
    "                                USING(company_id)) AS fc\n",
    "                          WHERE funding > (SELECT avg_country.avg\n",
    "                                           FROM avg_country\n",
    "                                           WHERE avg_country.country = fc.country))\n",
    "\n",
    "SELECT hfc.company, \n",
    "       ROUND((hfc.funding::numeric / 1000000000), 2) AS funding_company_billions, \n",
    "       avg.country, ROUND(avg.avg / 1000000000, 2) AS avg_funding_country_billions, \n",
    "       (ROUND((hfc.funding::numeric / 1000000000), 2) - ROUND(avg.avg / 1000000000, 2)) AS difference\n",
    "FROM companies AS c\n",
    "     INNER JOIN funding \n",
    "     USING(company_id)\n",
    "     INNER JOIN high_funded_companies AS hfc \n",
    "     ON c.company = hfc.company\n",
    "     INNER JOIN avg_country AS avg\n",
    "     ON c.country = avg.country\n",
    "ORDER BY difference DESC;"
   ]
  },
  {
   "cell_type": "code",
   "execution_count": 10,
   "id": "5e28d209-f93c-407b-854f-da3f2077c257",
   "metadata": {
    "customType": "sql",
    "dataFrameVariableName": "df",
    "executionTime": 355,
    "initial": false,
    "integrationId": "4000eaff-e663-4eef-88d8-4260bab6c43b",
    "lastSuccessfullyExecutedCode": "--  How many companies per month became unicorns in 2021?\n\nSELECT  COUNT(company_id), \n        RTRIM(to_char(date_joined, 'Month')) AS month \nFROM dates\nWHERE EXTRACT(year FROM date_joined) = 2021\nGROUP BY month, EXTRACT(month FROM date_joined)\nORDER BY EXTRACT(month FROM date_joined) ASC;"
   },
   "outputs": [
    {
     "data": {
      "application/com.datacamp.data-table.v1+json": {
       "table": {
        "data": [
         {
          "count": 34,
          "index": 0,
          "month": "January"
         },
         {
          "count": 22,
          "index": 1,
          "month": "February"
         },
         {
          "count": 52,
          "index": 2,
          "month": "March"
         },
         {
          "count": 43,
          "index": 3,
          "month": "April"
         },
         {
          "count": 46,
          "index": 4,
          "month": "May"
         },
         {
          "count": 55,
          "index": 5,
          "month": "June"
         },
         {
          "count": 50,
          "index": 6,
          "month": "July"
         },
         {
          "count": 32,
          "index": 7,
          "month": "August"
         },
         {
          "count": 52,
          "index": 8,
          "month": "September"
         },
         {
          "count": 45,
          "index": 9,
          "month": "October"
         },
         {
          "count": 47,
          "index": 10,
          "month": "November"
         },
         {
          "count": 42,
          "index": 11,
          "month": "December"
         }
        ],
        "schema": {
         "fields": [
          {
           "name": "index",
           "type": "integer"
          },
          {
           "name": "count",
           "type": "integer"
          },
          {
           "name": "month",
           "type": "string"
          }
         ],
         "pandas_version": "1.4.0",
         "primaryKey": [
          "index"
         ]
        }
       },
       "total_rows": 12,
       "truncation_type": null
      },
      "text/html": [
       "<div>\n",
       "<style scoped>\n",
       "    .dataframe tbody tr th:only-of-type {\n",
       "        vertical-align: middle;\n",
       "    }\n",
       "\n",
       "    .dataframe tbody tr th {\n",
       "        vertical-align: top;\n",
       "    }\n",
       "\n",
       "    .dataframe thead th {\n",
       "        text-align: right;\n",
       "    }\n",
       "</style>\n",
       "<table border=\"1\" class=\"dataframe\">\n",
       "  <thead>\n",
       "    <tr style=\"text-align: right;\">\n",
       "      <th></th>\n",
       "      <th>count</th>\n",
       "      <th>month</th>\n",
       "    </tr>\n",
       "  </thead>\n",
       "  <tbody>\n",
       "    <tr>\n",
       "      <th>0</th>\n",
       "      <td>34</td>\n",
       "      <td>January</td>\n",
       "    </tr>\n",
       "    <tr>\n",
       "      <th>1</th>\n",
       "      <td>22</td>\n",
       "      <td>February</td>\n",
       "    </tr>\n",
       "    <tr>\n",
       "      <th>2</th>\n",
       "      <td>52</td>\n",
       "      <td>March</td>\n",
       "    </tr>\n",
       "    <tr>\n",
       "      <th>3</th>\n",
       "      <td>43</td>\n",
       "      <td>April</td>\n",
       "    </tr>\n",
       "    <tr>\n",
       "      <th>4</th>\n",
       "      <td>46</td>\n",
       "      <td>May</td>\n",
       "    </tr>\n",
       "    <tr>\n",
       "      <th>5</th>\n",
       "      <td>55</td>\n",
       "      <td>June</td>\n",
       "    </tr>\n",
       "    <tr>\n",
       "      <th>6</th>\n",
       "      <td>50</td>\n",
       "      <td>July</td>\n",
       "    </tr>\n",
       "    <tr>\n",
       "      <th>7</th>\n",
       "      <td>32</td>\n",
       "      <td>August</td>\n",
       "    </tr>\n",
       "    <tr>\n",
       "      <th>8</th>\n",
       "      <td>52</td>\n",
       "      <td>September</td>\n",
       "    </tr>\n",
       "    <tr>\n",
       "      <th>9</th>\n",
       "      <td>45</td>\n",
       "      <td>October</td>\n",
       "    </tr>\n",
       "    <tr>\n",
       "      <th>10</th>\n",
       "      <td>47</td>\n",
       "      <td>November</td>\n",
       "    </tr>\n",
       "    <tr>\n",
       "      <th>11</th>\n",
       "      <td>42</td>\n",
       "      <td>December</td>\n",
       "    </tr>\n",
       "  </tbody>\n",
       "</table>\n",
       "</div>"
      ],
      "text/plain": [
       "    count      month\n",
       "0      34    January\n",
       "1      22   February\n",
       "2      52      March\n",
       "3      43      April\n",
       "4      46        May\n",
       "5      55       June\n",
       "6      50       July\n",
       "7      32     August\n",
       "8      52  September\n",
       "9      45    October\n",
       "10     47   November\n",
       "11     42   December"
      ]
     },
     "execution_count": 10,
     "metadata": {},
     "output_type": "execute_result"
    }
   ],
   "source": [
    "# How many companies per month became unicorns in 2021?\n",
    "\n",
    "SELECT COUNT(company_id), \n",
    "       RTRIM(TO_CHAR(date_joined, 'Month')) AS month \n",
    "FROM dates\n",
    "WHERE EXTRACT(year FROM date_joined) = 2021\n",
    "GROUP BY month, EXTRACT(month FROM date_joined)\n",
    "ORDER BY EXTRACT(month FROM date_joined) ASC;"
   ]
  },
  {
   "cell_type": "code",
   "execution_count": 11,
   "id": "e40f9cac-0d87-4187-9d29-d1ce3c1d7cbd",
   "metadata": {
    "customType": "sql",
    "dataFrameVariableName": "df",
    "executionTime": 822,
    "initial": false,
    "integrationId": "4000eaff-e663-4eef-88d8-4260bab6c43b",
    "lastSuccessfullyExecutedCode": "-- Are the companies with more than one investors more than the companies with only one key investor?\n\nSELECT CASE WHEN select_investors LIKE '%,%' THEN 'More than 1 investors'\n            WHEN select_investors IS NULL THEN 'Inverstors unknown'\n            ELSE 'Only 1 investor' END AS number_key_investors, \n       COUNT(*)\nFROM funding\nGROUP BY number_key_investors;"
   },
   "outputs": [
    {
     "data": {
      "application/com.datacamp.data-table.v1+json": {
       "table": {
        "data": [
         {
          "count": 47,
          "index": 0,
          "number_key_investors": "Only 1 investor"
         },
         {
          "count": 1027,
          "index": 1,
          "number_key_investors": "More than 1 investors"
         }
        ],
        "schema": {
         "fields": [
          {
           "name": "index",
           "type": "integer"
          },
          {
           "name": "number_key_investors",
           "type": "string"
          },
          {
           "name": "count",
           "type": "integer"
          }
         ],
         "pandas_version": "1.4.0",
         "primaryKey": [
          "index"
         ]
        }
       },
       "total_rows": 2,
       "truncation_type": null
      },
      "text/html": [
       "<div>\n",
       "<style scoped>\n",
       "    .dataframe tbody tr th:only-of-type {\n",
       "        vertical-align: middle;\n",
       "    }\n",
       "\n",
       "    .dataframe tbody tr th {\n",
       "        vertical-align: top;\n",
       "    }\n",
       "\n",
       "    .dataframe thead th {\n",
       "        text-align: right;\n",
       "    }\n",
       "</style>\n",
       "<table border=\"1\" class=\"dataframe\">\n",
       "  <thead>\n",
       "    <tr style=\"text-align: right;\">\n",
       "      <th></th>\n",
       "      <th>number_key_investors</th>\n",
       "      <th>count</th>\n",
       "    </tr>\n",
       "  </thead>\n",
       "  <tbody>\n",
       "    <tr>\n",
       "      <th>0</th>\n",
       "      <td>Only 1 investor</td>\n",
       "      <td>47</td>\n",
       "    </tr>\n",
       "    <tr>\n",
       "      <th>1</th>\n",
       "      <td>More than 1 investors</td>\n",
       "      <td>1027</td>\n",
       "    </tr>\n",
       "  </tbody>\n",
       "</table>\n",
       "</div>"
      ],
      "text/plain": [
       "    number_key_investors  count\n",
       "0        Only 1 investor     47\n",
       "1  More than 1 investors   1027"
      ]
     },
     "execution_count": 11,
     "metadata": {},
     "output_type": "execute_result"
    }
   ],
   "source": [
    "# Are the companies with more than one investors more than the companies with only one key investor?\n",
    "\n",
    "SELECT CASE WHEN select_investors LIKE '%,%' THEN 'More than 1 investors'\n",
    "            WHEN select_investors IS NULL THEN 'Inverstors unknown'\n",
    "            ELSE 'Only 1 investor' END AS number_key_investors, \n",
    "       COUNT(*)\n",
    "FROM funding\n",
    "GROUP BY number_key_investors;"
   ]
  },
  {
   "cell_type": "code",
   "execution_count": 13,
   "id": "4b2f732c-c5b3-4ad0-948f-27b6b4bdff16",
   "metadata": {
    "customType": "sql",
    "dataFrameVariableName": "df",
    "executionTime": 153,
    "initial": false,
    "integrationId": "4000eaff-e663-4eef-88d8-4260bab6c43b",
    "lastSuccessfullyExecutedCode": "-- Rank the companies in Belgium and Germany according to their funding.\n\nSELECT  company, \n        country, \n        ROUND(funding / 1000000000 ::numeric, 3) AS funding_in_billions,  \n        DENSE_RANK() OVER (PARTITION BY country ORDER BY funding DESC) AS rank\nFROM companies\n     INNER JOIN funding\n     USING(company_id)\nWHERE country IN ('Germany', 'Belgium') \nORDER BY country, rank;"
   },
   "outputs": [
    {
     "data": {
      "application/com.datacamp.data-table.v1+json": {
       "table": {
        "data": [
         {
          "company": "Collibra",
          "country": "Belgium",
          "funding_in_billions": 0.596,
          "index": 0,
          "rank": 1
         },
         {
          "company": "Deliverect",
          "country": "Belgium",
          "funding_in_billions": 0.237,
          "index": 1,
          "rank": 2
         },
         {
          "company": "Odoo",
          "country": "Belgium",
          "funding_in_billions": 0.229,
          "index": 2,
          "rank": 3
         },
         {
          "company": "N26",
          "country": "Germany",
          "funding_in_billions": 2,
          "index": 3,
          "rank": 1
         },
         {
          "company": "Gorillas",
          "country": "Germany",
          "funding_in_billions": 1,
          "index": 4,
          "rank": 2
         },
         {
          "company": "FlixBus",
          "country": "Germany",
          "funding_in_billions": 1,
          "index": 5,
          "rank": 2
         },
         {
          "company": "Celonis",
          "country": "Germany",
          "funding_in_billions": 1,
          "index": 6,
          "rank": 2
         },
         {
          "company": "Flink Food",
          "country": "Germany",
          "funding_in_billions": 1,
          "index": 7,
          "rank": 2
         },
         {
          "company": "Trade Republic",
          "country": "Germany",
          "funding_in_billions": 0.996,
          "index": 8,
          "rank": 3
         },
         {
          "company": "wefox",
          "country": "Germany",
          "funding_in_billions": 0.919,
          "index": 9,
          "rank": 4
         },
         {
          "company": "Berlin Brands Group",
          "country": "Germany",
          "funding_in_billions": 0.8,
          "index": 10,
          "rank": 5
         },
         {
          "company": "SellerX",
          "country": "Germany",
          "funding_in_billions": 0.766,
          "index": 11,
          "rank": 6
         },
         {
          "company": "GetYourGuide",
          "country": "Germany",
          "funding_in_billions": 0.656,
          "index": 12,
          "rank": 7
         },
         {
          "company": "InFarm",
          "country": "Germany",
          "funding_in_billions": 0.6,
          "index": 13,
          "rank": 8
         },
         {
          "company": "Volocopter",
          "country": "Germany",
          "funding_in_billions": 0.599,
          "index": 14,
          "rank": 9
         },
         {
          "company": "Forto",
          "country": "Germany",
          "funding_in_billions": 0.593,
          "index": 15,
          "rank": 10
         },
         {
          "company": "Tier",
          "country": "Germany",
          "funding_in_billions": 0.587,
          "index": 16,
          "rank": 11
         },
         {
          "company": "NuCom Group",
          "country": "Germany",
          "funding_in_billions": 0.55,
          "index": 17,
          "rank": 12
         },
         {
          "company": "Personio",
          "country": "Germany",
          "funding_in_billions": 0.524,
          "index": 18,
          "rank": 13
         },
         {
          "company": "solarisBank",
          "country": "Germany",
          "funding_in_billions": 0.403,
          "index": 19,
          "rank": 14
         },
         {
          "company": "Omio",
          "country": "Germany",
          "funding_in_billions": 0.396,
          "index": 20,
          "rank": 15
         },
         {
          "company": "Sennder",
          "country": "Germany",
          "funding_in_billions": 0.34,
          "index": 21,
          "rank": 16
         },
         {
          "company": "Contentful",
          "country": "Germany",
          "funding_in_billions": 0.333,
          "index": 22,
          "rank": 17
         },
         {
          "company": "Scalable Capital",
          "country": "Germany",
          "funding_in_billions": 0.314,
          "index": 23,
          "rank": 18
         },
         {
          "company": "Staffbase",
          "country": "Germany",
          "funding_in_billions": 0.307,
          "index": 24,
          "rank": 19
         },
         {
          "company": "Enpal",
          "country": "Germany",
          "funding_in_billions": 0.304,
          "index": 25,
          "rank": 20
         },
         {
          "company": "Agile Robots",
          "country": "Germany",
          "funding_in_billions": 0.24,
          "index": 26,
          "rank": 21
         },
         {
          "company": "Razor",
          "country": "Germany",
          "funding_in_billions": 0.167,
          "index": 27,
          "rank": 22
         },
         {
          "company": "Otto Bock HealthCare",
          "country": "Germany",
          "funding_in_billions": 0,
          "index": 28,
          "rank": 23
         }
        ],
        "schema": {
         "fields": [
          {
           "name": "index",
           "type": "integer"
          },
          {
           "name": "company",
           "type": "string"
          },
          {
           "name": "country",
           "type": "string"
          },
          {
           "name": "funding_in_billions",
           "type": "number"
          },
          {
           "name": "rank",
           "type": "integer"
          }
         ],
         "pandas_version": "1.4.0",
         "primaryKey": [
          "index"
         ]
        }
       },
       "total_rows": 29,
       "truncation_type": null
      },
      "text/html": [
       "<div>\n",
       "<style scoped>\n",
       "    .dataframe tbody tr th:only-of-type {\n",
       "        vertical-align: middle;\n",
       "    }\n",
       "\n",
       "    .dataframe tbody tr th {\n",
       "        vertical-align: top;\n",
       "    }\n",
       "\n",
       "    .dataframe thead th {\n",
       "        text-align: right;\n",
       "    }\n",
       "</style>\n",
       "<table border=\"1\" class=\"dataframe\">\n",
       "  <thead>\n",
       "    <tr style=\"text-align: right;\">\n",
       "      <th></th>\n",
       "      <th>company</th>\n",
       "      <th>country</th>\n",
       "      <th>funding_in_billions</th>\n",
       "      <th>rank</th>\n",
       "    </tr>\n",
       "  </thead>\n",
       "  <tbody>\n",
       "    <tr>\n",
       "      <th>0</th>\n",
       "      <td>Collibra</td>\n",
       "      <td>Belgium</td>\n",
       "      <td>0.596</td>\n",
       "      <td>1</td>\n",
       "    </tr>\n",
       "    <tr>\n",
       "      <th>1</th>\n",
       "      <td>Deliverect</td>\n",
       "      <td>Belgium</td>\n",
       "      <td>0.237</td>\n",
       "      <td>2</td>\n",
       "    </tr>\n",
       "    <tr>\n",
       "      <th>2</th>\n",
       "      <td>Odoo</td>\n",
       "      <td>Belgium</td>\n",
       "      <td>0.229</td>\n",
       "      <td>3</td>\n",
       "    </tr>\n",
       "    <tr>\n",
       "      <th>3</th>\n",
       "      <td>N26</td>\n",
       "      <td>Germany</td>\n",
       "      <td>2.000</td>\n",
       "      <td>1</td>\n",
       "    </tr>\n",
       "    <tr>\n",
       "      <th>4</th>\n",
       "      <td>Gorillas</td>\n",
       "      <td>Germany</td>\n",
       "      <td>1.000</td>\n",
       "      <td>2</td>\n",
       "    </tr>\n",
       "    <tr>\n",
       "      <th>5</th>\n",
       "      <td>FlixBus</td>\n",
       "      <td>Germany</td>\n",
       "      <td>1.000</td>\n",
       "      <td>2</td>\n",
       "    </tr>\n",
       "    <tr>\n",
       "      <th>6</th>\n",
       "      <td>Celonis</td>\n",
       "      <td>Germany</td>\n",
       "      <td>1.000</td>\n",
       "      <td>2</td>\n",
       "    </tr>\n",
       "    <tr>\n",
       "      <th>7</th>\n",
       "      <td>Flink Food</td>\n",
       "      <td>Germany</td>\n",
       "      <td>1.000</td>\n",
       "      <td>2</td>\n",
       "    </tr>\n",
       "    <tr>\n",
       "      <th>8</th>\n",
       "      <td>Trade Republic</td>\n",
       "      <td>Germany</td>\n",
       "      <td>0.996</td>\n",
       "      <td>3</td>\n",
       "    </tr>\n",
       "    <tr>\n",
       "      <th>9</th>\n",
       "      <td>wefox</td>\n",
       "      <td>Germany</td>\n",
       "      <td>0.919</td>\n",
       "      <td>4</td>\n",
       "    </tr>\n",
       "    <tr>\n",
       "      <th>10</th>\n",
       "      <td>Berlin Brands Group</td>\n",
       "      <td>Germany</td>\n",
       "      <td>0.800</td>\n",
       "      <td>5</td>\n",
       "    </tr>\n",
       "    <tr>\n",
       "      <th>11</th>\n",
       "      <td>SellerX</td>\n",
       "      <td>Germany</td>\n",
       "      <td>0.766</td>\n",
       "      <td>6</td>\n",
       "    </tr>\n",
       "    <tr>\n",
       "      <th>12</th>\n",
       "      <td>GetYourGuide</td>\n",
       "      <td>Germany</td>\n",
       "      <td>0.656</td>\n",
       "      <td>7</td>\n",
       "    </tr>\n",
       "    <tr>\n",
       "      <th>13</th>\n",
       "      <td>InFarm</td>\n",
       "      <td>Germany</td>\n",
       "      <td>0.600</td>\n",
       "      <td>8</td>\n",
       "    </tr>\n",
       "    <tr>\n",
       "      <th>14</th>\n",
       "      <td>Volocopter</td>\n",
       "      <td>Germany</td>\n",
       "      <td>0.599</td>\n",
       "      <td>9</td>\n",
       "    </tr>\n",
       "    <tr>\n",
       "      <th>15</th>\n",
       "      <td>Forto</td>\n",
       "      <td>Germany</td>\n",
       "      <td>0.593</td>\n",
       "      <td>10</td>\n",
       "    </tr>\n",
       "    <tr>\n",
       "      <th>16</th>\n",
       "      <td>Tier</td>\n",
       "      <td>Germany</td>\n",
       "      <td>0.587</td>\n",
       "      <td>11</td>\n",
       "    </tr>\n",
       "    <tr>\n",
       "      <th>17</th>\n",
       "      <td>NuCom Group</td>\n",
       "      <td>Germany</td>\n",
       "      <td>0.550</td>\n",
       "      <td>12</td>\n",
       "    </tr>\n",
       "    <tr>\n",
       "      <th>18</th>\n",
       "      <td>Personio</td>\n",
       "      <td>Germany</td>\n",
       "      <td>0.524</td>\n",
       "      <td>13</td>\n",
       "    </tr>\n",
       "    <tr>\n",
       "      <th>19</th>\n",
       "      <td>solarisBank</td>\n",
       "      <td>Germany</td>\n",
       "      <td>0.403</td>\n",
       "      <td>14</td>\n",
       "    </tr>\n",
       "    <tr>\n",
       "      <th>20</th>\n",
       "      <td>Omio</td>\n",
       "      <td>Germany</td>\n",
       "      <td>0.396</td>\n",
       "      <td>15</td>\n",
       "    </tr>\n",
       "    <tr>\n",
       "      <th>21</th>\n",
       "      <td>Sennder</td>\n",
       "      <td>Germany</td>\n",
       "      <td>0.340</td>\n",
       "      <td>16</td>\n",
       "    </tr>\n",
       "    <tr>\n",
       "      <th>22</th>\n",
       "      <td>Contentful</td>\n",
       "      <td>Germany</td>\n",
       "      <td>0.333</td>\n",
       "      <td>17</td>\n",
       "    </tr>\n",
       "    <tr>\n",
       "      <th>23</th>\n",
       "      <td>Scalable Capital</td>\n",
       "      <td>Germany</td>\n",
       "      <td>0.314</td>\n",
       "      <td>18</td>\n",
       "    </tr>\n",
       "    <tr>\n",
       "      <th>24</th>\n",
       "      <td>Staffbase</td>\n",
       "      <td>Germany</td>\n",
       "      <td>0.307</td>\n",
       "      <td>19</td>\n",
       "    </tr>\n",
       "    <tr>\n",
       "      <th>25</th>\n",
       "      <td>Enpal</td>\n",
       "      <td>Germany</td>\n",
       "      <td>0.304</td>\n",
       "      <td>20</td>\n",
       "    </tr>\n",
       "    <tr>\n",
       "      <th>26</th>\n",
       "      <td>Agile Robots</td>\n",
       "      <td>Germany</td>\n",
       "      <td>0.240</td>\n",
       "      <td>21</td>\n",
       "    </tr>\n",
       "    <tr>\n",
       "      <th>27</th>\n",
       "      <td>Razor</td>\n",
       "      <td>Germany</td>\n",
       "      <td>0.167</td>\n",
       "      <td>22</td>\n",
       "    </tr>\n",
       "    <tr>\n",
       "      <th>28</th>\n",
       "      <td>Otto Bock HealthCare</td>\n",
       "      <td>Germany</td>\n",
       "      <td>0.000</td>\n",
       "      <td>23</td>\n",
       "    </tr>\n",
       "  </tbody>\n",
       "</table>\n",
       "</div>"
      ],
      "text/plain": [
       "                 company  country  funding_in_billions  rank\n",
       "0               Collibra  Belgium                0.596     1\n",
       "1             Deliverect  Belgium                0.237     2\n",
       "2                   Odoo  Belgium                0.229     3\n",
       "3                    N26  Germany                2.000     1\n",
       "4               Gorillas  Germany                1.000     2\n",
       "5                FlixBus  Germany                1.000     2\n",
       "6                Celonis  Germany                1.000     2\n",
       "7             Flink Food  Germany                1.000     2\n",
       "8         Trade Republic  Germany                0.996     3\n",
       "9                  wefox  Germany                0.919     4\n",
       "10   Berlin Brands Group  Germany                0.800     5\n",
       "11               SellerX  Germany                0.766     6\n",
       "12          GetYourGuide  Germany                0.656     7\n",
       "13                InFarm  Germany                0.600     8\n",
       "14            Volocopter  Germany                0.599     9\n",
       "15                 Forto  Germany                0.593    10\n",
       "16                  Tier  Germany                0.587    11\n",
       "17           NuCom Group  Germany                0.550    12\n",
       "18              Personio  Germany                0.524    13\n",
       "19           solarisBank  Germany                0.403    14\n",
       "20                  Omio  Germany                0.396    15\n",
       "21               Sennder  Germany                0.340    16\n",
       "22            Contentful  Germany                0.333    17\n",
       "23      Scalable Capital  Germany                0.314    18\n",
       "24             Staffbase  Germany                0.307    19\n",
       "25                 Enpal  Germany                0.304    20\n",
       "26          Agile Robots  Germany                0.240    21\n",
       "27                 Razor  Germany                0.167    22\n",
       "28  Otto Bock HealthCare  Germany                0.000    23"
      ]
     },
     "execution_count": 13,
     "metadata": {},
     "output_type": "execute_result"
    }
   ],
   "source": [
    "# Rank the companies in Belgium and Germany according to their funding.\n",
    "\n",
    "SELECT company, \n",
    "       country, \n",
    "       ROUND(funding / 1000000000 ::numeric, 3) AS funding_in_billions,  \n",
    "       DENSE_RANK() OVER (PARTITION BY country ORDER BY funding DESC) AS rank\n",
    "FROM companies\n",
    "     INNER JOIN funding\n",
    "     USING(company_id)\n",
    "WHERE country IN ('Germany', 'Belgium') \n",
    "ORDER BY country, rank;"
   ]
  }
 ],
 "metadata": {
  "colab": {
   "name": "Welcome to DataCamp Workspaces.ipynb",
   "provenance": []
  },
  "kernelspec": {
   "display_name": "Python 3 (ipykernel)",
   "language": "python",
   "name": "python3"
  },
  "language_info": {
   "codemirror_mode": {
    "name": "ipython",
    "version": 3
   },
   "file_extension": ".py",
   "mimetype": "text/x-python",
   "name": "python",
   "nbconvert_exporter": "python",
   "pygments_lexer": "ipython3",
   "version": "3.9.13"
  }
 },
 "nbformat": 4,
 "nbformat_minor": 5
}
