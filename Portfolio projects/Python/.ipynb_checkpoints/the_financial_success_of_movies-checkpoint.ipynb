{
 "cells": [
  {
   "cell_type": "markdown",
   "id": "0007af6e",
   "metadata": {},
   "source": [
    "# Analyzing the Financial Success of Movies\n",
    "\n",
    "## Introduction\n",
    "The dataset, used for this notebook, was downloaded from [Kaggle](https://www.kaggle.com/datasets/thedevastator/movie-gross-and-ratings-from-1989-to-2014). \n",
    "It contains information for movies that were released between 1989 and 2014. \n",
    "<p>There are nine variables in the dataset:</p>\n",
    "<ul>\n",
    "    <li><b>Title:</b> The title of the movie.</li>\n",
    "    <li><b>MPAA Rating:</b> The Motion Picture Association of America (MPAA) rating of the movie.</li>\n",
    "    <li><b>Budget:</b> The budget of the movie in US dollars.</li>\n",
    "    <li><b>Gross:</b> The gross of the movie in US dollars.</li>\n",
    "    <li><b>Release Date:</b> The date the movie was released.</li>\n",
    "    <li><b>Genre:</b> The genre of the movie.</li>\n",
    "    <li><b>Runtime:</b> The length of the movie in minutes.</li>\n",
    "    <li><b>Rating:</b> The rating of the movie from 1 to 10.</li>\n",
    "    <li><b>Rating Count:</b> The number of ratings the movie has received.</li>\n",
    "</ul>\n"
   ]
  },
  {
   "cell_type": "code",
   "execution_count": 1,
   "id": "1b9f4355",
   "metadata": {},
   "outputs": [],
   "source": [
    "# Import modules\n",
    "import pandas as pd\n",
    "import matplotlib.pyplot as plt\n",
    "import seaborn as sns\n",
    "from scipy.stats import linregress\n",
    "import statsmodels.formula.api as smf\n",
    "import numpy as np\n",
    "import pingouin\n",
    "from scipy.stats import norm"
   ]
  },
  {
   "cell_type": "code",
   "execution_count": 2,
   "id": "ef7f38ec",
   "metadata": {},
   "outputs": [],
   "source": [
    "# Import dataset\n",
    "movies = pd.read_csv('./dataset/Movies_gross_rating.csv', index_col = 'index')"
   ]
  },
  {
   "cell_type": "code",
   "execution_count": 3,
   "id": "c2fb30e7",
   "metadata": {},
   "outputs": [
    {
     "name": "stdout",
     "output_type": "stream",
     "text": [
      "<class 'pandas.core.frame.DataFrame'>\n",
      "Int64Index: 510 entries, 0 to 509\n",
      "Data columns (total 10 columns):\n",
      " #   Column        Non-Null Count  Dtype  \n",
      "---  ------        --------------  -----  \n",
      " 0   MovieID       510 non-null    int64  \n",
      " 1   Title         510 non-null    object \n",
      " 2   MPAA Rating   510 non-null    object \n",
      " 3   Budget        510 non-null    int64  \n",
      " 4   Gross         510 non-null    int64  \n",
      " 5   Release Date  510 non-null    object \n",
      " 6   Genre         510 non-null    object \n",
      " 7   Runtime       510 non-null    int64  \n",
      " 8   Rating        508 non-null    float64\n",
      " 9   Rating Count  508 non-null    float64\n",
      "dtypes: float64(2), int64(4), object(4)\n",
      "memory usage: 43.8+ KB\n"
     ]
    }
   ],
   "source": [
    "# A quick preview of the variables, contained in the dataset.\n",
    "movies.info()"
   ]
  },
  {
   "cell_type": "markdown",
   "id": "63abf541",
   "metadata": {},
   "source": [
    "Two columns have missing values - Rating and Rating Count"
   ]
  },
  {
   "cell_type": "code",
   "execution_count": 4,
   "id": "f39bf10d",
   "metadata": {},
   "outputs": [
    {
     "data": {
      "text/html": [
       "<div>\n",
       "<style scoped>\n",
       "    .dataframe tbody tr th:only-of-type {\n",
       "        vertical-align: middle;\n",
       "    }\n",
       "\n",
       "    .dataframe tbody tr th {\n",
       "        vertical-align: top;\n",
       "    }\n",
       "\n",
       "    .dataframe thead th {\n",
       "        text-align: right;\n",
       "    }\n",
       "</style>\n",
       "<table border=\"1\" class=\"dataframe\">\n",
       "  <thead>\n",
       "    <tr style=\"text-align: right;\">\n",
       "      <th></th>\n",
       "      <th>MovieID</th>\n",
       "      <th>Title</th>\n",
       "      <th>MPAA Rating</th>\n",
       "      <th>Budget</th>\n",
       "      <th>Gross</th>\n",
       "      <th>Release Date</th>\n",
       "      <th>Genre</th>\n",
       "      <th>Runtime</th>\n",
       "      <th>Rating</th>\n",
       "      <th>Rating Count</th>\n",
       "    </tr>\n",
       "    <tr>\n",
       "      <th>index</th>\n",
       "      <th></th>\n",
       "      <th></th>\n",
       "      <th></th>\n",
       "      <th></th>\n",
       "      <th></th>\n",
       "      <th></th>\n",
       "      <th></th>\n",
       "      <th></th>\n",
       "      <th></th>\n",
       "      <th></th>\n",
       "    </tr>\n",
       "  </thead>\n",
       "  <tbody>\n",
       "    <tr>\n",
       "      <th>0</th>\n",
       "      <td>1</td>\n",
       "      <td>Look Who's Talking</td>\n",
       "      <td>PG-13</td>\n",
       "      <td>7500000</td>\n",
       "      <td>296000000</td>\n",
       "      <td>1989-10-12</td>\n",
       "      <td>Romance</td>\n",
       "      <td>93</td>\n",
       "      <td>5.9</td>\n",
       "      <td>73638.0</td>\n",
       "    </tr>\n",
       "    <tr>\n",
       "      <th>1</th>\n",
       "      <td>2</td>\n",
       "      <td>Driving Miss Daisy</td>\n",
       "      <td>PG</td>\n",
       "      <td>7500000</td>\n",
       "      <td>145793296</td>\n",
       "      <td>1989-12-13</td>\n",
       "      <td>Comedy</td>\n",
       "      <td>99</td>\n",
       "      <td>7.4</td>\n",
       "      <td>91075.0</td>\n",
       "    </tr>\n",
       "    <tr>\n",
       "      <th>2</th>\n",
       "      <td>3</td>\n",
       "      <td>Turner &amp; Hooch</td>\n",
       "      <td>PG</td>\n",
       "      <td>13000000</td>\n",
       "      <td>71079915</td>\n",
       "      <td>1989-07-28</td>\n",
       "      <td>Crime</td>\n",
       "      <td>100</td>\n",
       "      <td>7.2</td>\n",
       "      <td>91415.0</td>\n",
       "    </tr>\n",
       "    <tr>\n",
       "      <th>3</th>\n",
       "      <td>4</td>\n",
       "      <td>Born on the Fourth of July</td>\n",
       "      <td>R</td>\n",
       "      <td>14000000</td>\n",
       "      <td>161001698</td>\n",
       "      <td>1989-12-20</td>\n",
       "      <td>War</td>\n",
       "      <td>145</td>\n",
       "      <td>7.2</td>\n",
       "      <td>91415.0</td>\n",
       "    </tr>\n",
       "    <tr>\n",
       "      <th>4</th>\n",
       "      <td>5</td>\n",
       "      <td>Field of Dreams</td>\n",
       "      <td>PG</td>\n",
       "      <td>15000000</td>\n",
       "      <td>84431625</td>\n",
       "      <td>1989-04-21</td>\n",
       "      <td>Drama</td>\n",
       "      <td>107</td>\n",
       "      <td>7.5</td>\n",
       "      <td>101702.0</td>\n",
       "    </tr>\n",
       "  </tbody>\n",
       "</table>\n",
       "</div>"
      ],
      "text/plain": [
       "       MovieID                       Title MPAA Rating    Budget      Gross  \\\n",
       "index                                                                         \n",
       "0            1          Look Who's Talking       PG-13   7500000  296000000   \n",
       "1            2          Driving Miss Daisy          PG   7500000  145793296   \n",
       "2            3              Turner & Hooch          PG  13000000   71079915   \n",
       "3            4  Born on the Fourth of July           R  14000000  161001698   \n",
       "4            5             Field of Dreams          PG  15000000   84431625   \n",
       "\n",
       "      Release Date    Genre  Runtime  Rating  Rating Count  \n",
       "index                                                       \n",
       "0       1989-10-12  Romance       93     5.9       73638.0  \n",
       "1       1989-12-13   Comedy       99     7.4       91075.0  \n",
       "2       1989-07-28    Crime      100     7.2       91415.0  \n",
       "3       1989-12-20      War      145     7.2       91415.0  \n",
       "4       1989-04-21    Drama      107     7.5      101702.0  "
      ]
     },
     "execution_count": 4,
     "metadata": {},
     "output_type": "execute_result"
    }
   ],
   "source": [
    "# Show the first 5 rows of the dataset.\n",
    "movies.head()"
   ]
  },
  {
   "cell_type": "markdown",
   "id": "c719693a",
   "metadata": {},
   "source": [
    "The description of the dataset in Kaggle informs that it includes the top 20 movies released every year from 1989 to 2014.\n",
    "Therefore, the sampling was not random and the dataset is not representative for all movies released in this time range.\n",
    "No information is provided regarding what top movies means."
   ]
  },
  {
   "cell_type": "code",
   "execution_count": 5,
   "id": "996feb9e",
   "metadata": {
    "scrolled": false
   },
   "outputs": [
    {
     "data": {
      "text/plain": [
       "Year\n",
       "1989    20\n",
       "1990    20\n",
       "1991    19\n",
       "1992    20\n",
       "1993    19\n",
       "1994    20\n",
       "1995    20\n",
       "1996    20\n",
       "1997    19\n",
       "1998    20\n",
       "1999    19\n",
       "2000    20\n",
       "2001    21\n",
       "2002    19\n",
       "2003    20\n",
       "2004    20\n",
       "2005    20\n",
       "2006    20\n",
       "2007    20\n",
       "2008    20\n",
       "2009    20\n",
       "2010    20\n",
       "2011    19\n",
       "2012    20\n",
       "2013    20\n",
       "2014    15\n",
       "Name: Title, dtype: int64"
      ]
     },
     "execution_count": 5,
     "metadata": {},
     "output_type": "execute_result"
    }
   ],
   "source": [
    "# Does the dataset really include about 20 movies for every year?\n",
    "# Create a new column 'Year'\n",
    "movies['Year'] = pd.DatetimeIndex(movies['Release Date']).year\n",
    "# Count the number of movies for every year\n",
    "movies.groupby('Year')['Title'].count()"
   ]
  },
  {
   "cell_type": "markdown",
   "id": "d0be844f",
   "metadata": {},
   "source": [
    "The dataset includes about 20 movies for every year from 1989 to 2014."
   ]
  },
  {
   "cell_type": "code",
   "execution_count": 6,
   "id": "fb7e3b12",
   "metadata": {},
   "outputs": [
    {
     "data": {
      "text/html": [
       "<div>\n",
       "<style scoped>\n",
       "    .dataframe tbody tr th:only-of-type {\n",
       "        vertical-align: middle;\n",
       "    }\n",
       "\n",
       "    .dataframe tbody tr th {\n",
       "        vertical-align: top;\n",
       "    }\n",
       "\n",
       "    .dataframe thead th {\n",
       "        text-align: right;\n",
       "    }\n",
       "</style>\n",
       "<table border=\"1\" class=\"dataframe\">\n",
       "  <thead>\n",
       "    <tr style=\"text-align: right;\">\n",
       "      <th></th>\n",
       "      <th>MovieID</th>\n",
       "      <th>Budget</th>\n",
       "      <th>Gross</th>\n",
       "      <th>Runtime</th>\n",
       "      <th>Rating</th>\n",
       "      <th>Rating Count</th>\n",
       "      <th>Year</th>\n",
       "    </tr>\n",
       "  </thead>\n",
       "  <tbody>\n",
       "    <tr>\n",
       "      <th>count</th>\n",
       "      <td>510.000000</td>\n",
       "      <td>5.100000e+02</td>\n",
       "      <td>5.100000e+02</td>\n",
       "      <td>510.000000</td>\n",
       "      <td>508.000000</td>\n",
       "      <td>5.080000e+02</td>\n",
       "      <td>510.000000</td>\n",
       "    </tr>\n",
       "    <tr>\n",
       "      <th>mean</th>\n",
       "      <td>255.500000</td>\n",
       "      <td>8.429905e+07</td>\n",
       "      <td>3.831987e+08</td>\n",
       "      <td>117.758824</td>\n",
       "      <td>6.917323</td>\n",
       "      <td>3.392521e+05</td>\n",
       "      <td>2001.407843</td>\n",
       "    </tr>\n",
       "    <tr>\n",
       "      <th>std</th>\n",
       "      <td>147.368586</td>\n",
       "      <td>5.995296e+07</td>\n",
       "      <td>2.775539e+08</td>\n",
       "      <td>22.678644</td>\n",
       "      <td>0.888928</td>\n",
       "      <td>3.213388e+05</td>\n",
       "      <td>7.438704</td>\n",
       "    </tr>\n",
       "    <tr>\n",
       "      <th>min</th>\n",
       "      <td>1.000000</td>\n",
       "      <td>6.000000e+04</td>\n",
       "      <td>5.300000e+07</td>\n",
       "      <td>79.000000</td>\n",
       "      <td>4.100000</td>\n",
       "      <td>1.491800e+04</td>\n",
       "      <td>1989.000000</td>\n",
       "    </tr>\n",
       "    <tr>\n",
       "      <th>25%</th>\n",
       "      <td>128.250000</td>\n",
       "      <td>3.557500e+07</td>\n",
       "      <td>1.965040e+08</td>\n",
       "      <td>100.000000</td>\n",
       "      <td>6.400000</td>\n",
       "      <td>1.275922e+05</td>\n",
       "      <td>1995.000000</td>\n",
       "    </tr>\n",
       "    <tr>\n",
       "      <th>50%</th>\n",
       "      <td>255.500000</td>\n",
       "      <td>7.050000e+07</td>\n",
       "      <td>3.100716e+08</td>\n",
       "      <td>115.000000</td>\n",
       "      <td>6.900000</td>\n",
       "      <td>2.403475e+05</td>\n",
       "      <td>2001.000000</td>\n",
       "    </tr>\n",
       "    <tr>\n",
       "      <th>75%</th>\n",
       "      <td>382.750000</td>\n",
       "      <td>1.250000e+08</td>\n",
       "      <td>4.826054e+08</td>\n",
       "      <td>130.000000</td>\n",
       "      <td>7.600000</td>\n",
       "      <td>4.257000e+05</td>\n",
       "      <td>2008.000000</td>\n",
       "    </tr>\n",
       "    <tr>\n",
       "      <th>max</th>\n",
       "      <td>510.000000</td>\n",
       "      <td>3.800000e+08</td>\n",
       "      <td>2.787965e+09</td>\n",
       "      <td>201.000000</td>\n",
       "      <td>9.000000</td>\n",
       "      <td>2.127228e+06</td>\n",
       "      <td>2014.000000</td>\n",
       "    </tr>\n",
       "  </tbody>\n",
       "</table>\n",
       "</div>"
      ],
      "text/plain": [
       "          MovieID        Budget         Gross     Runtime      Rating  \\\n",
       "count  510.000000  5.100000e+02  5.100000e+02  510.000000  508.000000   \n",
       "mean   255.500000  8.429905e+07  3.831987e+08  117.758824    6.917323   \n",
       "std    147.368586  5.995296e+07  2.775539e+08   22.678644    0.888928   \n",
       "min      1.000000  6.000000e+04  5.300000e+07   79.000000    4.100000   \n",
       "25%    128.250000  3.557500e+07  1.965040e+08  100.000000    6.400000   \n",
       "50%    255.500000  7.050000e+07  3.100716e+08  115.000000    6.900000   \n",
       "75%    382.750000  1.250000e+08  4.826054e+08  130.000000    7.600000   \n",
       "max    510.000000  3.800000e+08  2.787965e+09  201.000000    9.000000   \n",
       "\n",
       "       Rating Count         Year  \n",
       "count  5.080000e+02   510.000000  \n",
       "mean   3.392521e+05  2001.407843  \n",
       "std    3.213388e+05     7.438704  \n",
       "min    1.491800e+04  1989.000000  \n",
       "25%    1.275922e+05  1995.000000  \n",
       "50%    2.403475e+05  2001.000000  \n",
       "75%    4.257000e+05  2008.000000  \n",
       "max    2.127228e+06  2014.000000  "
      ]
     },
     "execution_count": 6,
     "metadata": {},
     "output_type": "execute_result"
    }
   ],
   "source": [
    "# Display key summary statistics for every numeric variable in order to find its range, typical values and possible outliers.\n",
    "movies.describe()"
   ]
  },
  {
   "cell_type": "markdown",
   "id": "09e4c7e7",
   "metadata": {},
   "source": [
    "The average budget (84 mio) is higher than the median (70.5 mio) which is a sign that its distribution is right skewed with \n",
    "extremely high values. The highest budget in the dataset is more than 3 times higher than the 75th percentile.\n",
    "\n",
    "For gross the mean is again higher than the median and the maximal value is 5.7 times higher than the third quartile.\n",
    "\n",
    "The runtime, which is the length of the movies in minutes, is approx. 118 minutes on average. The shortest film duration in \n",
    "the dataset is 79 min and the longest - 201 min.\n",
    "\n",
    "The maximal rating a movie in the dataset has recieved is 9 and the lowest rating is 4.1. \n",
    "The mean and the median are very close.\n",
    "\n",
    "The number of ratings a movie has recieved varies between approx. 15 000 and 2 mio."
   ]
  },
  {
   "cell_type": "code",
   "execution_count": 7,
   "id": "93ff51bc",
   "metadata": {},
   "outputs": [
    {
     "data": {
      "text/html": [
       "<div>\n",
       "<style scoped>\n",
       "    .dataframe tbody tr th:only-of-type {\n",
       "        vertical-align: middle;\n",
       "    }\n",
       "\n",
       "    .dataframe tbody tr th {\n",
       "        vertical-align: top;\n",
       "    }\n",
       "\n",
       "    .dataframe thead th {\n",
       "        text-align: right;\n",
       "    }\n",
       "</style>\n",
       "<table border=\"1\" class=\"dataframe\">\n",
       "  <thead>\n",
       "    <tr style=\"text-align: right;\">\n",
       "      <th></th>\n",
       "      <th>MovieID</th>\n",
       "      <th>Title</th>\n",
       "      <th>MPAA Rating</th>\n",
       "      <th>Budget</th>\n",
       "      <th>Gross</th>\n",
       "      <th>Release Date</th>\n",
       "      <th>Genre</th>\n",
       "      <th>Runtime</th>\n",
       "      <th>Rating</th>\n",
       "      <th>Rating Count</th>\n",
       "      <th>Year</th>\n",
       "    </tr>\n",
       "    <tr>\n",
       "      <th>index</th>\n",
       "      <th></th>\n",
       "      <th></th>\n",
       "      <th></th>\n",
       "      <th></th>\n",
       "      <th></th>\n",
       "      <th></th>\n",
       "      <th></th>\n",
       "      <th></th>\n",
       "      <th></th>\n",
       "      <th></th>\n",
       "      <th></th>\n",
       "    </tr>\n",
       "  </thead>\n",
       "  <tbody>\n",
       "    <tr>\n",
       "      <th>486</th>\n",
       "      <td>487</td>\n",
       "      <td>Fast &amp; Furious 6</td>\n",
       "      <td>PG-13</td>\n",
       "      <td>160000000</td>\n",
       "      <td>788679850</td>\n",
       "      <td>2013-05-06</td>\n",
       "      <td>Action</td>\n",
       "      <td>130</td>\n",
       "      <td>NaN</td>\n",
       "      <td>NaN</td>\n",
       "      <td>2013</td>\n",
       "    </tr>\n",
       "    <tr>\n",
       "      <th>489</th>\n",
       "      <td>490</td>\n",
       "      <td>Oz: The Great and Powerful</td>\n",
       "      <td>PG</td>\n",
       "      <td>200000000</td>\n",
       "      <td>491868548</td>\n",
       "      <td>2013-03-07</td>\n",
       "      <td>Drama</td>\n",
       "      <td>130</td>\n",
       "      <td>NaN</td>\n",
       "      <td>NaN</td>\n",
       "      <td>2013</td>\n",
       "    </tr>\n",
       "  </tbody>\n",
       "</table>\n",
       "</div>"
      ],
      "text/plain": [
       "       MovieID                       Title MPAA Rating     Budget      Gross  \\\n",
       "index                                                                          \n",
       "486        487            Fast & Furious 6       PG-13  160000000  788679850   \n",
       "489        490  Oz: The Great and Powerful          PG  200000000  491868548   \n",
       "\n",
       "      Release Date   Genre  Runtime  Rating  Rating Count  Year  \n",
       "index                                                            \n",
       "486     2013-05-06  Action      130     NaN           NaN  2013  \n",
       "489     2013-03-07   Drama      130     NaN           NaN  2013  "
      ]
     },
     "execution_count": 7,
     "metadata": {},
     "output_type": "execute_result"
    }
   ],
   "source": [
    "# Find which rows in the dataset have missing values for the columns Rating and Rating Count.\n",
    "# These rows should be deleted if a further analysis of these columns will be done.\n",
    "# For now they are left in the table.\n",
    "movies[(movies['Rating'].isna()) | (movies['Rating Count'].isna())].head()"
   ]
  },
  {
   "cell_type": "code",
   "execution_count": 8,
   "id": "549fa1d6",
   "metadata": {},
   "outputs": [
    {
     "data": {
      "text/html": [
       "<div>\n",
       "<style scoped>\n",
       "    .dataframe tbody tr th:only-of-type {\n",
       "        vertical-align: middle;\n",
       "    }\n",
       "\n",
       "    .dataframe tbody tr th {\n",
       "        vertical-align: top;\n",
       "    }\n",
       "\n",
       "    .dataframe thead th {\n",
       "        text-align: right;\n",
       "    }\n",
       "</style>\n",
       "<table border=\"1\" class=\"dataframe\">\n",
       "  <thead>\n",
       "    <tr style=\"text-align: right;\">\n",
       "      <th></th>\n",
       "      <th>MovieID</th>\n",
       "      <th>Title</th>\n",
       "      <th>MPAA Rating</th>\n",
       "      <th>Budget</th>\n",
       "      <th>Gross</th>\n",
       "      <th>Release Date</th>\n",
       "      <th>Genre</th>\n",
       "      <th>Runtime</th>\n",
       "      <th>Rating</th>\n",
       "      <th>Rating Count</th>\n",
       "      <th>Year</th>\n",
       "    </tr>\n",
       "    <tr>\n",
       "      <th>index</th>\n",
       "      <th></th>\n",
       "      <th></th>\n",
       "      <th></th>\n",
       "      <th></th>\n",
       "      <th></th>\n",
       "      <th></th>\n",
       "      <th></th>\n",
       "      <th></th>\n",
       "      <th></th>\n",
       "      <th></th>\n",
       "      <th></th>\n",
       "    </tr>\n",
       "  </thead>\n",
       "  <tbody>\n",
       "    <tr>\n",
       "      <th>249</th>\n",
       "      <td>250</td>\n",
       "      <td>Jurassic Park III</td>\n",
       "      <td>PG-13</td>\n",
       "      <td>93000000</td>\n",
       "      <td>368780809</td>\n",
       "      <td>2001-07-18</td>\n",
       "      <td>Adventure</td>\n",
       "      <td>92</td>\n",
       "      <td>5.9</td>\n",
       "      <td>280110.0</td>\n",
       "      <td>2001</td>\n",
       "    </tr>\n",
       "    <tr>\n",
       "      <th>501</th>\n",
       "      <td>502</td>\n",
       "      <td>Teenage Mutant Ninja Turtles</td>\n",
       "      <td>PG-13</td>\n",
       "      <td>125000000</td>\n",
       "      <td>477200000</td>\n",
       "      <td>2014-08-07</td>\n",
       "      <td>Action</td>\n",
       "      <td>101</td>\n",
       "      <td>5.8</td>\n",
       "      <td>194073.0</td>\n",
       "      <td>2014</td>\n",
       "    </tr>\n",
       "    <tr>\n",
       "      <th>504</th>\n",
       "      <td>505</td>\n",
       "      <td>Godzilla</td>\n",
       "      <td>PG-13</td>\n",
       "      <td>160000000</td>\n",
       "      <td>529076069</td>\n",
       "      <td>2014-05-14</td>\n",
       "      <td>Thriller</td>\n",
       "      <td>123</td>\n",
       "      <td>6.4</td>\n",
       "      <td>359438.0</td>\n",
       "      <td>2014</td>\n",
       "    </tr>\n",
       "  </tbody>\n",
       "</table>\n",
       "</div>"
      ],
      "text/plain": [
       "       MovieID                         Title MPAA Rating     Budget  \\\n",
       "index                                                                 \n",
       "249        250             Jurassic Park III       PG-13   93000000   \n",
       "501        502  Teenage Mutant Ninja Turtles       PG-13  125000000   \n",
       "504        505                      Godzilla       PG-13  160000000   \n",
       "\n",
       "           Gross Release Date      Genre  Runtime  Rating  Rating Count  Year  \n",
       "index                                                                          \n",
       "249    368780809   2001-07-18  Adventure       92     5.9      280110.0  2001  \n",
       "501    477200000   2014-08-07     Action      101     5.8      194073.0  2014  \n",
       "504    529076069   2014-05-14   Thriller      123     6.4      359438.0  2014  "
      ]
     },
     "execution_count": 8,
     "metadata": {},
     "output_type": "execute_result"
    }
   ],
   "source": [
    "# Examine if there are titles or MovieIDs that appear more than once in the dataset.\n",
    "duplicate_titles = movies[(movies.duplicated(subset=['Title'])) | (movies.duplicated(subset=['MovieID']))]\n",
    "duplicate_titles"
   ]
  },
  {
   "cell_type": "code",
   "execution_count": 9,
   "id": "13cced98",
   "metadata": {},
   "outputs": [
    {
     "data": {
      "text/html": [
       "<div>\n",
       "<style scoped>\n",
       "    .dataframe tbody tr th:only-of-type {\n",
       "        vertical-align: middle;\n",
       "    }\n",
       "\n",
       "    .dataframe tbody tr th {\n",
       "        vertical-align: top;\n",
       "    }\n",
       "\n",
       "    .dataframe thead th {\n",
       "        text-align: right;\n",
       "    }\n",
       "</style>\n",
       "<table border=\"1\" class=\"dataframe\">\n",
       "  <thead>\n",
       "    <tr style=\"text-align: right;\">\n",
       "      <th></th>\n",
       "      <th>MovieID</th>\n",
       "      <th>Title</th>\n",
       "      <th>MPAA Rating</th>\n",
       "      <th>Budget</th>\n",
       "      <th>Gross</th>\n",
       "      <th>Release Date</th>\n",
       "      <th>Genre</th>\n",
       "      <th>Runtime</th>\n",
       "      <th>Rating</th>\n",
       "      <th>Rating Count</th>\n",
       "      <th>Year</th>\n",
       "    </tr>\n",
       "    <tr>\n",
       "      <th>index</th>\n",
       "      <th></th>\n",
       "      <th></th>\n",
       "      <th></th>\n",
       "      <th></th>\n",
       "      <th></th>\n",
       "      <th></th>\n",
       "      <th></th>\n",
       "      <th></th>\n",
       "      <th></th>\n",
       "      <th></th>\n",
       "      <th></th>\n",
       "    </tr>\n",
       "  </thead>\n",
       "  <tbody>\n",
       "    <tr>\n",
       "      <th>21</th>\n",
       "      <td>22</td>\n",
       "      <td>Teenage Mutant Ninja Turtles</td>\n",
       "      <td>PG</td>\n",
       "      <td>13500000</td>\n",
       "      <td>202000000</td>\n",
       "      <td>1990-03-30</td>\n",
       "      <td>Action</td>\n",
       "      <td>93</td>\n",
       "      <td>6.8</td>\n",
       "      <td>79806.0</td>\n",
       "      <td>1990</td>\n",
       "    </tr>\n",
       "    <tr>\n",
       "      <th>98</th>\n",
       "      <td>99</td>\n",
       "      <td>Jurassic Park III</td>\n",
       "      <td>PG-13</td>\n",
       "      <td>93000000</td>\n",
       "      <td>368800000</td>\n",
       "      <td>2001-07-16</td>\n",
       "      <td>Thriller</td>\n",
       "      <td>92</td>\n",
       "      <td>8.9</td>\n",
       "      <td>1690474.0</td>\n",
       "      <td>2001</td>\n",
       "    </tr>\n",
       "    <tr>\n",
       "      <th>195</th>\n",
       "      <td>196</td>\n",
       "      <td>Godzilla</td>\n",
       "      <td>PG-13</td>\n",
       "      <td>130000000</td>\n",
       "      <td>379014294</td>\n",
       "      <td>1998-05-20</td>\n",
       "      <td>Thriller</td>\n",
       "      <td>139</td>\n",
       "      <td>5.4</td>\n",
       "      <td>174600.0</td>\n",
       "      <td>1998</td>\n",
       "    </tr>\n",
       "    <tr>\n",
       "      <th>249</th>\n",
       "      <td>250</td>\n",
       "      <td>Jurassic Park III</td>\n",
       "      <td>PG-13</td>\n",
       "      <td>93000000</td>\n",
       "      <td>368780809</td>\n",
       "      <td>2001-07-18</td>\n",
       "      <td>Adventure</td>\n",
       "      <td>92</td>\n",
       "      <td>5.9</td>\n",
       "      <td>280110.0</td>\n",
       "      <td>2001</td>\n",
       "    </tr>\n",
       "    <tr>\n",
       "      <th>501</th>\n",
       "      <td>502</td>\n",
       "      <td>Teenage Mutant Ninja Turtles</td>\n",
       "      <td>PG-13</td>\n",
       "      <td>125000000</td>\n",
       "      <td>477200000</td>\n",
       "      <td>2014-08-07</td>\n",
       "      <td>Action</td>\n",
       "      <td>101</td>\n",
       "      <td>5.8</td>\n",
       "      <td>194073.0</td>\n",
       "      <td>2014</td>\n",
       "    </tr>\n",
       "    <tr>\n",
       "      <th>504</th>\n",
       "      <td>505</td>\n",
       "      <td>Godzilla</td>\n",
       "      <td>PG-13</td>\n",
       "      <td>160000000</td>\n",
       "      <td>529076069</td>\n",
       "      <td>2014-05-14</td>\n",
       "      <td>Thriller</td>\n",
       "      <td>123</td>\n",
       "      <td>6.4</td>\n",
       "      <td>359438.0</td>\n",
       "      <td>2014</td>\n",
       "    </tr>\n",
       "  </tbody>\n",
       "</table>\n",
       "</div>"
      ],
      "text/plain": [
       "       MovieID                         Title MPAA Rating     Budget  \\\n",
       "index                                                                 \n",
       "21          22  Teenage Mutant Ninja Turtles          PG   13500000   \n",
       "98          99             Jurassic Park III       PG-13   93000000   \n",
       "195        196                      Godzilla       PG-13  130000000   \n",
       "249        250             Jurassic Park III       PG-13   93000000   \n",
       "501        502  Teenage Mutant Ninja Turtles       PG-13  125000000   \n",
       "504        505                      Godzilla       PG-13  160000000   \n",
       "\n",
       "           Gross Release Date      Genre  Runtime  Rating  Rating Count  Year  \n",
       "index                                                                          \n",
       "21     202000000   1990-03-30     Action       93     6.8       79806.0  1990  \n",
       "98     368800000   2001-07-16   Thriller       92     8.9     1690474.0  2001  \n",
       "195    379014294   1998-05-20   Thriller      139     5.4      174600.0  1998  \n",
       "249    368780809   2001-07-18  Adventure       92     5.9      280110.0  2001  \n",
       "501    477200000   2014-08-07     Action      101     5.8      194073.0  2014  \n",
       "504    529076069   2014-05-14   Thriller      123     6.4      359438.0  2014  "
      ]
     },
     "execution_count": 9,
     "metadata": {},
     "output_type": "execute_result"
    }
   ],
   "source": [
    "# Subset the dataset to have all duplicate titles\n",
    "subset_duplicate_titles = movies[movies['Title'].isin(list(duplicate_titles['Title']))]\n",
    "subset_duplicate_titles"
   ]
  },
  {
   "cell_type": "code",
   "execution_count": 10,
   "id": "a641e83b",
   "metadata": {},
   "outputs": [],
   "source": [
    "# Remove Jurassic Park III from the DataFrame because at least one of the two rows has an error. Both Jurassic Park III movies \n",
    "# share the same budget and runtime and are released with only 2 days difference.\n",
    "# The other movies share the same title but are released in different years.\n",
    "movies.drop(movies[movies.Title == 'Jurassic Park III'].index, inplace=True)"
   ]
  },
  {
   "cell_type": "code",
   "execution_count": 11,
   "id": "fd7fe300",
   "metadata": {},
   "outputs": [
    {
     "data": {
      "image/png": "[encoded data removed]",
      "text/plain": [
       "<Figure size 640x480 with 1 Axes>"
      ]
     },
     "metadata": {},
     "output_type": "display_data"
    }
   ],
   "source": [
    "# Find out how many movies from each genre the dataset contains.\n",
    "# Barplot for the column Genre:\n",
    "g = movies.Genre.value_counts()\n",
    "\n",
    "g.plot(kind = 'bar', \n",
    "       rot = 65, \n",
    "       xlabel = 'Genre',\n",
    "       ylabel = 'Number of movies', \n",
    "       title ='Number of movies in the dataset corresponding to every genre', \n",
    "       color = 'C0')\n",
    "\n",
    "plt.show()"
   ]
  },
  {
   "cell_type": "markdown",
   "id": "160ebf48",
   "metadata": {},
   "source": [
    "The genre with the highest amount of movies in the dataset is Comedy and the historical movies are the fewest."
   ]
  },
  {
   "cell_type": "code",
   "execution_count": 12,
   "id": "bf586960",
   "metadata": {},
   "outputs": [],
   "source": [
    "# Convert Budget and Gross into billions for the subsequent graphs.\n",
    "budget = movies['Budget'] / 1000000000\n",
    "gross = movies['Gross'] / 1000000000"
   ]
  },
  {
   "cell_type": "code",
   "execution_count": 13,
   "id": "23d93031",
   "metadata": {},
   "outputs": [
    {
     "data": {
      "image/png": "[encoded data removed]",
      "text/plain": [
       "<Figure size 640x480 with 1 Axes>"
      ]
     },
     "metadata": {},
     "output_type": "display_data"
    }
   ],
   "source": [
    "# Check if the distribution of the gross is right skewed as the summary statistics indicated.\n",
    "plt.hist(gross,  \n",
    "         bins = 25, \n",
    "         density = True)\n",
    "\n",
    "plt.xlabel('Gross in billion US dollars')\n",
    "plt.title('Gross distribution')\n",
    "\n",
    "sns.kdeplot(gross)\n",
    "\n",
    "plt.show()"
   ]
  },
  {
   "cell_type": "markdown",
   "id": "17546000",
   "metadata": {},
   "source": [
    "Yes, like other financial indicators, gross is right skewed with some extreme values."
   ]
  },
  {
   "cell_type": "code",
   "execution_count": 14,
   "id": "2d54fbdd",
   "metadata": {
    "scrolled": false
   },
   "outputs": [
    {
     "data": {
      "image/png": "[encoded data removed]",
      "text/plain": [
       "<Figure size 640x480 with 1 Axes>"
      ]
     },
     "metadata": {},
     "output_type": "display_data"
    }
   ],
   "source": [
    "# Check if the distribution of the budget is right skewed.\n",
    "plt.hist(budget)\n",
    "\n",
    "plt.xlabel('Budget in billion US dollars')\n",
    "plt.ylabel('Number of movies')\n",
    "plt.title('Budget distribution')\n",
    "\n",
    "plt.show()"
   ]
  },
  {
   "cell_type": "markdown",
   "id": "a6942338",
   "metadata": {},
   "source": [
    "There are some movies with extremely high budgets."
   ]
  },
  {
   "cell_type": "code",
   "execution_count": 15,
   "id": "3dbb3ddd",
   "metadata": {
    "scrolled": false
   },
   "outputs": [
    {
     "data": {
      "image/png": "[encoded data removed]",
      "text/plain": [
       "<Figure size 500x500 with 1 Axes>"
      ]
     },
     "metadata": {},
     "output_type": "display_data"
    }
   ],
   "source": [
    "# Does the budget correlate with the gross? \n",
    "# Create a scatterplot\n",
    "m = sns.relplot(x = budget, \n",
    "                y = gross, \n",
    "                kind = \"scatter\")\n",
    "\n",
    "m.set(title = 'Budget and gross relationship', \n",
    "      xlabel = 'Budget in billion US dollars', \n",
    "      ylabel = 'Gross in billion US dollars',\n",
    "      ylim = (0, 3),\n",
    "      xlim = (0,0.4))\n",
    "\n",
    "plt.show()"
   ]
  },
  {
   "cell_type": "markdown",
   "id": "288905d6",
   "metadata": {},
   "source": [
    "It looks like there is a positive correlation between the two variables. This means that movies with higher budget tend \n",
    "to generate higher gross."
   ]
  },
  {
   "cell_type": "code",
   "execution_count": 16,
   "id": "f40af998",
   "metadata": {},
   "outputs": [
    {
     "data": {
      "text/html": [
       "<div>\n",
       "<style scoped>\n",
       "    .dataframe tbody tr th:only-of-type {\n",
       "        vertical-align: middle;\n",
       "    }\n",
       "\n",
       "    .dataframe tbody tr th {\n",
       "        vertical-align: top;\n",
       "    }\n",
       "\n",
       "    .dataframe thead th {\n",
       "        text-align: right;\n",
       "    }\n",
       "</style>\n",
       "<table border=\"1\" class=\"dataframe\">\n",
       "  <thead>\n",
       "    <tr style=\"text-align: right;\">\n",
       "      <th></th>\n",
       "      <th>Budget</th>\n",
       "      <th>Gross</th>\n",
       "    </tr>\n",
       "  </thead>\n",
       "  <tbody>\n",
       "    <tr>\n",
       "      <th>Budget</th>\n",
       "      <td>1.000000</td>\n",
       "      <td>0.655099</td>\n",
       "    </tr>\n",
       "    <tr>\n",
       "      <th>Gross</th>\n",
       "      <td>0.655099</td>\n",
       "      <td>1.000000</td>\n",
       "    </tr>\n",
       "  </tbody>\n",
       "</table>\n",
       "</div>"
      ],
      "text/plain": [
       "          Budget     Gross\n",
       "Budget  1.000000  0.655099\n",
       "Gross   0.655099  1.000000"
      ]
     },
     "execution_count": 16,
     "metadata": {},
     "output_type": "execute_result"
    }
   ],
   "source": [
    "# Calculate the correlation coefficient\n",
    "movies[['Budget', 'Gross']].corr()"
   ]
  },
  {
   "cell_type": "markdown",
   "id": "c54e320a",
   "metadata": {},
   "source": [
    "The correlation coefficient shows moderate positive linear relationship."
   ]
  },
  {
   "cell_type": "code",
   "execution_count": 17,
   "id": "dd2e5d32",
   "metadata": {},
   "outputs": [
    {
     "name": "stdout",
     "output_type": "stream",
     "text": [
      "                            OLS Regression Results                            \n",
      "==============================================================================\n",
      "Dep. Variable:                  Gross   R-squared:                       0.429\n",
      "Model:                            OLS   Adj. R-squared:                  0.428\n",
      "Method:                 Least Squares   F-statistic:                     380.4\n",
      "Date:                Sat, 25 Feb 2023   Prob (F-statistic):           1.35e-63\n",
      "Time:                        12:39:07   Log-Likelihood:                -10455.\n",
      "No. Observations:                 508   AIC:                         2.091e+04\n",
      "Df Residuals:                     506   BIC:                         2.092e+04\n",
      "Df Model:                           1                                         \n",
      "Covariance Type:            nonrobust                                         \n",
      "==============================================================================\n",
      "                 coef    std err          t      P>|t|      [0.025      0.975]\n",
      "------------------------------------------------------------------------------\n",
      "Intercept   1.277e+08   1.61e+07      7.938      0.000    9.61e+07    1.59e+08\n",
      "Budget         3.0329      0.156     19.504      0.000       2.727       3.338\n",
      "==============================================================================\n",
      "Omnibus:                      326.013   Durbin-Watson:                   1.958\n",
      "Prob(Omnibus):                  0.000   Jarque-Bera (JB):             5910.445\n",
      "Skew:                           2.470   Prob(JB):                         0.00\n",
      "Kurtosis:                      18.963   Cond. No.                     1.78e+08\n",
      "==============================================================================\n",
      "\n",
      "Notes:\n",
      "[1] Standard Errors assume that the covariance matrix of the errors is correctly specified.\n",
      "[2] The condition number is large, 1.78e+08. This might indicate that there are\n",
      "strong multicollinearity or other numerical problems.\n"
     ]
    }
   ],
   "source": [
    "# Construct a simple linear regression model\n",
    "# Define a significance level at 0.05\n",
    "results = smf.ols('Gross ~ Budget', data = movies).fit()\n",
    "print(results.summary())"
   ]
  },
  {
   "cell_type": "markdown",
   "id": "d67af0a9",
   "metadata": {},
   "source": [
    "The p-value of the slope is smaller than the significance level. This means that the gross varies significantly \n",
    "with the budget, invested in a movie. The intercept is also significant.\n",
    "One US dollar more budget tends to increase the gross by 3 US dollars on average. \n",
    "Movies, whose budget is zero dollars have a profit of 128 million US dollars on average.\n",
    "The model explains 43% of the variance in the dataset."
   ]
  },
  {
   "cell_type": "code",
   "execution_count": 18,
   "id": "1885ca01",
   "metadata": {},
   "outputs": [
    {
     "data": {
      "text/plain": [
       "LinregressResult(slope=3.0329100234804454, intercept=0.12768790276088265, rvalue=0.6550992746790967, pvalue=1.353027855897078e-63, stderr=0.15550208890953746, intercept_stderr=0.016086530597546365)"
      ]
     },
     "execution_count": 18,
     "metadata": {},
     "output_type": "execute_result"
    }
   ],
   "source": [
    "# The same simple linear regression as before but with another package\n",
    "res = linregress(budget, gross)\n",
    "res"
   ]
  },
  {
   "cell_type": "code",
   "execution_count": 19,
   "id": "da4043a4",
   "metadata": {},
   "outputs": [
    {
     "data": {
      "image/png": "[encoded data removed]",
      "text/plain": [
       "<Figure size 640x480 with 1 Axes>"
      ]
     },
     "metadata": {},
     "output_type": "display_data"
    }
   ],
   "source": [
    "# Plot the line of best fit from the simple linear regression model.\n",
    "# Create the line of best fit\n",
    "fx = np.array([budget.min(), budget.max()])\n",
    "fy = res.intercept + res.slope*fx\n",
    "\n",
    "plt.plot(fx, fy, '-', color = 'firebrick', alpha = 0.7)\n",
    "\n",
    "# Create the scatterplot\n",
    "b = sns.scatterplot(x = budget, \n",
    "                    y = gross, \n",
    "                    alpha = 0.8)\n",
    "\n",
    "b.set(title = 'Budget and gross relationship', \n",
    "      xlabel = 'Budget in billion US dollars', \n",
    "      ylabel = 'Gross in billion US dollars',\n",
    "      ylim = (0, 3),\n",
    "      xlim = (0,0.4))\n",
    "\n",
    "plt.show()"
   ]
  },
  {
   "cell_type": "code",
   "execution_count": 20,
   "id": "f8042112",
   "metadata": {},
   "outputs": [
    {
     "data": {
      "text/html": [
       "<div>\n",
       "<style scoped>\n",
       "    .dataframe tbody tr th:only-of-type {\n",
       "        vertical-align: middle;\n",
       "    }\n",
       "\n",
       "    .dataframe tbody tr th {\n",
       "        vertical-align: top;\n",
       "    }\n",
       "\n",
       "    .dataframe thead th {\n",
       "        text-align: right;\n",
       "    }\n",
       "</style>\n",
       "<table border=\"1\" class=\"dataframe\">\n",
       "  <thead>\n",
       "    <tr style=\"text-align: right;\">\n",
       "      <th>Year</th>\n",
       "      <th>1989</th>\n",
       "      <th>1990</th>\n",
       "      <th>1991</th>\n",
       "      <th>1992</th>\n",
       "      <th>1993</th>\n",
       "      <th>1994</th>\n",
       "      <th>1995</th>\n",
       "      <th>1996</th>\n",
       "      <th>1997</th>\n",
       "      <th>1998</th>\n",
       "      <th>...</th>\n",
       "      <th>2005</th>\n",
       "      <th>2006</th>\n",
       "      <th>2007</th>\n",
       "      <th>2008</th>\n",
       "      <th>2009</th>\n",
       "      <th>2010</th>\n",
       "      <th>2011</th>\n",
       "      <th>2012</th>\n",
       "      <th>2013</th>\n",
       "      <th>2014</th>\n",
       "    </tr>\n",
       "    <tr>\n",
       "      <th>Genre</th>\n",
       "      <th></th>\n",
       "      <th></th>\n",
       "      <th></th>\n",
       "      <th></th>\n",
       "      <th></th>\n",
       "      <th></th>\n",
       "      <th></th>\n",
       "      <th></th>\n",
       "      <th></th>\n",
       "      <th></th>\n",
       "      <th></th>\n",
       "      <th></th>\n",
       "      <th></th>\n",
       "      <th></th>\n",
       "      <th></th>\n",
       "      <th></th>\n",
       "      <th></th>\n",
       "      <th></th>\n",
       "      <th></th>\n",
       "      <th></th>\n",
       "      <th></th>\n",
       "    </tr>\n",
       "  </thead>\n",
       "  <tbody>\n",
       "    <tr>\n",
       "      <th>Action</th>\n",
       "      <td>182025846.0</td>\n",
       "      <td>185825554.0</td>\n",
       "      <td>78600000.0</td>\n",
       "      <td>248961452.4</td>\n",
       "      <td>159055768.0</td>\n",
       "      <td>2.706733e+08</td>\n",
       "      <td>298050651.4</td>\n",
       "      <td>5.260499e+08</td>\n",
       "      <td>2.460728e+08</td>\n",
       "      <td>250288523.0</td>\n",
       "      <td>...</td>\n",
       "      <td>3.523992e+08</td>\n",
       "      <td>425220373.5</td>\n",
       "      <td>557323048.4</td>\n",
       "      <td>5.848839e+08</td>\n",
       "      <td>5.039430e+08</td>\n",
       "      <td>6.024395e+08</td>\n",
       "      <td>723098973.0</td>\n",
       "      <td>1.017860e+09</td>\n",
       "      <td>8.278842e+08</td>\n",
       "      <td>5.635108e+08</td>\n",
       "    </tr>\n",
       "    <tr>\n",
       "      <th>Adventure</th>\n",
       "      <td>474171806.0</td>\n",
       "      <td>157920733.0</td>\n",
       "      <td>390493908.0</td>\n",
       "      <td>NaN</td>\n",
       "      <td>311937985.5</td>\n",
       "      <td>NaN</td>\n",
       "      <td>NaN</td>\n",
       "      <td>NaN</td>\n",
       "      <td>NaN</td>\n",
       "      <td>NaN</td>\n",
       "      <td>...</td>\n",
       "      <td>5.500000e+08</td>\n",
       "      <td>731754912.0</td>\n",
       "      <td>961000000.0</td>\n",
       "      <td>7.866360e+08</td>\n",
       "      <td>1.778809e+09</td>\n",
       "      <td>3.185029e+08</td>\n",
       "      <td>NaN</td>\n",
       "      <td>6.912107e+08</td>\n",
       "      <td>8.474235e+08</td>\n",
       "      <td>7.521002e+08</td>\n",
       "    </tr>\n",
       "    <tr>\n",
       "      <th>Animation</th>\n",
       "      <td>222300000.0</td>\n",
       "      <td>NaN</td>\n",
       "      <td>377350553.0</td>\n",
       "      <td>504050219.0</td>\n",
       "      <td>NaN</td>\n",
       "      <td>7.882418e+08</td>\n",
       "      <td>359816903.0</td>\n",
       "      <td>1.001389e+08</td>\n",
       "      <td>2.527121e+08</td>\n",
       "      <td>246670996.0</td>\n",
       "      <td>...</td>\n",
       "      <td>3.692701e+08</td>\n",
       "      <td>462664196.0</td>\n",
       "      <td>711340491.5</td>\n",
       "      <td>5.165207e+08</td>\n",
       "      <td>6.677653e+08</td>\n",
       "      <td>6.286076e+08</td>\n",
       "      <td>565785952.0</td>\n",
       "      <td>5.569313e+08</td>\n",
       "      <td>8.934299e+08</td>\n",
       "      <td>5.767964e+08</td>\n",
       "    </tr>\n",
       "    <tr>\n",
       "      <th>Comedy</th>\n",
       "      <td>175107970.0</td>\n",
       "      <td>138700000.0</td>\n",
       "      <td>146952176.4</td>\n",
       "      <td>137878766.0</td>\n",
       "      <td>83258080.6</td>\n",
       "      <td>3.441461e+08</td>\n",
       "      <td>118891516.5</td>\n",
       "      <td>2.124786e+08</td>\n",
       "      <td>3.053924e+08</td>\n",
       "      <td>244985328.5</td>\n",
       "      <td>...</td>\n",
       "      <td>2.593278e+08</td>\n",
       "      <td>233406786.8</td>\n",
       "      <td>297840922.6</td>\n",
       "      <td>2.306855e+08</td>\n",
       "      <td>3.212819e+08</td>\n",
       "      <td>2.910404e+08</td>\n",
       "      <td>271419754.5</td>\n",
       "      <td>5.493683e+08</td>\n",
       "      <td>2.008797e+08</td>\n",
       "      <td>2.282995e+08</td>\n",
       "    </tr>\n",
       "    <tr>\n",
       "      <th>Crime</th>\n",
       "      <td>71079915.0</td>\n",
       "      <td>162520957.0</td>\n",
       "      <td>227521461.0</td>\n",
       "      <td>NaN</td>\n",
       "      <td>186132612.0</td>\n",
       "      <td>NaN</td>\n",
       "      <td>179519401.0</td>\n",
       "      <td>1.522660e+08</td>\n",
       "      <td>NaN</td>\n",
       "      <td>NaN</td>\n",
       "      <td>...</td>\n",
       "      <td>NaN</td>\n",
       "      <td>NaN</td>\n",
       "      <td>266465037.0</td>\n",
       "      <td>2.582700e+08</td>\n",
       "      <td>NaN</td>\n",
       "      <td>NaN</td>\n",
       "      <td>NaN</td>\n",
       "      <td>NaN</td>\n",
       "      <td>2.511718e+08</td>\n",
       "      <td>NaN</td>\n",
       "    </tr>\n",
       "  </tbody>\n",
       "</table>\n",
       "<p>5 rows × 26 columns</p>\n",
       "</div>"
      ],
      "text/plain": [
       "Year              1989         1990         1991         1992         1993  \\\n",
       "Genre                                                                        \n",
       "Action     182025846.0  185825554.0   78600000.0  248961452.4  159055768.0   \n",
       "Adventure  474171806.0  157920733.0  390493908.0          NaN  311937985.5   \n",
       "Animation  222300000.0          NaN  377350553.0  504050219.0          NaN   \n",
       "Comedy     175107970.0  138700000.0  146952176.4  137878766.0   83258080.6   \n",
       "Crime       71079915.0  162520957.0  227521461.0          NaN  186132612.0   \n",
       "\n",
       "Year               1994         1995          1996          1997         1998  \\\n",
       "Genre                                                                           \n",
       "Action     2.706733e+08  298050651.4  5.260499e+08  2.460728e+08  250288523.0   \n",
       "Adventure           NaN          NaN           NaN           NaN          NaN   \n",
       "Animation  7.882418e+08  359816903.0  1.001389e+08  2.527121e+08  246670996.0   \n",
       "Comedy     3.441461e+08  118891516.5  2.124786e+08  3.053924e+08  244985328.5   \n",
       "Crime               NaN  179519401.0  1.522660e+08           NaN          NaN   \n",
       "\n",
       "Year       ...          2005         2006         2007          2008  \\\n",
       "Genre      ...                                                         \n",
       "Action     ...  3.523992e+08  425220373.5  557323048.4  5.848839e+08   \n",
       "Adventure  ...  5.500000e+08  731754912.0  961000000.0  7.866360e+08   \n",
       "Animation  ...  3.692701e+08  462664196.0  711340491.5  5.165207e+08   \n",
       "Comedy     ...  2.593278e+08  233406786.8  297840922.6  2.306855e+08   \n",
       "Crime      ...           NaN          NaN  266465037.0  2.582700e+08   \n",
       "\n",
       "Year               2009          2010         2011          2012  \\\n",
       "Genre                                                              \n",
       "Action     5.039430e+08  6.024395e+08  723098973.0  1.017860e+09   \n",
       "Adventure  1.778809e+09  3.185029e+08          NaN  6.912107e+08   \n",
       "Animation  6.677653e+08  6.286076e+08  565785952.0  5.569313e+08   \n",
       "Comedy     3.212819e+08  2.910404e+08  271419754.5  5.493683e+08   \n",
       "Crime               NaN           NaN          NaN           NaN   \n",
       "\n",
       "Year               2013          2014  \n",
       "Genre                                  \n",
       "Action     8.278842e+08  5.635108e+08  \n",
       "Adventure  8.474235e+08  7.521002e+08  \n",
       "Animation  8.934299e+08  5.767964e+08  \n",
       "Comedy     2.008797e+08  2.282995e+08  \n",
       "Crime      2.511718e+08           NaN  \n",
       "\n",
       "[5 rows x 26 columns]"
      ]
     },
     "execution_count": 20,
     "metadata": {},
     "output_type": "execute_result"
    }
   ],
   "source": [
    "# How much was the average gross for every genre every year?\n",
    "pivot = movies.pivot_table(values = 'Gross', columns = 'Year', index = 'Genre', aggfunc = np.mean)\n",
    "pivot.head()"
   ]
  },
  {
   "cell_type": "code",
   "execution_count": 21,
   "id": "2f116db1",
   "metadata": {},
   "outputs": [
    {
     "data": {
      "text/plain": [
       "Year\n",
       "1989          Adventure\n",
       "1990            Romance\n",
       "1991          Adventure\n",
       "1992          Animation\n",
       "1993            History\n",
       "1994          Animation\n",
       "1995          Animation\n",
       "1996             Action\n",
       "1997            Romance\n",
       "1998    Science Fiction\n",
       "1999    Science Fiction\n",
       "2000             Action\n",
       "2001            Fantasy\n",
       "2002            Fantasy\n",
       "2003            Fantasy\n",
       "2004            Fantasy\n",
       "2005            Fantasy\n",
       "2006            Mystery\n",
       "2007          Adventure\n",
       "2008          Adventure\n",
       "2009          Adventure\n",
       "2010            Fantasy\n",
       "2011            Fantasy\n",
       "2012             Action\n",
       "2013            Fantasy\n",
       "2014          Adventure\n",
       "dtype: object"
      ]
     },
     "execution_count": 21,
     "metadata": {},
     "output_type": "execute_result"
    }
   ],
   "source": [
    "# Find which genre had the highest average gross every year.\n",
    "pivot.idxmax(axis = 0)"
   ]
  },
  {
   "cell_type": "code",
   "execution_count": 22,
   "id": "89dc3c83",
   "metadata": {},
   "outputs": [
    {
     "data": {
      "text/plain": [
       "Fantasy            8\n",
       "Adventure          6\n",
       "Animation          3\n",
       "Action             3\n",
       "Romance            2\n",
       "Science Fiction    2\n",
       "History            1\n",
       "Mystery            1\n",
       "dtype: int64"
      ]
     },
     "execution_count": 22,
     "metadata": {},
     "output_type": "execute_result"
    }
   ],
   "source": [
    "# How many times each genre had the highest average gross? \n",
    "pivot.idxmax(axis = 0).value_counts()"
   ]
  },
  {
   "cell_type": "code",
   "execution_count": 23,
   "id": "654ffb5f",
   "metadata": {},
   "outputs": [
    {
     "data": {
      "text/plain": [
       "Genre\n",
       "Action             4.727080e+08\n",
       "Adventure          6.106823e+08\n",
       "Animation          5.258052e+08\n",
       "Comedy             2.330900e+08\n",
       "Crime              1.879282e+08\n",
       "Drama              2.369110e+08\n",
       "Family             2.900095e+08\n",
       "Fantasy            7.806203e+08\n",
       "History            2.753178e+08\n",
       "Horror             2.079729e+08\n",
       "Mystery            3.666867e+08\n",
       "Romance            3.878037e+08\n",
       "Science Fiction    4.390405e+08\n",
       "Thriller           3.447773e+08\n",
       "War                3.741882e+08\n",
       "Western            2.966232e+08\n",
       "Name: Gross, dtype: float64"
      ]
     },
     "execution_count": 23,
     "metadata": {},
     "output_type": "execute_result"
    }
   ],
   "source": [
    "# Calculate the average gross per genre (for all years).\n",
    "movies.groupby('Genre')['Gross'].mean() "
   ]
  },
  {
   "cell_type": "markdown",
   "id": "ae675827",
   "metadata": {},
   "source": [
    "The average gross for drama and the one for comedy movies seem to be very similar.\n",
    "Is the gross profit for drama movies different from the gross profit for comedies?"
   ]
  },
  {
   "cell_type": "code",
   "execution_count": 24,
   "id": "f3927968",
   "metadata": {},
   "outputs": [
    {
     "data": {
      "text/html": [
       "<div>\n",
       "<style scoped>\n",
       "    .dataframe tbody tr th:only-of-type {\n",
       "        vertical-align: middle;\n",
       "    }\n",
       "\n",
       "    .dataframe tbody tr th {\n",
       "        vertical-align: top;\n",
       "    }\n",
       "\n",
       "    .dataframe thead th {\n",
       "        text-align: right;\n",
       "    }\n",
       "</style>\n",
       "<table border=\"1\" class=\"dataframe\">\n",
       "  <thead>\n",
       "    <tr style=\"text-align: right;\">\n",
       "      <th></th>\n",
       "      <th>T</th>\n",
       "      <th>dof</th>\n",
       "      <th>alternative</th>\n",
       "      <th>p-val</th>\n",
       "      <th>CI95%</th>\n",
       "      <th>cohen-d</th>\n",
       "      <th>BF10</th>\n",
       "      <th>power</th>\n",
       "    </tr>\n",
       "  </thead>\n",
       "  <tbody>\n",
       "    <tr>\n",
       "      <th>T-test</th>\n",
       "      <td>-0.183537</td>\n",
       "      <td>114.008633</td>\n",
       "      <td>two-sided</td>\n",
       "      <td>0.854703</td>\n",
       "      <td>[-45062812.76, 37420796.69]</td>\n",
       "      <td>0.031167</td>\n",
       "      <td>0.183</td>\n",
       "      <td>0.053907</td>\n",
       "    </tr>\n",
       "  </tbody>\n",
       "</table>\n",
       "</div>"
      ],
      "text/plain": [
       "               T         dof alternative     p-val  \\\n",
       "T-test -0.183537  114.008633   two-sided  0.854703   \n",
       "\n",
       "                              CI95%   cohen-d   BF10     power  \n",
       "T-test  [-45062812.76, 37420796.69]  0.031167  0.183  0.053907  "
      ]
     },
     "execution_count": 24,
     "metadata": {},
     "output_type": "execute_result"
    }
   ],
   "source": [
    "# Two-sample t-test (assuming equal variances):\n",
    "# H0: both genres have the same gross profits (on average)\n",
    "# H1: both genres have different gross profits (on average)\n",
    "# confidence level = 0.05\n",
    "Comedy = movies[movies['Genre'] == 'Comedy']\n",
    "Drama = movies[movies['Genre'] == 'Drama']\n",
    "\n",
    "pingouin.ttest(x = Comedy['Gross'], \n",
    "               y = Drama['Gross'], \n",
    "               paired = False, \n",
    "               alternative = 'two-sided')"
   ]
  },
  {
   "cell_type": "markdown",
   "id": "3ca74bd5",
   "metadata": {},
   "source": [
    "The p-value is higher than the significance level. This means that H0 cannot be rejected."
   ]
  },
  {
   "cell_type": "markdown",
   "id": "cfc485fd",
   "metadata": {},
   "source": [
    "##### Assuming that the dataset is representative, calculate the 95% -confidence interval of the average gross for all movies that were released from 1989 to 2014."
   ]
  },
  {
   "cell_type": "code",
   "execution_count": 25,
   "id": "cc8559d9",
   "metadata": {},
   "outputs": [
    {
     "data": {
      "text/plain": [
       "383255442.22047246"
      ]
     },
     "execution_count": 25,
     "metadata": {},
     "output_type": "execute_result"
    }
   ],
   "source": [
    "# Calculate the mean gross profit from the dataset.\n",
    "movies['Gross'].mean()"
   ]
  },
  {
   "cell_type": "code",
   "execution_count": 26,
   "id": "06f2f8e9",
   "metadata": {},
   "outputs": [
    {
     "name": "stdout",
     "output_type": "stream",
     "text": [
      "mean: 382979176.14, standard deviation: 12440270.06\n"
     ]
    }
   ],
   "source": [
    "# What are the bootstrap mean and the standard deviation of the gross profit after 2000 replications? \n",
    "bootstrap_means = []\n",
    "for i in range(2000):\n",
    "    sample = movies.sample(frac = 1, replace = True)['Gross']\n",
    "    bootstrap_means.append(np.mean(sample))\n",
    "\n",
    "# Calculate the mean gross profit from the bootstrap distribution.   \n",
    "mean_bootstr = np.mean(bootstrap_means)\n",
    "\n",
    "# Calculate the std dev of gross profit from the bootstrap distribution.\n",
    "standard_error = np.std(bootstrap_means, ddof = 1)\n",
    "\n",
    "print('mean:', str(np.around(mean_bootstr, 2)) + ',', 'standard deviation:', str(np.around(standard_error, 2)))"
   ]
  },
  {
   "cell_type": "code",
   "execution_count": 27,
   "id": "3b2a0552",
   "metadata": {},
   "outputs": [
    {
     "data": {
      "image/png": "[encoded data removed]",
      "text/plain": [
       "<Figure size 640x480 with 1 Axes>"
      ]
     },
     "metadata": {},
     "output_type": "display_data"
    }
   ],
   "source": [
    "# Show the distribution of the means generated from the bootsrap.\n",
    "plt.hist(bootstrap_means, \n",
    "         density = True, \n",
    "         bins = 20)\n",
    "\n",
    "plt.title('Bootstrap and normal distribution comparison',\n",
    "         pad = 20)\n",
    "\n",
    "# Show the density function of a normal distribution with the same mean and std dev as the mean and the std dev \n",
    "# from the bootstrap\n",
    "random_normal = np.random.normal(mean_bootstr, standard_error, 2000)\n",
    "sns.kdeplot(random_normal)\n",
    "plt.show()"
   ]
  },
  {
   "cell_type": "markdown",
   "id": "a530b1af",
   "metadata": {},
   "source": [
    "The bootstrap distribution looks very similar to the normal distribution. \n",
    "That is because the sample size and the number of iterations are sufficiently large."
   ]
  },
  {
   "cell_type": "code",
   "execution_count": 28,
   "id": "364e4d4d",
   "metadata": {},
   "outputs": [
    {
     "name": "stdout",
     "output_type": "stream",
     "text": [
      "(360171040.131004, 408120936.21205705)\n"
     ]
    }
   ],
   "source": [
    "# Confidence interval: the average population gross profit lies in the following interval with 95% probability:\n",
    "lower_quant = np.quantile(bootstrap_means, 0.025)\n",
    "upper_quant = np.quantile(bootstrap_means, 0.975)\n",
    "\n",
    "print((lower_quant, upper_quant))"
   ]
  },
  {
   "cell_type": "code",
   "execution_count": 29,
   "id": "8a150ada",
   "metadata": {},
   "outputs": [
    {
     "name": "stdout",
     "output_type": "stream",
     "text": [
      "(358596694.854764, 407361657.4171395)\n"
     ]
    }
   ],
   "source": [
    "# The confidence interval, assumming that the bootstrap distribution is normally distributed\n",
    "lower_se = norm.ppf(0.025, loc = mean_bootstr, scale = standard_error)\n",
    "upper_se = norm.ppf(0.975, loc = mean_bootstr, scale = standard_error)\n",
    "print((lower_se, upper_se))"
   ]
  }
 ],
 "metadata": {
  "kernelspec": {
   "display_name": "Python 3 (ipykernel)",
   "language": "python",
   "name": "python3"
  },
  "language_info": {
   "codemirror_mode": {
    "name": "ipython",
    "version": 3
   },
   "file_extension": ".py",
   "mimetype": "text/x-python",
   "name": "python",
   "nbconvert_exporter": "python",
   "pygments_lexer": "ipython3",
   "version": "3.9.13"
  }
 },
 "nbformat": 4,
 "nbformat_minor": 5
}
