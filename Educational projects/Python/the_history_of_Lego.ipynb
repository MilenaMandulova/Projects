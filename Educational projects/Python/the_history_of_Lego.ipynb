{
 "cells": [
  {
   "cell_type": "markdown",
   "metadata": {},
   "source": [
    " # Exploring the History of Lego\n",
    " ## Introduction  \n",
    "<ul>\n",
    " </ul> \n",
    " <ul>\n",
    " </ul>\n",
    "   <div style=\"font-size:18px\"><b>datasets/lego_sets.csv</b></div>\n",
    "<ul>\n",
    "    <li><b>set_num:</b> A code that is unique to each set in the dataset. <b><i>This column is critical, and a missing value indicates the set is a duplicate or invalid!</i></b></li>\n",
    "    <li><b>name:</b> A name for every set in the dataset (note that this can be the same for different sets).</li>\n",
    "    <li><b>year:</b> The date the set was released.</li>\n",
    "    <li><b>num_parts:</b> The number of parts contained in the set.<b><i> This column is not central to our analyses, so missing values are acceptable.</i></b></li>\n",
    "        <li><b>theme_name:</b> The name of the sub-theme of the set.</li>\n",
    "    <li><b>parent_theme:</b> The name of the parent theme the set belongs to. Matches the `name` column of the `parent_themes` csv file.</li>\n",
    "</ul>\n",
    "\n",
    "<div style=\"font-size:18px\"><b>datasets/parent_themes.csv</b></div>\n",
    "<ul>\n",
    "    <li><b>id:</b> A code that is unique to every theme.</li>\n",
    "    <li><b>name:</b> The name of the parent theme.</li>\n",
    "    <li><b>is_licensed:</b> A Boolean column specifying whether the theme is a licensed theme.</li>\n",
    "</ul>\n",
    "    </div>"
   ]
  },
  {
   "cell_type": "markdown",
   "metadata": {
    "dc": {
     "key": "3"
    }
   },
   "source": [
    "### The analysis questions of the project are:\n",
    "\n",
    "<p>1. What percentage of all licensed sets ever released were Star Wars themed? The answer should be saved as a variable the_force in the form of an integer (e.g. 25).</p>\n",
    "<p>2. In which year was Star Wars not the most popular licensed theme (in terms of number of sets released that year)? The answer should be saved as a variable new_era in the form of an integer (e.g. 2012).</p>"
   ]
  },
  {
   "cell_type": "code",
   "execution_count": 1,
   "metadata": {
    "dc": {
     "key": "3"
    },
    "tags": [
     "sample_code"
    ]
   },
   "outputs": [],
   "source": [
    "# Import modules\n",
    "import pandas as pd\n",
    "import matplotlib.pyplot as plt"
   ]
  },
  {
   "cell_type": "code",
   "execution_count": 2,
   "metadata": {
    "dc": {
     "key": "3"
    }
   },
   "outputs": [],
   "source": [
    "# Import dataset\n",
    "lego_sets = pd.read_csv('./datasets/lego_sets.csv')\n",
    "parent_themes = pd.read_csv('./datasets/parent_themes.csv')"
   ]
  },
  {
   "cell_type": "code",
   "execution_count": 3,
   "metadata": {
    "dc": {
     "key": "3"
    }
   },
   "outputs": [
    {
     "name": "stdout",
     "output_type": "stream",
     "text": [
      "Lego sets preview:\n",
      "\n",
      "<class 'pandas.core.frame.DataFrame'>\n",
      "RangeIndex: 11986 entries, 0 to 11985\n",
      "Data columns (total 6 columns):\n",
      " #   Column        Non-Null Count  Dtype  \n",
      "---  ------        --------------  -----  \n",
      " 0   set_num       11833 non-null  object \n",
      " 1   name          11833 non-null  object \n",
      " 2   year          11986 non-null  int64  \n",
      " 3   num_parts     6926 non-null   float64\n",
      " 4   theme_name    11833 non-null  object \n",
      " 5   parent_theme  11986 non-null  object \n",
      "dtypes: float64(1), int64(1), object(4)\n",
      "memory usage: 562.0+ KB\n",
      "None \n",
      "\n",
      "Parent themes preview:\n",
      "\n",
      "<class 'pandas.core.frame.DataFrame'>\n",
      "RangeIndex: 111 entries, 0 to 110\n",
      "Data columns (total 3 columns):\n",
      " #   Column       Non-Null Count  Dtype \n",
      "---  ------       --------------  ----- \n",
      " 0   id           111 non-null    int64 \n",
      " 1   name         111 non-null    object\n",
      " 2   is_licensed  111 non-null    bool  \n",
      "dtypes: bool(1), int64(1), object(1)\n",
      "memory usage: 2.0+ KB\n"
     ]
    }
   ],
   "source": [
    "# A quick preview of the columns, contained in the datasets\n",
    "print('Lego sets preview:'+'\\n')\n",
    "print(lego_sets.info(), '\\n')\n",
    "print('Parent themes preview:'+'\\n')\n",
    "parent_themes.info()"
   ]
  },
  {
   "cell_type": "markdown",
   "metadata": {
    "dc": {
     "key": "3"
    }
   },
   "source": [
    "There are missing values in the lego_sets dataset for five variables - set_num, name, year, num_parts, theme_name."
   ]
  },
  {
   "cell_type": "code",
   "execution_count": 4,
   "metadata": {},
   "outputs": [
    {
     "data": {
      "text/html": [
       "<div>\n",
       "<style scoped>\n",
       "    .dataframe tbody tr th:only-of-type {\n",
       "        vertical-align: middle;\n",
       "    }\n",
       "\n",
       "    .dataframe tbody tr th {\n",
       "        vertical-align: top;\n",
       "    }\n",
       "\n",
       "    .dataframe thead th {\n",
       "        text-align: right;\n",
       "    }\n",
       "</style>\n",
       "<table border=\"1\" class=\"dataframe\">\n",
       "  <thead>\n",
       "    <tr style=\"text-align: right;\">\n",
       "      <th></th>\n",
       "      <th>set_num</th>\n",
       "      <th>name</th>\n",
       "      <th>year</th>\n",
       "      <th>num_parts</th>\n",
       "      <th>theme_name</th>\n",
       "      <th>parent_theme</th>\n",
       "    </tr>\n",
       "  </thead>\n",
       "  <tbody>\n",
       "    <tr>\n",
       "      <th>0</th>\n",
       "      <td>00-1</td>\n",
       "      <td>Weetabix Castle</td>\n",
       "      <td>1970</td>\n",
       "      <td>471.0</td>\n",
       "      <td>Castle</td>\n",
       "      <td>Legoland</td>\n",
       "    </tr>\n",
       "    <tr>\n",
       "      <th>1</th>\n",
       "      <td>0011-2</td>\n",
       "      <td>Town Mini-Figures</td>\n",
       "      <td>1978</td>\n",
       "      <td>NaN</td>\n",
       "      <td>Supplemental</td>\n",
       "      <td>Town</td>\n",
       "    </tr>\n",
       "    <tr>\n",
       "      <th>2</th>\n",
       "      <td>0011-3</td>\n",
       "      <td>Castle 2 for 1 Bonus Offer</td>\n",
       "      <td>1987</td>\n",
       "      <td>NaN</td>\n",
       "      <td>Lion Knights</td>\n",
       "      <td>Castle</td>\n",
       "    </tr>\n",
       "    <tr>\n",
       "      <th>3</th>\n",
       "      <td>0012-1</td>\n",
       "      <td>Space Mini-Figures</td>\n",
       "      <td>1979</td>\n",
       "      <td>12.0</td>\n",
       "      <td>Supplemental</td>\n",
       "      <td>Space</td>\n",
       "    </tr>\n",
       "  </tbody>\n",
       "</table>\n",
       "</div>"
      ],
      "text/plain": [
       "  set_num                        name  year  num_parts    theme_name  \\\n",
       "0    00-1             Weetabix Castle  1970      471.0        Castle   \n",
       "1  0011-2           Town Mini-Figures  1978        NaN  Supplemental   \n",
       "2  0011-3  Castle 2 for 1 Bonus Offer  1987        NaN  Lion Knights   \n",
       "3  0012-1          Space Mini-Figures  1979       12.0  Supplemental   \n",
       "\n",
       "  parent_theme  \n",
       "0     Legoland  \n",
       "1         Town  \n",
       "2       Castle  \n",
       "3        Space  "
      ]
     },
     "execution_count": 4,
     "metadata": {},
     "output_type": "execute_result"
    }
   ],
   "source": [
    "# Show the first 5 rows of dataset lego_sets.\n",
    "lego_sets.head(4)"
   ]
  },
  {
   "cell_type": "code",
   "execution_count": 5,
   "metadata": {},
   "outputs": [
    {
     "data": {
      "text/html": [
       "<div>\n",
       "<style scoped>\n",
       "    .dataframe tbody tr th:only-of-type {\n",
       "        vertical-align: middle;\n",
       "    }\n",
       "\n",
       "    .dataframe tbody tr th {\n",
       "        vertical-align: top;\n",
       "    }\n",
       "\n",
       "    .dataframe thead th {\n",
       "        text-align: right;\n",
       "    }\n",
       "</style>\n",
       "<table border=\"1\" class=\"dataframe\">\n",
       "  <thead>\n",
       "    <tr style=\"text-align: right;\">\n",
       "      <th></th>\n",
       "      <th>id</th>\n",
       "      <th>name</th>\n",
       "      <th>is_licensed</th>\n",
       "    </tr>\n",
       "  </thead>\n",
       "  <tbody>\n",
       "    <tr>\n",
       "      <th>0</th>\n",
       "      <td>1</td>\n",
       "      <td>Technic</td>\n",
       "      <td>False</td>\n",
       "    </tr>\n",
       "    <tr>\n",
       "      <th>1</th>\n",
       "      <td>22</td>\n",
       "      <td>Creator</td>\n",
       "      <td>False</td>\n",
       "    </tr>\n",
       "    <tr>\n",
       "      <th>2</th>\n",
       "      <td>50</td>\n",
       "      <td>Town</td>\n",
       "      <td>False</td>\n",
       "    </tr>\n",
       "    <tr>\n",
       "      <th>3</th>\n",
       "      <td>112</td>\n",
       "      <td>Racers</td>\n",
       "      <td>False</td>\n",
       "    </tr>\n",
       "  </tbody>\n",
       "</table>\n",
       "</div>"
      ],
      "text/plain": [
       "    id     name  is_licensed\n",
       "0    1  Technic        False\n",
       "1   22  Creator        False\n",
       "2   50     Town        False\n",
       "3  112   Racers        False"
      ]
     },
     "execution_count": 5,
     "metadata": {},
     "output_type": "execute_result"
    }
   ],
   "source": [
    "# Show the first 5 rows of parent_themes.\n",
    "parent_themes.head(4)"
   ]
  },
  {
   "cell_type": "code",
   "execution_count": 6,
   "metadata": {
    "dc": {
     "key": "3"
    }
   },
   "outputs": [
    {
     "data": {
      "text/html": [
       "<div>\n",
       "<style scoped>\n",
       "    .dataframe tbody tr th:only-of-type {\n",
       "        vertical-align: middle;\n",
       "    }\n",
       "\n",
       "    .dataframe tbody tr th {\n",
       "        vertical-align: top;\n",
       "    }\n",
       "\n",
       "    .dataframe thead th {\n",
       "        text-align: right;\n",
       "    }\n",
       "</style>\n",
       "<table border=\"1\" class=\"dataframe\">\n",
       "  <thead>\n",
       "    <tr style=\"text-align: right;\">\n",
       "      <th></th>\n",
       "      <th>set_num</th>\n",
       "      <th>name</th>\n",
       "      <th>year</th>\n",
       "      <th>num_parts</th>\n",
       "      <th>theme_name</th>\n",
       "      <th>parent_theme</th>\n",
       "    </tr>\n",
       "  </thead>\n",
       "  <tbody>\n",
       "    <tr>\n",
       "      <th>11833</th>\n",
       "      <td>NaN</td>\n",
       "      <td>NaN</td>\n",
       "      <td>2017</td>\n",
       "      <td>347.0</td>\n",
       "      <td>NaN</td>\n",
       "      <td>Disney Princess</td>\n",
       "    </tr>\n",
       "    <tr>\n",
       "      <th>11834</th>\n",
       "      <td>NaN</td>\n",
       "      <td>NaN</td>\n",
       "      <td>2016</td>\n",
       "      <td>70.0</td>\n",
       "      <td>NaN</td>\n",
       "      <td>Disney Princess</td>\n",
       "    </tr>\n",
       "    <tr>\n",
       "      <th>11835</th>\n",
       "      <td>NaN</td>\n",
       "      <td>NaN</td>\n",
       "      <td>2016</td>\n",
       "      <td>NaN</td>\n",
       "      <td>NaN</td>\n",
       "      <td>Disney Princess</td>\n",
       "    </tr>\n",
       "    <tr>\n",
       "      <th>11836</th>\n",
       "      <td>NaN</td>\n",
       "      <td>NaN</td>\n",
       "      <td>2017</td>\n",
       "      <td>304.0</td>\n",
       "      <td>NaN</td>\n",
       "      <td>Super Heroes</td>\n",
       "    </tr>\n",
       "    <tr>\n",
       "      <th>11837</th>\n",
       "      <td>NaN</td>\n",
       "      <td>NaN</td>\n",
       "      <td>2017</td>\n",
       "      <td>196.0</td>\n",
       "      <td>NaN</td>\n",
       "      <td>Super Heroes</td>\n",
       "    </tr>\n",
       "  </tbody>\n",
       "</table>\n",
       "</div>"
      ],
      "text/plain": [
       "      set_num name  year  num_parts theme_name     parent_theme\n",
       "11833     NaN  NaN  2017      347.0        NaN  Disney Princess\n",
       "11834     NaN  NaN  2016       70.0        NaN  Disney Princess\n",
       "11835     NaN  NaN  2016        NaN        NaN  Disney Princess\n",
       "11836     NaN  NaN  2017      304.0        NaN     Super Heroes\n",
       "11837     NaN  NaN  2017      196.0        NaN     Super Heroes"
      ]
     },
     "execution_count": 6,
     "metadata": {},
     "output_type": "execute_result"
    }
   ],
   "source": [
    "# Preview some of the rows that do not have values for set_num\n",
    "lego_sets[lego_sets['set_num'].isna()].head()"
   ]
  },
  {
   "cell_type": "code",
   "execution_count": 7,
   "metadata": {
    "dc": {
     "key": "3"
    }
   },
   "outputs": [],
   "source": [
    "# Delete all rows with missing values for the variable set_num because it will be used in the subsequent analysis.\n",
    "mod_lego_sets = lego_sets.dropna(axis = 'rows', subset=['set_num'])"
   ]
  },
  {
   "cell_type": "code",
   "execution_count": 8,
   "metadata": {
    "dc": {
     "key": "3"
    }
   },
   "outputs": [
    {
     "name": "stdout",
     "output_type": "stream",
     "text": [
      "<class 'pandas.core.frame.DataFrame'>\n",
      "Int64Index: 11833 entries, 0 to 11832\n",
      "Data columns (total 9 columns):\n",
      " #   Column        Non-Null Count  Dtype  \n",
      "---  ------        --------------  -----  \n",
      " 0   set_num       11833 non-null  object \n",
      " 1   name_sets     11833 non-null  object \n",
      " 2   year          11833 non-null  int64  \n",
      " 3   num_parts     6835 non-null   float64\n",
      " 4   theme_name    11833 non-null  object \n",
      " 5   parent_theme  11833 non-null  object \n",
      " 6   id            11833 non-null  int64  \n",
      " 7   name_parent   11833 non-null  object \n",
      " 8   is_licensed   11833 non-null  bool   \n",
      "dtypes: bool(1), float64(1), int64(2), object(5)\n",
      "memory usage: 843.6+ KB\n"
     ]
    }
   ],
   "source": [
    "# The next step is to find out which Lego sets are licensed.\n",
    "# Merge the two datasets on the variables parent_theme and name using inner join.\n",
    "tables_merged = mod_lego_sets.merge(parent_themes,\n",
    "                                    left_on = 'parent_theme', \n",
    "                                    right_on = 'name',\n",
    "                                    suffixes = ['_sets', '_parent'])\n",
    "\n",
    "# Print out information about the new DataFrame.\n",
    "tables_merged.info()"
   ]
  },
  {
   "cell_type": "code",
   "execution_count": 9,
   "metadata": {
    "dc": {
     "key": "3"
    }
   },
   "outputs": [
    {
     "data": {
      "text/html": [
       "<div>\n",
       "<style scoped>\n",
       "    .dataframe tbody tr th:only-of-type {\n",
       "        vertical-align: middle;\n",
       "    }\n",
       "\n",
       "    .dataframe tbody tr th {\n",
       "        vertical-align: top;\n",
       "    }\n",
       "\n",
       "    .dataframe thead th {\n",
       "        text-align: right;\n",
       "    }\n",
       "</style>\n",
       "<table border=\"1\" class=\"dataframe\">\n",
       "  <thead>\n",
       "    <tr style=\"text-align: right;\">\n",
       "      <th></th>\n",
       "      <th>set_num</th>\n",
       "      <th>name_sets</th>\n",
       "      <th>year</th>\n",
       "      <th>num_parts</th>\n",
       "      <th>theme_name</th>\n",
       "      <th>parent_theme</th>\n",
       "      <th>id</th>\n",
       "      <th>name_parent</th>\n",
       "      <th>is_licensed</th>\n",
       "    </tr>\n",
       "  </thead>\n",
       "  <tbody>\n",
       "    <tr>\n",
       "      <th>3493</th>\n",
       "      <td>10018-1</td>\n",
       "      <td>Darth Maul</td>\n",
       "      <td>2001</td>\n",
       "      <td>1868.0</td>\n",
       "      <td>Star Wars</td>\n",
       "      <td>Star Wars</td>\n",
       "      <td>158</td>\n",
       "      <td>Star Wars</td>\n",
       "      <td>True</td>\n",
       "    </tr>\n",
       "    <tr>\n",
       "      <th>3494</th>\n",
       "      <td>10019-1</td>\n",
       "      <td>Rebel Blockade Runner - UCS</td>\n",
       "      <td>2001</td>\n",
       "      <td>NaN</td>\n",
       "      <td>Star Wars Episode 4/5/6</td>\n",
       "      <td>Star Wars</td>\n",
       "      <td>158</td>\n",
       "      <td>Star Wars</td>\n",
       "      <td>True</td>\n",
       "    </tr>\n",
       "    <tr>\n",
       "      <th>3495</th>\n",
       "      <td>10026-1</td>\n",
       "      <td>Naboo Starfighter - UCS</td>\n",
       "      <td>2002</td>\n",
       "      <td>NaN</td>\n",
       "      <td>Star Wars Episode 1</td>\n",
       "      <td>Star Wars</td>\n",
       "      <td>158</td>\n",
       "      <td>Star Wars</td>\n",
       "      <td>True</td>\n",
       "    </tr>\n",
       "    <tr>\n",
       "      <th>3496</th>\n",
       "      <td>10030-1</td>\n",
       "      <td>Imperial Star Destroyer - UCS</td>\n",
       "      <td>2002</td>\n",
       "      <td>3115.0</td>\n",
       "      <td>Star Wars Episode 4/5/6</td>\n",
       "      <td>Star Wars</td>\n",
       "      <td>158</td>\n",
       "      <td>Star Wars</td>\n",
       "      <td>True</td>\n",
       "    </tr>\n",
       "    <tr>\n",
       "      <th>3497</th>\n",
       "      <td>10123-1</td>\n",
       "      <td>Cloud City</td>\n",
       "      <td>2003</td>\n",
       "      <td>707.0</td>\n",
       "      <td>Star Wars Episode 4/5/6</td>\n",
       "      <td>Star Wars</td>\n",
       "      <td>158</td>\n",
       "      <td>Star Wars</td>\n",
       "      <td>True</td>\n",
       "    </tr>\n",
       "  </tbody>\n",
       "</table>\n",
       "</div>"
      ],
      "text/plain": [
       "      set_num                      name_sets  year  num_parts  \\\n",
       "3493  10018-1                     Darth Maul  2001     1868.0   \n",
       "3494  10019-1    Rebel Blockade Runner - UCS  2001        NaN   \n",
       "3495  10026-1        Naboo Starfighter - UCS  2002        NaN   \n",
       "3496  10030-1  Imperial Star Destroyer - UCS  2002     3115.0   \n",
       "3497  10123-1                     Cloud City  2003      707.0   \n",
       "\n",
       "                   theme_name parent_theme   id name_parent  is_licensed  \n",
       "3493                Star Wars    Star Wars  158   Star Wars         True  \n",
       "3494  Star Wars Episode 4/5/6    Star Wars  158   Star Wars         True  \n",
       "3495      Star Wars Episode 1    Star Wars  158   Star Wars         True  \n",
       "3496  Star Wars Episode 4/5/6    Star Wars  158   Star Wars         True  \n",
       "3497  Star Wars Episode 4/5/6    Star Wars  158   Star Wars         True  "
      ]
     },
     "execution_count": 9,
     "metadata": {},
     "output_type": "execute_result"
    }
   ],
   "source": [
    "# Keep only the rows with licensed sets\n",
    "subset_is_licensed = tables_merged[tables_merged['is_licensed']]\n",
    "\n",
    "# A preview of the subset\n",
    "subset_is_licensed.head()"
   ]
  },
  {
   "cell_type": "markdown",
   "metadata": {
    "dc": {
     "key": "3"
    }
   },
   "source": [
    "## First possible solution to the first question of the project:"
   ]
  },
  {
   "cell_type": "code",
   "execution_count": 10,
   "metadata": {
    "dc": {
     "key": "3"
    }
   },
   "outputs": [
    {
     "data": {
      "text/plain": [
       "52"
      ]
     },
     "execution_count": 10,
     "metadata": {},
     "output_type": "execute_result"
    }
   ],
   "source": [
    "# Calculate the percentage of Star Wars themed sets to all licensed sets ever released\n",
    "# Create a Series of Boolean values for every Star Wars parent theme.\n",
    "is_star_wars = subset_is_licensed['parent_theme']=='Star Wars'\n",
    "\n",
    "the_force = int(round(is_star_wars.mean(),2) * 100)\n",
    "the_force"
   ]
  },
  {
   "cell_type": "markdown",
   "metadata": {
    "dc": {
     "key": "3"
    }
   },
   "source": [
    "## Second possible solution to the first question of the project:"
   ]
  },
  {
   "cell_type": "code",
   "execution_count": 11,
   "metadata": {
    "dc": {
     "key": "3"
    }
   },
   "outputs": [
    {
     "data": {
      "text/plain": [
       "52"
      ]
     },
     "execution_count": 11,
     "metadata": {},
     "output_type": "execute_result"
    }
   ],
   "source": [
    "star_wars_sets = len(subset_is_licensed[subset_is_licensed['parent_theme'] == 'Star Wars'])\n",
    "\n",
    "all_sets = len(subset_is_licensed)\n",
    "\n",
    "ratio = star_wars_sets / all_sets \n",
    "\n",
    "the_force = int(round(ratio, 2) * 100)\n",
    "the_force"
   ]
  },
  {
   "cell_type": "markdown",
   "metadata": {
    "dc": {
     "key": "3"
    }
   },
   "source": [
    "## First possible solution to the second question of the project:"
   ]
  },
  {
   "cell_type": "code",
   "execution_count": 12,
   "metadata": {
    "dc": {
     "key": "3"
    }
   },
   "outputs": [
    {
     "data": {
      "text/html": [
       "<div>\n",
       "<style scoped>\n",
       "    .dataframe tbody tr th:only-of-type {\n",
       "        vertical-align: middle;\n",
       "    }\n",
       "\n",
       "    .dataframe tbody tr th {\n",
       "        vertical-align: top;\n",
       "    }\n",
       "\n",
       "    .dataframe thead th {\n",
       "        text-align: right;\n",
       "    }\n",
       "</style>\n",
       "<table border=\"1\" class=\"dataframe\">\n",
       "  <thead>\n",
       "    <tr style=\"text-align: right;\">\n",
       "      <th>parent_theme</th>\n",
       "      <th>Angry Birds</th>\n",
       "      <th>Avatar</th>\n",
       "      <th>Ben 10</th>\n",
       "      <th>Cars</th>\n",
       "      <th>Disney</th>\n",
       "      <th>Disney Princess</th>\n",
       "      <th>Disney's Mickey Mouse</th>\n",
       "      <th>Ghostbusters</th>\n",
       "      <th>Harry Potter</th>\n",
       "      <th>Indiana Jones</th>\n",
       "      <th>...</th>\n",
       "      <th>Pirates of the Caribbean</th>\n",
       "      <th>Prince of Persia</th>\n",
       "      <th>Scooby-Doo</th>\n",
       "      <th>SpongeBob SquarePants</th>\n",
       "      <th>Star Wars</th>\n",
       "      <th>Super Heroes</th>\n",
       "      <th>Teenage Mutant Ninja Turtles</th>\n",
       "      <th>The Hobbit and Lord of the Rings</th>\n",
       "      <th>The Lone Ranger</th>\n",
       "      <th>Toy Story</th>\n",
       "    </tr>\n",
       "    <tr>\n",
       "      <th>year</th>\n",
       "      <th></th>\n",
       "      <th></th>\n",
       "      <th></th>\n",
       "      <th></th>\n",
       "      <th></th>\n",
       "      <th></th>\n",
       "      <th></th>\n",
       "      <th></th>\n",
       "      <th></th>\n",
       "      <th></th>\n",
       "      <th></th>\n",
       "      <th></th>\n",
       "      <th></th>\n",
       "      <th></th>\n",
       "      <th></th>\n",
       "      <th></th>\n",
       "      <th></th>\n",
       "      <th></th>\n",
       "      <th></th>\n",
       "      <th></th>\n",
       "      <th></th>\n",
       "    </tr>\n",
       "  </thead>\n",
       "  <tbody>\n",
       "    <tr>\n",
       "      <th>1999</th>\n",
       "      <td>NaN</td>\n",
       "      <td>NaN</td>\n",
       "      <td>NaN</td>\n",
       "      <td>NaN</td>\n",
       "      <td>NaN</td>\n",
       "      <td>NaN</td>\n",
       "      <td>NaN</td>\n",
       "      <td>NaN</td>\n",
       "      <td>NaN</td>\n",
       "      <td>NaN</td>\n",
       "      <td>...</td>\n",
       "      <td>NaN</td>\n",
       "      <td>NaN</td>\n",
       "      <td>NaN</td>\n",
       "      <td>NaN</td>\n",
       "      <td>13.0</td>\n",
       "      <td>NaN</td>\n",
       "      <td>NaN</td>\n",
       "      <td>NaN</td>\n",
       "      <td>NaN</td>\n",
       "      <td>NaN</td>\n",
       "    </tr>\n",
       "    <tr>\n",
       "      <th>2000</th>\n",
       "      <td>NaN</td>\n",
       "      <td>NaN</td>\n",
       "      <td>NaN</td>\n",
       "      <td>NaN</td>\n",
       "      <td>NaN</td>\n",
       "      <td>NaN</td>\n",
       "      <td>5.0</td>\n",
       "      <td>NaN</td>\n",
       "      <td>NaN</td>\n",
       "      <td>NaN</td>\n",
       "      <td>...</td>\n",
       "      <td>NaN</td>\n",
       "      <td>NaN</td>\n",
       "      <td>NaN</td>\n",
       "      <td>NaN</td>\n",
       "      <td>26.0</td>\n",
       "      <td>NaN</td>\n",
       "      <td>NaN</td>\n",
       "      <td>NaN</td>\n",
       "      <td>NaN</td>\n",
       "      <td>NaN</td>\n",
       "    </tr>\n",
       "    <tr>\n",
       "      <th>2001</th>\n",
       "      <td>NaN</td>\n",
       "      <td>NaN</td>\n",
       "      <td>NaN</td>\n",
       "      <td>NaN</td>\n",
       "      <td>NaN</td>\n",
       "      <td>NaN</td>\n",
       "      <td>NaN</td>\n",
       "      <td>NaN</td>\n",
       "      <td>11.0</td>\n",
       "      <td>NaN</td>\n",
       "      <td>...</td>\n",
       "      <td>NaN</td>\n",
       "      <td>NaN</td>\n",
       "      <td>NaN</td>\n",
       "      <td>NaN</td>\n",
       "      <td>14.0</td>\n",
       "      <td>NaN</td>\n",
       "      <td>NaN</td>\n",
       "      <td>NaN</td>\n",
       "      <td>NaN</td>\n",
       "      <td>NaN</td>\n",
       "    </tr>\n",
       "    <tr>\n",
       "      <th>2002</th>\n",
       "      <td>NaN</td>\n",
       "      <td>NaN</td>\n",
       "      <td>NaN</td>\n",
       "      <td>NaN</td>\n",
       "      <td>NaN</td>\n",
       "      <td>NaN</td>\n",
       "      <td>NaN</td>\n",
       "      <td>NaN</td>\n",
       "      <td>19.0</td>\n",
       "      <td>NaN</td>\n",
       "      <td>...</td>\n",
       "      <td>NaN</td>\n",
       "      <td>NaN</td>\n",
       "      <td>NaN</td>\n",
       "      <td>NaN</td>\n",
       "      <td>28.0</td>\n",
       "      <td>3.0</td>\n",
       "      <td>NaN</td>\n",
       "      <td>NaN</td>\n",
       "      <td>NaN</td>\n",
       "      <td>NaN</td>\n",
       "    </tr>\n",
       "    <tr>\n",
       "      <th>2003</th>\n",
       "      <td>NaN</td>\n",
       "      <td>NaN</td>\n",
       "      <td>NaN</td>\n",
       "      <td>NaN</td>\n",
       "      <td>NaN</td>\n",
       "      <td>NaN</td>\n",
       "      <td>NaN</td>\n",
       "      <td>NaN</td>\n",
       "      <td>3.0</td>\n",
       "      <td>NaN</td>\n",
       "      <td>...</td>\n",
       "      <td>NaN</td>\n",
       "      <td>NaN</td>\n",
       "      <td>NaN</td>\n",
       "      <td>NaN</td>\n",
       "      <td>32.0</td>\n",
       "      <td>5.0</td>\n",
       "      <td>NaN</td>\n",
       "      <td>NaN</td>\n",
       "      <td>NaN</td>\n",
       "      <td>NaN</td>\n",
       "    </tr>\n",
       "  </tbody>\n",
       "</table>\n",
       "<p>5 rows × 22 columns</p>\n",
       "</div>"
      ],
      "text/plain": [
       "parent_theme  Angry Birds  Avatar  Ben 10  Cars  Disney  Disney Princess  \\\n",
       "year                                                                       \n",
       "1999                  NaN     NaN     NaN   NaN     NaN              NaN   \n",
       "2000                  NaN     NaN     NaN   NaN     NaN              NaN   \n",
       "2001                  NaN     NaN     NaN   NaN     NaN              NaN   \n",
       "2002                  NaN     NaN     NaN   NaN     NaN              NaN   \n",
       "2003                  NaN     NaN     NaN   NaN     NaN              NaN   \n",
       "\n",
       "parent_theme  Disney's Mickey Mouse  Ghostbusters  Harry Potter  \\\n",
       "year                                                              \n",
       "1999                            NaN           NaN           NaN   \n",
       "2000                            5.0           NaN           NaN   \n",
       "2001                            NaN           NaN          11.0   \n",
       "2002                            NaN           NaN          19.0   \n",
       "2003                            NaN           NaN           3.0   \n",
       "\n",
       "parent_theme  Indiana Jones  ...  Pirates of the Caribbean  Prince of Persia  \\\n",
       "year                         ...                                               \n",
       "1999                    NaN  ...                       NaN               NaN   \n",
       "2000                    NaN  ...                       NaN               NaN   \n",
       "2001                    NaN  ...                       NaN               NaN   \n",
       "2002                    NaN  ...                       NaN               NaN   \n",
       "2003                    NaN  ...                       NaN               NaN   \n",
       "\n",
       "parent_theme  Scooby-Doo  SpongeBob SquarePants  Star Wars  Super Heroes  \\\n",
       "year                                                                       \n",
       "1999                 NaN                    NaN       13.0           NaN   \n",
       "2000                 NaN                    NaN       26.0           NaN   \n",
       "2001                 NaN                    NaN       14.0           NaN   \n",
       "2002                 NaN                    NaN       28.0           3.0   \n",
       "2003                 NaN                    NaN       32.0           5.0   \n",
       "\n",
       "parent_theme  Teenage Mutant Ninja Turtles  The Hobbit and Lord of the Rings  \\\n",
       "year                                                                           \n",
       "1999                                   NaN                               NaN   \n",
       "2000                                   NaN                               NaN   \n",
       "2001                                   NaN                               NaN   \n",
       "2002                                   NaN                               NaN   \n",
       "2003                                   NaN                               NaN   \n",
       "\n",
       "parent_theme  The Lone Ranger  Toy Story  \n",
       "year                                      \n",
       "1999                      NaN        NaN  \n",
       "2000                      NaN        NaN  \n",
       "2001                      NaN        NaN  \n",
       "2002                      NaN        NaN  \n",
       "2003                      NaN        NaN  \n",
       "\n",
       "[5 rows x 22 columns]"
      ]
     },
     "execution_count": 12,
     "metadata": {},
     "output_type": "execute_result"
    }
   ],
   "source": [
    "# In which year was Star Wars not the most popular licensed theme (in terms of number of sets released that year)?\n",
    "# Create a pivot table with the number of sets released every year for every theme.\n",
    "pivot = subset_is_licensed.pivot_table(values = 'set_num', \n",
    "                                       columns = 'parent_theme', \n",
    "                                       index = 'year', \n",
    "                                       aggfunc = 'count')\n",
    "pivot.head()"
   ]
  },
  {
   "cell_type": "code",
   "execution_count": 13,
   "metadata": {
    "dc": {
     "key": "3"
    }
   },
   "outputs": [
    {
     "data": {
      "text/plain": [
       "year\n",
       "1999    13.0\n",
       "2000    26.0\n",
       "2001    14.0\n",
       "2002    28.0\n",
       "2003    32.0\n",
       "2004    20.0\n",
       "2005    28.0\n",
       "2006    11.0\n",
       "2007    16.0\n",
       "2008    23.0\n",
       "2009    39.0\n",
       "2010    30.0\n",
       "2011    32.0\n",
       "2012    43.0\n",
       "2013    35.0\n",
       "2014    45.0\n",
       "2015    58.0\n",
       "2016    61.0\n",
       "2017    72.0\n",
       "dtype: float64"
      ]
     },
     "execution_count": 13,
     "metadata": {},
     "output_type": "execute_result"
    }
   ],
   "source": [
    "# Find the maximal number of sets from a theme released every year.\n",
    "max_per_year = pivot.max(axis = 'columns')\n",
    "max_per_year"
   ]
  },
  {
   "cell_type": "code",
   "execution_count": 14,
   "metadata": {
    "dc": {
     "key": "3"
    },
    "scrolled": true
   },
   "outputs": [
    {
     "data": {
      "text/html": [
       "<div>\n",
       "<style scoped>\n",
       "    .dataframe tbody tr th:only-of-type {\n",
       "        vertical-align: middle;\n",
       "    }\n",
       "\n",
       "    .dataframe tbody tr th {\n",
       "        vertical-align: top;\n",
       "    }\n",
       "\n",
       "    .dataframe thead th {\n",
       "        text-align: right;\n",
       "    }\n",
       "</style>\n",
       "<table border=\"1\" class=\"dataframe\">\n",
       "  <thead>\n",
       "    <tr style=\"text-align: right;\">\n",
       "      <th>parent_theme</th>\n",
       "      <th>Angry Birds</th>\n",
       "      <th>Avatar</th>\n",
       "      <th>Ben 10</th>\n",
       "      <th>Cars</th>\n",
       "      <th>Disney</th>\n",
       "      <th>Disney Princess</th>\n",
       "      <th>Disney's Mickey Mouse</th>\n",
       "      <th>Ghostbusters</th>\n",
       "      <th>Harry Potter</th>\n",
       "      <th>Indiana Jones</th>\n",
       "      <th>...</th>\n",
       "      <th>Pirates of the Caribbean</th>\n",
       "      <th>Prince of Persia</th>\n",
       "      <th>Scooby-Doo</th>\n",
       "      <th>SpongeBob SquarePants</th>\n",
       "      <th>Star Wars</th>\n",
       "      <th>Super Heroes</th>\n",
       "      <th>Teenage Mutant Ninja Turtles</th>\n",
       "      <th>The Hobbit and Lord of the Rings</th>\n",
       "      <th>The Lone Ranger</th>\n",
       "      <th>Toy Story</th>\n",
       "    </tr>\n",
       "    <tr>\n",
       "      <th>year</th>\n",
       "      <th></th>\n",
       "      <th></th>\n",
       "      <th></th>\n",
       "      <th></th>\n",
       "      <th></th>\n",
       "      <th></th>\n",
       "      <th></th>\n",
       "      <th></th>\n",
       "      <th></th>\n",
       "      <th></th>\n",
       "      <th></th>\n",
       "      <th></th>\n",
       "      <th></th>\n",
       "      <th></th>\n",
       "      <th></th>\n",
       "      <th></th>\n",
       "      <th></th>\n",
       "      <th></th>\n",
       "      <th></th>\n",
       "      <th></th>\n",
       "      <th></th>\n",
       "    </tr>\n",
       "  </thead>\n",
       "  <tbody>\n",
       "    <tr>\n",
       "      <th>2017</th>\n",
       "      <td>NaN</td>\n",
       "      <td>NaN</td>\n",
       "      <td>NaN</td>\n",
       "      <td>NaN</td>\n",
       "      <td>NaN</td>\n",
       "      <td>6.0</td>\n",
       "      <td>NaN</td>\n",
       "      <td>NaN</td>\n",
       "      <td>NaN</td>\n",
       "      <td>NaN</td>\n",
       "      <td>...</td>\n",
       "      <td>1.0</td>\n",
       "      <td>NaN</td>\n",
       "      <td>NaN</td>\n",
       "      <td>NaN</td>\n",
       "      <td>55.0</td>\n",
       "      <td>72.0</td>\n",
       "      <td>NaN</td>\n",
       "      <td>NaN</td>\n",
       "      <td>NaN</td>\n",
       "      <td>NaN</td>\n",
       "    </tr>\n",
       "  </tbody>\n",
       "</table>\n",
       "<p>1 rows × 22 columns</p>\n",
       "</div>"
      ],
      "text/plain": [
       "parent_theme  Angry Birds  Avatar  Ben 10  Cars  Disney  Disney Princess  \\\n",
       "year                                                                       \n",
       "2017                  NaN     NaN     NaN   NaN     NaN              6.0   \n",
       "\n",
       "parent_theme  Disney's Mickey Mouse  Ghostbusters  Harry Potter  \\\n",
       "year                                                              \n",
       "2017                            NaN           NaN           NaN   \n",
       "\n",
       "parent_theme  Indiana Jones  ...  Pirates of the Caribbean  Prince of Persia  \\\n",
       "year                         ...                                               \n",
       "2017                    NaN  ...                       1.0               NaN   \n",
       "\n",
       "parent_theme  Scooby-Doo  SpongeBob SquarePants  Star Wars  Super Heroes  \\\n",
       "year                                                                       \n",
       "2017                 NaN                    NaN       55.0          72.0   \n",
       "\n",
       "parent_theme  Teenage Mutant Ninja Turtles  The Hobbit and Lord of the Rings  \\\n",
       "year                                                                           \n",
       "2017                                   NaN                               NaN   \n",
       "\n",
       "parent_theme  The Lone Ranger  Toy Story  \n",
       "year                                      \n",
       "2017                      NaN        NaN  \n",
       "\n",
       "[1 rows x 22 columns]"
      ]
     },
     "execution_count": 14,
     "metadata": {},
     "output_type": "execute_result"
    }
   ],
   "source": [
    "# Filter the column Star Wars for rows where the number of sets is lower than the highest number for the corresponding year.\n",
    "filtered_pivot = pivot[pivot['Star Wars'] < max_per_year]\n",
    "filtered_pivot"
   ]
  },
  {
   "cell_type": "code",
   "execution_count": 15,
   "metadata": {},
   "outputs": [
    {
     "data": {
      "text/plain": [
       "2017"
      ]
     },
     "execution_count": 15,
     "metadata": {},
     "output_type": "execute_result"
    }
   ],
   "source": [
    "# Save the year when Star Wars didn't have the highest number of sets in the variable new_era.\n",
    "new_era = int(filtered_pivot.index[0])\n",
    "new_era"
   ]
  },
  {
   "cell_type": "code",
   "execution_count": 16,
   "metadata": {},
   "outputs": [
    {
     "data": {
      "image/png": "[encoded data removed]",
      "text/plain": [
       "<Figure size 640x480 with 1 Axes>"
      ]
     },
     "metadata": {},
     "output_type": "display_data"
    }
   ],
   "source": [
    "# In 2017 the Super Heroes themed sets were more than the Star Wars themed ones.\n",
    "# Show the development of the number of the Star Wars and Super Heroes themed sets.\n",
    "pivot_subset = pivot.loc[:, ('Star Wars', 'Super Heroes')]\n",
    "\n",
    "pivot_subset.plot(kind='line')\n",
    "plt.xticks(range(1999, 2018, 2))\n",
    "plt.yticks(range(0, 85 , 10))\n",
    "\n",
    "plt.ylabel('Number of sets')\n",
    "plt.xlabel('Year')\n",
    "plt.title('The development of Star Wars and Super Heroes themed sets', pad = 20)\n",
    "plt.legend(['Star Wars', 'Super Heroes'])\n",
    "\n",
    "plt.show()"
   ]
  },
  {
   "cell_type": "markdown",
   "metadata": {
    "dc": {
     "key": "3"
    }
   },
   "source": [
    "## Second possible solution to the second question of the project:"
   ]
  },
  {
   "cell_type": "code",
   "execution_count": 17,
   "metadata": {
    "dc": {
     "key": "3"
    }
   },
   "outputs": [
    {
     "data": {
      "text/plain": [
       "year\n",
       "1999       Star Wars\n",
       "2000       Star Wars\n",
       "2001       Star Wars\n",
       "2002       Star Wars\n",
       "2003       Star Wars\n",
       "2004       Star Wars\n",
       "2005       Star Wars\n",
       "2006       Star Wars\n",
       "2007       Star Wars\n",
       "2008       Star Wars\n",
       "2009       Star Wars\n",
       "2010       Star Wars\n",
       "2011       Star Wars\n",
       "2012       Star Wars\n",
       "2013       Star Wars\n",
       "2014       Star Wars\n",
       "2015       Star Wars\n",
       "2016       Star Wars\n",
       "2017    Super Heroes\n",
       "Name: parent_theme, dtype: object"
      ]
     },
     "execution_count": 17,
     "metadata": {},
     "output_type": "execute_result"
    }
   ],
   "source": [
    "# Use .groupby() to check which theme was the most popular each year.\n",
    "most_popular_sets = subset_is_licensed.groupby('year')['parent_theme'].agg(pd.Series.mode)\n",
    "most_popular_sets"
   ]
  },
  {
   "cell_type": "code",
   "execution_count": 18,
   "metadata": {
    "dc": {
     "key": "3"
    }
   },
   "outputs": [
    {
     "data": {
      "text/plain": [
       "2017"
      ]
     },
     "execution_count": 18,
     "metadata": {},
     "output_type": "execute_result"
    }
   ],
   "source": [
    "new_era = int(most_popular_sets[most_popular_sets != 'Star Wars'].index[0])\n",
    "new_era"
   ]
  }
 ],
 "metadata": {
  "kernelspec": {
   "display_name": "Python 3 (ipykernel)",
   "language": "python",
   "name": "python3"
  },
  "language_info": {
   "codemirror_mode": {
    "name": "ipython",
    "version": 3
   },
   "file_extension": ".py",
   "mimetype": "text/x-python",
   "name": "python",
   "nbconvert_exporter": "python",
   "pygments_lexer": "ipython3",
   "version": "3.9.13"
  }
 },
 "nbformat": 4,
 "nbformat_minor": 2
}
