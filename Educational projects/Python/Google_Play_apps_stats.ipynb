{
 "cells": [
  {
   "cell_type": "markdown",
   "id": "f09d6259-81ec-4a58-9815-cc040bf9ba3b",
   "metadata": {
    "dc": {
     "key": "4"
    },
    "run_control": {
     "frozen": true
    },
    "tags": [
     "context"
    ]
   },
   "source": [
    "# The Android App Market on Google Play\n",
    "## Introduction\n",
    "<p>The dataset you will use here was scraped from Google Play Store in September 2018 and was published on <a href=\"https://www.kaggle.com/lava18/google-play-store-apps\">Kaggle</a>. Here are the details:</p>\n",
    "<br>\n",
    "<br>\n",
    "<div style=\"font-size:20px\"><b>datasets/apps.csv</b></div>\n",
    "<p>This file contains all the details of the apps on Google Play. There are 9 features that describe a given app.</p>\n",
    "<ul>\n",
    "    <li><b>App:</b> Name of the app</li>\n",
    "    <li><b>Category:</b> Category of the app. Some examples are: ART_AND_DESIGN, FINANCE, COMICS, BEAUTY etc.</li>\n",
    "    <li><b>Rating:</b> The current average rating (out of 5) of the app on Google Play</li>\n",
    "    <li><b>Reviews:</b> Number of user reviews given on the app</li>\n",
    "    <li><b>Size:</b> Size of the app in MB (megabytes)</li>\n",
    "    <li><b>Installs:</b> Number of times the app was downloaded from Google Play</li>\n",
    "    <li><b>Type:</b> Whether the app is paid or free</li>\n",
    "    <li><b>Price:</b> Price of the app in US </li>\n",
    "    <li><b>Last Updated:</b> Date on which the app was last updated on Google Play </li>\n",
    "</ul>\n",
    "<div style=\"font-size:20px\"><b>datasets/user_reviews.csv</b></div>\n",
    "<p>This file contains a random sample of 100 user reviews for each app. The text in each review has been pre-processed and passed through a sentiment analyzer.</p>\n",
    "<ul>\n",
    "    <li><b>App:</b> Name of the app on which the user review was provided. Matches the `App` column of the `apps.csv` file</li>\n",
    "    <li><b>Review:</b> The pre-processed user review text</li>\n",
    "    <li><b>Sentiment Category:</b> Sentiment category of the user review - Positive, Negative or Neutral</li>\n",
    "    <li><b>Sentiment Score:</b> Sentiment score of the user review. It lies between [-1,1]. A higher score denotes a more positive sentiment.</li>\n",
    "</ul>\n",
    "<p>From here on, it will be your task to explore and manipulate the data until you are able to answer the three questions described in the instructions panel.</p>"
   ]
  },
  {
   "cell_type": "markdown",
   "id": "c6e1f867",
   "metadata": {},
   "source": [
    "<p>1. Read the <b>apps.csv</b> file and clean the <b>Installs</b> column to convert it into integer data type. Save your answer as a DataFrame <b>apps</b>. Going forward, you will do all your analysis on the apps DataFrame.</p>"
   ]
  },
  {
   "cell_type": "code",
   "execution_count": 1,
   "id": "e7095133-37d4-43d6-8010-83c6c9e59523",
   "metadata": {
    "dc": {
     "key": "4"
    },
    "scrolled": true,
    "tags": [
     "sample_code"
    ]
   },
   "outputs": [],
   "source": [
    "# Import modules\n",
    "import pandas as pd"
   ]
  },
  {
   "cell_type": "code",
   "execution_count": 2,
   "id": "57994143",
   "metadata": {},
   "outputs": [
    {
     "name": "stdout",
     "output_type": "stream",
     "text": [
      "                                                 App        Category  Rating  \\\n",
      "0     Photo Editor & Candy Camera & Grid & ScrapBook  ART_AND_DESIGN     4.1   \n",
      "1                                Coloring book moana  ART_AND_DESIGN     3.9   \n",
      "2  U Launcher Lite – FREE Live Cool Themes, Hide ...  ART_AND_DESIGN     4.7   \n",
      "3                              Sketch - Draw & Paint  ART_AND_DESIGN     4.5   \n",
      "4              Pixel Draw - Number Art Coloring Book  ART_AND_DESIGN     4.3   \n",
      "\n",
      "   Reviews  Size     Installs  Type  Price      Last Updated  \n",
      "0      159  19.0      10,000+  Free    0.0   January 7, 2018  \n",
      "1      967  14.0     500,000+  Free    0.0  January 15, 2018  \n",
      "2    87510   8.7   5,000,000+  Free    0.0    August 1, 2018  \n",
      "3   215644  25.0  50,000,000+  Free    0.0      June 8, 2018  \n",
      "4      967   2.8     100,000+  Free    0.0     June 20, 2018  \n"
     ]
    }
   ],
   "source": [
    "# Import dataset\n",
    "apps = pd.read_csv('./datasets/apps.csv')\n",
    "print(apps.head())"
   ]
  },
  {
   "cell_type": "code",
   "execution_count": 3,
   "id": "b69c00e2-7cd5-468b-a316-4ac56d804b98",
   "metadata": {
    "dc": {
     "key": "4"
    }
   },
   "outputs": [
    {
     "name": "stdout",
     "output_type": "stream",
     "text": [
      "<class 'pandas.core.frame.DataFrame'>\n",
      "RangeIndex: 9659 entries, 0 to 9658\n",
      "Data columns (total 9 columns):\n",
      " #   Column        Non-Null Count  Dtype  \n",
      "---  ------        --------------  -----  \n",
      " 0   App           9659 non-null   object \n",
      " 1   Category      9659 non-null   object \n",
      " 2   Rating        8196 non-null   float64\n",
      " 3   Reviews       9659 non-null   int64  \n",
      " 4   Size          8432 non-null   float64\n",
      " 5   Installs      9659 non-null   int64  \n",
      " 6   Type          9659 non-null   object \n",
      " 7   Price         9659 non-null   float64\n",
      " 8   Last Updated  9659 non-null   object \n",
      "dtypes: float64(3), int64(2), object(4)\n",
      "memory usage: 679.3+ KB\n",
      "None\n"
     ]
    }
   ],
   "source": [
    "# Change the data type of the Installs columns to integer\n",
    "transformed_values = map(lambda y: int(y.rstrip('+').replace(',', '')), apps['Installs'])\n",
    "apps['Installs'] = pd.Series(transformed_values)\n",
    "print(apps.info())"
   ]
  },
  {
   "cell_type": "code",
   "execution_count": 4,
   "id": "4f0519b0-11bd-4c73-ac2b-e9ec097f3836",
   "metadata": {
    "dc": {
     "key": "4"
    },
    "jupyter": {
     "outputs_hidden": true
    }
   },
   "outputs": [],
   "source": [
    "# Another possible solution using for loop:\n",
    "\n",
    "# int_list = []\n",
    "# for value in apps['Installs']:\n",
    "#     value_cleaned = value.rstrip('+').replace(',', '')\n",
    "#     value_int = int(value_cleaned)\n",
    "#     int_list.append(value_int)\n",
    "\n",
    "# apps['Installs']=pd.Series(int_list)  \n",
    "\n",
    "# print(apps.info())"
   ]
  },
  {
   "cell_type": "markdown",
   "id": "a7c69733",
   "metadata": {},
   "source": [
    "<p>2. Find <b>the number of apps</b> in each category, <b>the average price</b>, and <b>the average rating</b>. Save your answer as a DataFrame <b>app_category_info</b>. Your should rename the four columns as: Category, Number of apps, Average price, Average rating.</p>"
   ]
  },
  {
   "cell_type": "code",
   "execution_count": 5,
   "id": "47312352-63d0-4458-9e9c-969b357d90de",
   "metadata": {
    "dc": {
     "key": "4"
    }
   },
   "outputs": [],
   "source": [
    "app_category_info = apps.groupby('Category').agg({'App': 'count', 'Price': 'mean', 'Rating': 'mean'})\n",
    "\n",
    "app_category_info.rename(columns = {'App': 'Number of apps', 'Price':'Average price', 'Rating':'Average rating'},\n",
    "                         inplace = True)"
   ]
  },
  {
   "cell_type": "markdown",
   "id": "2c6c580d",
   "metadata": {},
   "source": [
    "<p>3. Find <b>the top 10 free FINANCE apps</b> having <b>the highest average sentiment score</b>. Save your answer as a DataFrame <b>top_10_user_feedback</b>. Your answer should have exactly 10 rows and two columns named: App and Sentiment Score, where the average Sentiment Score is sorted from highest to lowest.</p>"
   ]
  },
  {
   "cell_type": "code",
   "execution_count": 6,
   "id": "bb626e52-44b9-4c4f-b46e-a73d7952d02b",
   "metadata": {
    "dc": {
     "key": "4"
    },
    "jupyter": {
     "outputs_hidden": true
    }
   },
   "outputs": [],
   "source": [
    "# Import dataset\n",
    "user_reviews = pd.read_csv('./datasets/user_reviews.csv')"
   ]
  },
  {
   "cell_type": "code",
   "execution_count": 7,
   "id": "a2f242e8-5ed3-4005-83a9-996f02f58579",
   "metadata": {
    "dc": {
     "key": "4"
    }
   },
   "outputs": [
    {
     "data": {
      "text/html": [
       "<div>\n",
       "<style scoped>\n",
       "    .dataframe tbody tr th:only-of-type {\n",
       "        vertical-align: middle;\n",
       "    }\n",
       "\n",
       "    .dataframe tbody tr th {\n",
       "        vertical-align: top;\n",
       "    }\n",
       "\n",
       "    .dataframe thead th {\n",
       "        text-align: right;\n",
       "    }\n",
       "</style>\n",
       "<table border=\"1\" class=\"dataframe\">\n",
       "  <thead>\n",
       "    <tr style=\"text-align: right;\">\n",
       "      <th></th>\n",
       "      <th>App</th>\n",
       "      <th>Category</th>\n",
       "      <th>Rating</th>\n",
       "      <th>Reviews</th>\n",
       "      <th>Size</th>\n",
       "      <th>Installs</th>\n",
       "      <th>Type</th>\n",
       "      <th>Price</th>\n",
       "      <th>Last Updated</th>\n",
       "      <th>Review</th>\n",
       "      <th>Sentiment Category</th>\n",
       "      <th>Sentiment Score</th>\n",
       "    </tr>\n",
       "  </thead>\n",
       "  <tbody>\n",
       "    <tr>\n",
       "      <th>0</th>\n",
       "      <td>Coloring book moana</td>\n",
       "      <td>ART_AND_DESIGN</td>\n",
       "      <td>3.9</td>\n",
       "      <td>967</td>\n",
       "      <td>14.0</td>\n",
       "      <td>500000</td>\n",
       "      <td>Free</td>\n",
       "      <td>0.0</td>\n",
       "      <td>January 15, 2018</td>\n",
       "      <td>A kid's excessive ads. The types ads allowed a...</td>\n",
       "      <td>Negative</td>\n",
       "      <td>-0.250</td>\n",
       "    </tr>\n",
       "    <tr>\n",
       "      <th>1</th>\n",
       "      <td>Coloring book moana</td>\n",
       "      <td>ART_AND_DESIGN</td>\n",
       "      <td>3.9</td>\n",
       "      <td>967</td>\n",
       "      <td>14.0</td>\n",
       "      <td>500000</td>\n",
       "      <td>Free</td>\n",
       "      <td>0.0</td>\n",
       "      <td>January 15, 2018</td>\n",
       "      <td>It bad &gt;:(</td>\n",
       "      <td>Negative</td>\n",
       "      <td>-0.725</td>\n",
       "    </tr>\n",
       "    <tr>\n",
       "      <th>2</th>\n",
       "      <td>Coloring book moana</td>\n",
       "      <td>ART_AND_DESIGN</td>\n",
       "      <td>3.9</td>\n",
       "      <td>967</td>\n",
       "      <td>14.0</td>\n",
       "      <td>500000</td>\n",
       "      <td>Free</td>\n",
       "      <td>0.0</td>\n",
       "      <td>January 15, 2018</td>\n",
       "      <td>like</td>\n",
       "      <td>Neutral</td>\n",
       "      <td>0.000</td>\n",
       "    </tr>\n",
       "    <tr>\n",
       "      <th>3</th>\n",
       "      <td>Coloring book moana</td>\n",
       "      <td>ART_AND_DESIGN</td>\n",
       "      <td>3.9</td>\n",
       "      <td>967</td>\n",
       "      <td>14.0</td>\n",
       "      <td>500000</td>\n",
       "      <td>Free</td>\n",
       "      <td>0.0</td>\n",
       "      <td>January 15, 2018</td>\n",
       "      <td>NaN</td>\n",
       "      <td>NaN</td>\n",
       "      <td>NaN</td>\n",
       "    </tr>\n",
       "    <tr>\n",
       "      <th>4</th>\n",
       "      <td>Coloring book moana</td>\n",
       "      <td>ART_AND_DESIGN</td>\n",
       "      <td>3.9</td>\n",
       "      <td>967</td>\n",
       "      <td>14.0</td>\n",
       "      <td>500000</td>\n",
       "      <td>Free</td>\n",
       "      <td>0.0</td>\n",
       "      <td>January 15, 2018</td>\n",
       "      <td>I love colors inspyering</td>\n",
       "      <td>Positive</td>\n",
       "      <td>0.500</td>\n",
       "    </tr>\n",
       "  </tbody>\n",
       "</table>\n",
       "</div>"
      ],
      "text/plain": [
       "                   App        Category  Rating  Reviews  Size  Installs  Type  \\\n",
       "0  Coloring book moana  ART_AND_DESIGN     3.9      967  14.0    500000  Free   \n",
       "1  Coloring book moana  ART_AND_DESIGN     3.9      967  14.0    500000  Free   \n",
       "2  Coloring book moana  ART_AND_DESIGN     3.9      967  14.0    500000  Free   \n",
       "3  Coloring book moana  ART_AND_DESIGN     3.9      967  14.0    500000  Free   \n",
       "4  Coloring book moana  ART_AND_DESIGN     3.9      967  14.0    500000  Free   \n",
       "\n",
       "   Price      Last Updated                                             Review  \\\n",
       "0    0.0  January 15, 2018  A kid's excessive ads. The types ads allowed a...   \n",
       "1    0.0  January 15, 2018                                         It bad >:(   \n",
       "2    0.0  January 15, 2018                                               like   \n",
       "3    0.0  January 15, 2018                                                NaN   \n",
       "4    0.0  January 15, 2018                           I love colors inspyering   \n",
       "\n",
       "  Sentiment Category  Sentiment Score  \n",
       "0           Negative           -0.250  \n",
       "1           Negative           -0.725  \n",
       "2            Neutral            0.000  \n",
       "3                NaN              NaN  \n",
       "4           Positive            0.500  "
      ]
     },
     "execution_count": 7,
     "metadata": {},
     "output_type": "execute_result"
    }
   ],
   "source": [
    "# Merge the two DataFrames\n",
    "merged = apps.merge(user_reviews, on = 'App')\n",
    "merged.head()"
   ]
  },
  {
   "cell_type": "code",
   "execution_count": 8,
   "id": "0ec03933-c41b-4877-9004-8ee03c86d9bd",
   "metadata": {
    "dc": {
     "key": "4"
    }
   },
   "outputs": [
    {
     "data": {
      "text/html": [
       "<div>\n",
       "<style scoped>\n",
       "    .dataframe tbody tr th:only-of-type {\n",
       "        vertical-align: middle;\n",
       "    }\n",
       "\n",
       "    .dataframe tbody tr th {\n",
       "        vertical-align: top;\n",
       "    }\n",
       "\n",
       "    .dataframe thead th {\n",
       "        text-align: right;\n",
       "    }\n",
       "</style>\n",
       "<table border=\"1\" class=\"dataframe\">\n",
       "  <thead>\n",
       "    <tr style=\"text-align: right;\">\n",
       "      <th></th>\n",
       "      <th>Sentiment Score</th>\n",
       "    </tr>\n",
       "    <tr>\n",
       "      <th>App</th>\n",
       "      <th></th>\n",
       "    </tr>\n",
       "  </thead>\n",
       "  <tbody>\n",
       "    <tr>\n",
       "      <th>BBVA Spain</th>\n",
       "      <td>0.515086</td>\n",
       "    </tr>\n",
       "    <tr>\n",
       "      <th>Associated Credit Union Mobile</th>\n",
       "      <td>0.388093</td>\n",
       "    </tr>\n",
       "    <tr>\n",
       "      <th>BankMobile Vibe App</th>\n",
       "      <td>0.353455</td>\n",
       "    </tr>\n",
       "    <tr>\n",
       "      <th>A+ Mobile</th>\n",
       "      <td>0.329592</td>\n",
       "    </tr>\n",
       "    <tr>\n",
       "      <th>Current debit card and app made for teens</th>\n",
       "      <td>0.327258</td>\n",
       "    </tr>\n",
       "    <tr>\n",
       "      <th>BZWBK24 mobile</th>\n",
       "      <td>0.326883</td>\n",
       "    </tr>\n",
       "    <tr>\n",
       "      <th>Even - organize your money, get paid early</th>\n",
       "      <td>0.283929</td>\n",
       "    </tr>\n",
       "    <tr>\n",
       "      <th>Credit Karma</th>\n",
       "      <td>0.270052</td>\n",
       "    </tr>\n",
       "    <tr>\n",
       "      <th>Fortune City - A Finance App</th>\n",
       "      <td>0.266966</td>\n",
       "    </tr>\n",
       "    <tr>\n",
       "      <th>Branch</th>\n",
       "      <td>0.264230</td>\n",
       "    </tr>\n",
       "  </tbody>\n",
       "</table>\n",
       "</div>"
      ],
      "text/plain": [
       "                                            Sentiment Score\n",
       "App                                                        \n",
       "BBVA Spain                                         0.515086\n",
       "Associated Credit Union Mobile                     0.388093\n",
       "BankMobile Vibe App                                0.353455\n",
       "A+ Mobile                                          0.329592\n",
       "Current debit card and app made for teens          0.327258\n",
       "BZWBK24 mobile                                     0.326883\n",
       "Even - organize your money, get paid early         0.283929\n",
       "Credit Karma                                       0.270052\n",
       "Fortune City - A Finance App                       0.266966\n",
       "Branch                                             0.264230"
      ]
     },
     "execution_count": 8,
     "metadata": {},
     "output_type": "execute_result"
    }
   ],
   "source": [
    "# Select only the rows where the category is finance and the apps are free\n",
    "free_finance_apps = merged[(merged['Category'] == \"FINANCE\") \n",
    "                           & (merged['Type'] == \"Free\")][['App', 'Sentiment Score']]\n",
    "\n",
    "# Calculate the mean sentiment score, sort the results and limit them to the 10 highest\n",
    "mean_sentiment_score = free_finance_apps.groupby('App')['Sentiment Score'].mean()\n",
    "top_10_user_feedback = mean_sentiment_score.sort_values(ascending = False).iloc[:10]\n",
    "top_10_user_feedback = top_10_user_feedback.reset_index().set_index('App')\n",
    "top_10_user_feedback"
   ]
  }
 ],
 "metadata": {
  "kernelspec": {
   "display_name": "Python 3 (ipykernel)",
   "language": "python",
   "name": "python3"
  },
  "language_info": {
   "codemirror_mode": {
    "name": "ipython",
    "version": 3
   },
   "file_extension": ".py",
   "mimetype": "text/x-python",
   "name": "python",
   "nbconvert_exporter": "python",
   "pygments_lexer": "ipython3",
   "version": "3.9.13"
  }
 },
 "nbformat": 4,
 "nbformat_minor": 5
}
