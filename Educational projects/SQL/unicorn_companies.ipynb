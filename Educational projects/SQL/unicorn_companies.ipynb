{
 "cells": [
  {
   "cell_type": "markdown",
   "id": "1fe66cd5-4e11-4046-9e68-016430b84ecd",
   "metadata": {},
   "source": [
    "# Analyzing Unicorn Companies\n",
    "\n",
    "## Introduction\n",
    "You have been asked to support an investment firm by analyzing trends in high-growth companies.\n",
    "\n",
    "You have been given access to their `unicorns` database, which contains the following tables:\n",
    "\n",
    "### `dates`\n",
    "| Column       | Description                                  |\n",
    "|------------- |--------------------------------------------- |\n",
    "| company_id   | A unique ID for the company.                 |\n",
    "| date_joined  | The date that the company became a unicorn.  |\n",
    "| year_founded | The year that the company was founded.       |\n",
    "\n",
    "### `funding`\n",
    "| Column           | Description                                  |\n",
    "|----------------- |--------------------------------------------- |\n",
    "| company_id       | A unique ID for the company.                 |\n",
    "| valuation        | Company value in US dollars.                 |\n",
    "| funding          | The amount of funding raised in US dollars.  |\n",
    "| select_investors | A list of key investors in the company.      |\n",
    "\n",
    "### `industries`\n",
    "| Column       | Description                                  |\n",
    "|------------- |--------------------------------------------- |\n",
    "| company_id   | A unique ID for the company.                 |\n",
    "| industry     | The industry that the company operates in.   |\n",
    "\n",
    "### `companies`\n",
    "| Column       | Description                                       |\n",
    "|------------- |-------------------------------------------------- |\n",
    "| company_id   | A unique ID for the company.                      |\n",
    "| company      | The name of the company.                          |\n",
    "| city         | The city where the company is headquartered.      |\n",
    "| country      | The country where the company is headquartered.   |\n",
    "| continent    | The continent where the company is headquartered. |\n",
    "\n",
    "\n",
    "Your task is to first identify the three best-performing industries based on the number of new unicorns created over the last three years (2019, 2020, and 2021) combined.\n",
    "\n",
    "From there, you will write a query to return the industry, the year, the number of companies in these industries that became unicorns each year in 2019, 2020, and 2021, along with the average valuation per industry per year, converted to billions of dollars and rounded to two decimal places!\n",
    "\n",
    "As the firm is interested in trends for the top-performing industries, your results should be displayed by industry, then year in descending order.\n"
   ]
  },
  {
   "cell_type": "code",
   "execution_count": 1,
   "id": "7bda904b-0b3b-4b1e-9a3d-4c4aa9b3d3d3",
   "metadata": {
    "customType": "sql",
    "dataFrameVariableName": "df",
    "executionTime": 1119,
    "initial": false,
    "integrationId": "89e17161-a224-4a8a-846b-0adc0fe7a4b1",
    "lastSuccessfullyExecutedCode": "SELECT \n        industry, \n        EXTRACT(year from date_joined) as year, \n        count(d.company_id) as num_unicorns, \n        ROUND(avg(valuation)/ 1000000000, 2) as average_valuation_billions\nFROM \n        industries as i\n        INNER JOIN dates as d\n            ON i.company_id = d.company_id\n        INNER JOIN funding as f\n            ON d.company_id = f.company_id\nWHERE \n        EXTRACT(year from date_joined) IN (2019, 2020, 2021)\n    AND industry in (SELECT \n                             industry\n                     FROM \n                             industries as i\n                             INNER JOIN dates as d\n                                ON i.company_id = d.company_id\n                    WHERE \n                             EXTRACT(year from date_joined) IN (2019, 2020, 2021)\n                    GROUP BY \n                             industry\n                    ORDER BY \n                             count(d.company_id) desc\n                    LIMIT 3)\nGROUP BY \n            industry, year\nORDER BY \n            industry, year desc;\n"
   },
   "outputs": [
    {
     "data": {
      "application/com.datacamp.data-table.v1+json": {
       "table": {
        "data": [
         {
          "average_valuation_billions": 2.47,
          "index": 0,
          "industry": "E-commerce & direct-to-consumer",
          "num_unicorns": 47,
          "year": 2021
         },
         {
          "average_valuation_billions": 4,
          "index": 1,
          "industry": "E-commerce & direct-to-consumer",
          "num_unicorns": 16,
          "year": 2020
         },
         {
          "average_valuation_billions": 2.58,
          "index": 2,
          "industry": "E-commerce & direct-to-consumer",
          "num_unicorns": 12,
          "year": 2019
         },
         {
          "average_valuation_billions": 2.75,
          "index": 3,
          "industry": "Fintech",
          "num_unicorns": 138,
          "year": 2021
         },
         {
          "average_valuation_billions": 4.33,
          "index": 4,
          "industry": "Fintech",
          "num_unicorns": 15,
          "year": 2020
         },
         {
          "average_valuation_billions": 6.8,
          "index": 5,
          "industry": "Fintech",
          "num_unicorns": 20,
          "year": 2019
         },
         {
          "average_valuation_billions": 2.15,
          "index": 6,
          "industry": "Internet software & services",
          "num_unicorns": 119,
          "year": 2021
         },
         {
          "average_valuation_billions": 4.35,
          "index": 7,
          "industry": "Internet software & services",
          "num_unicorns": 20,
          "year": 2020
         },
         {
          "average_valuation_billions": 4.23,
          "index": 8,
          "industry": "Internet software & services",
          "num_unicorns": 13,
          "year": 2019
         }
        ],
        "schema": {
         "fields": [
          {
           "name": "index",
           "type": "integer"
          },
          {
           "name": "industry",
           "type": "string"
          },
          {
           "name": "year",
           "type": "integer"
          },
          {
           "name": "num_unicorns",
           "type": "integer"
          },
          {
           "name": "average_valuation_billions",
           "type": "number"
          }
         ],
         "pandas_version": "1.4.0",
         "primaryKey": [
          "index"
         ]
        }
       },
       "total_rows": 9,
       "truncation_type": null
      },
      "text/html": [
       "<div>\n",
       "<style scoped>\n",
       "    .dataframe tbody tr th:only-of-type {\n",
       "        vertical-align: middle;\n",
       "    }\n",
       "\n",
       "    .dataframe tbody tr th {\n",
       "        vertical-align: top;\n",
       "    }\n",
       "\n",
       "    .dataframe thead th {\n",
       "        text-align: right;\n",
       "    }\n",
       "</style>\n",
       "<table border=\"1\" class=\"dataframe\">\n",
       "  <thead>\n",
       "    <tr style=\"text-align: right;\">\n",
       "      <th></th>\n",
       "      <th>industry</th>\n",
       "      <th>year</th>\n",
       "      <th>num_unicorns</th>\n",
       "      <th>average_valuation_billions</th>\n",
       "    </tr>\n",
       "  </thead>\n",
       "  <tbody>\n",
       "    <tr>\n",
       "      <th>0</th>\n",
       "      <td>E-commerce &amp; direct-to-consumer</td>\n",
       "      <td>2021</td>\n",
       "      <td>47</td>\n",
       "      <td>2.47</td>\n",
       "    </tr>\n",
       "    <tr>\n",
       "      <th>1</th>\n",
       "      <td>E-commerce &amp; direct-to-consumer</td>\n",
       "      <td>2020</td>\n",
       "      <td>16</td>\n",
       "      <td>4.00</td>\n",
       "    </tr>\n",
       "    <tr>\n",
       "      <th>2</th>\n",
       "      <td>E-commerce &amp; direct-to-consumer</td>\n",
       "      <td>2019</td>\n",
       "      <td>12</td>\n",
       "      <td>2.58</td>\n",
       "    </tr>\n",
       "    <tr>\n",
       "      <th>3</th>\n",
       "      <td>Fintech</td>\n",
       "      <td>2021</td>\n",
       "      <td>138</td>\n",
       "      <td>2.75</td>\n",
       "    </tr>\n",
       "    <tr>\n",
       "      <th>4</th>\n",
       "      <td>Fintech</td>\n",
       "      <td>2020</td>\n",
       "      <td>15</td>\n",
       "      <td>4.33</td>\n",
       "    </tr>\n",
       "    <tr>\n",
       "      <th>5</th>\n",
       "      <td>Fintech</td>\n",
       "      <td>2019</td>\n",
       "      <td>20</td>\n",
       "      <td>6.80</td>\n",
       "    </tr>\n",
       "    <tr>\n",
       "      <th>6</th>\n",
       "      <td>Internet software &amp; services</td>\n",
       "      <td>2021</td>\n",
       "      <td>119</td>\n",
       "      <td>2.15</td>\n",
       "    </tr>\n",
       "    <tr>\n",
       "      <th>7</th>\n",
       "      <td>Internet software &amp; services</td>\n",
       "      <td>2020</td>\n",
       "      <td>20</td>\n",
       "      <td>4.35</td>\n",
       "    </tr>\n",
       "    <tr>\n",
       "      <th>8</th>\n",
       "      <td>Internet software &amp; services</td>\n",
       "      <td>2019</td>\n",
       "      <td>13</td>\n",
       "      <td>4.23</td>\n",
       "    </tr>\n",
       "  </tbody>\n",
       "</table>\n",
       "</div>"
      ],
      "text/plain": [
       "                          industry  ...  average_valuation_billions\n",
       "0  E-commerce & direct-to-consumer  ...                        2.47\n",
       "1  E-commerce & direct-to-consumer  ...                        4.00\n",
       "2  E-commerce & direct-to-consumer  ...                        2.58\n",
       "3                          Fintech  ...                        2.75\n",
       "4                          Fintech  ...                        4.33\n",
       "5                          Fintech  ...                        6.80\n",
       "6     Internet software & services  ...                        2.15\n",
       "7     Internet software & services  ...                        4.35\n",
       "8     Internet software & services  ...                        4.23\n",
       "\n",
       "[9 rows x 4 columns]"
      ]
     },
     "execution_count": 1,
     "metadata": {},
     "output_type": "execute_result"
    }
   ],
   "source": [
    "SELECT industry, \n",
    "       EXTRACT(year FROM date_joined) AS year, \n",
    "       COUNT(d.company_id) AS num_unicorns, \n",
    "       ROUND(AVG(valuation) / 1000000000, 2) AS average_valuation_billions\n",
    "FROM industries AS i\n",
    "     INNER JOIN dates AS d\n",
    "     ON i.company_id = d.company_id\n",
    "     INNER JOIN funding AS f\n",
    "     ON d.company_id = f.company_id\n",
    "WHERE EXTRACT(year FROM date_joined) IN (2019, 2020, 2021)\n",
    "      AND industry IN (SELECT industry\n",
    "                       FROM industries AS i\n",
    "                            INNER JOIN dates AS d\n",
    "                            ON i.company_id = d.company_id\n",
    "                       WHERE EXTRACT(year FROM date_joined) IN (2019, 2020, 2021)\n",
    "                       GROUP BY industry\n",
    "                       ORDER BY COUNT(d.company_id) DESC\n",
    "                       LIMIT 3)\n",
    "GROUP BY industry, year\n",
    "ORDER BY industry, year DESC;"
   ]
  }
 ],
 "metadata": {
  "colab": {
   "name": "Welcome to DataCamp Workspaces.ipynb",
   "provenance": []
  },
  "editor": "DataCamp Workspace",
  "kernelspec": {
   "display_name": "Python 3 (ipykernel)",
   "language": "python",
   "name": "python3"
  },
  "language_info": {
   "codemirror_mode": {
    "name": "ipython",
    "version": 3
   },
   "file_extension": ".py",
   "mimetype": "text/x-python",
   "name": "python",
   "nbconvert_exporter": "python",
   "pygments_lexer": "ipython3",
   "version": "3.9.13"
  }
 },
 "nbformat": 4,
 "nbformat_minor": 5
}
